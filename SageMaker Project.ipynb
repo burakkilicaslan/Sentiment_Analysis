{
 "cells": [
  {
   "cell_type": "markdown",
   "metadata": {},
   "source": [
    "# Creating a Sentiment Analysis Web App\n",
    "## Using PyTorch and SageMaker\n",
    "\n",
    "_Deep Learning Nanodegree Program | Deployment_\n",
    "\n",
    "---\n",
    "\n",
    "Now that we have a basic understanding of how SageMaker works we will try to use it to construct a complete project from end to end. Our goal will be to have a simple web page which a user can use to enter a movie review. The web page will then send the review off to our deployed model which will predict the sentiment of the entered review.\n",
    "\n",
    "## Instructions\n",
    "\n",
    "Some template code has already been provided for you, and you will need to implement additional functionality to successfully complete this notebook. You will not need to modify the included code beyond what is requested. Sections that begin with '**TODO**' in the header indicate that you need to complete or implement some portion within them. Instructions will be provided for each section and the specifics of the implementation are marked in the code block with a `# TODO: ...` comment. Please be sure to read the instructions carefully!\n",
    "\n",
    "In addition to implementing code, there will be questions for you to answer which relate to the task and your implementation. Each section where you will answer a question is preceded by a '**Question:**' header. Carefully read each question and provide your answer below the '**Answer:**' header by editing the Markdown cell.\n",
    "\n",
    "> **Note**: Code and Markdown cells can be executed using the **Shift+Enter** keyboard shortcut. In addition, a cell can be edited by typically clicking it (double-click for Markdown cells) or by pressing **Enter** while it is highlighted.\n",
    "\n",
    "## General Outline\n",
    "\n",
    "Recall the general outline for SageMaker projects using a notebook instance.\n",
    "\n",
    "1. Download or otherwise retrieve the data.\n",
    "2. Process / Prepare the data.\n",
    "3. Upload the processed data to S3.\n",
    "4. Train a chosen model.\n",
    "5. Test the trained model (typically using a batch transform job).\n",
    "6. Deploy the trained model.\n",
    "7. Use the deployed model.\n",
    "\n",
    "For this project, you will be following the steps in the general outline with some modifications. \n",
    "\n",
    "First, you will not be testing the model in its own step. You will still be testing the model, however, you will do it by deploying your model and then using the deployed model by sending the test data to it. One of the reasons for doing this is so that you can make sure that your deployed model is working correctly before moving forward.\n",
    "\n",
    "In addition, you will deploy and use your trained model a second time. In the second iteration you will customize the way that your trained model is deployed by including some of your own code. In addition, your newly deployed model will be used in the sentiment analysis web app."
   ]
  },
  {
   "cell_type": "markdown",
   "metadata": {},
   "source": [
    "## Step 1: Downloading the data\n",
    "\n",
    "As in the XGBoost in SageMaker notebook, we will be using the [IMDb dataset](http://ai.stanford.edu/~amaas/data/sentiment/)\n",
    "\n",
    "> Maas, Andrew L., et al. [Learning Word Vectors for Sentiment Analysis](http://ai.stanford.edu/~amaas/data/sentiment/). In _Proceedings of the 49th Annual Meeting of the Association for Computational Linguistics: Human Language Technologies_. Association for Computational Linguistics, 2011."
   ]
  },
  {
   "cell_type": "code",
   "execution_count": null,
   "metadata": {},
   "outputs": [],
   "source": [
    "%mkdir ../data\n",
    "!wget -O ../data/aclImdb_v1.tar.gz http://ai.stanford.edu/~amaas/data/sentiment/aclImdb_v1.tar.gz\n",
    "!tar -zxf ../data/aclImdb_v1.tar.gz -C ../data"
   ]
  },
  {
   "cell_type": "markdown",
   "metadata": {},
   "source": [
    "## Step 2: Preparing and Processing the data\n",
    "\n",
    "Also, as in the XGBoost notebook, we will be doing some initial data processing. The first few steps are the same as in the XGBoost example. To begin with, we will read in each of the reviews and combine them into a single input structure. Then, we will split the dataset into a training set and a testing set."
   ]
  },
  {
   "cell_type": "code",
   "execution_count": 3,
   "metadata": {},
   "outputs": [],
   "source": [
    "import os\n",
    "import glob\n",
    "\n",
    "def read_imdb_data(data_dir='../data/aclImdb'):\n",
    "    data = {}\n",
    "    labels = {}\n",
    "    \n",
    "    for data_type in ['train', 'test']:\n",
    "        data[data_type] = {}\n",
    "        labels[data_type] = {}\n",
    "        \n",
    "        for sentiment in ['pos', 'neg']:\n",
    "            data[data_type][sentiment] = []\n",
    "            labels[data_type][sentiment] = []\n",
    "            \n",
    "            path = os.path.join(data_dir, data_type, sentiment, '*.txt')\n",
    "            files = glob.glob(path)\n",
    "            \n",
    "            for f in files:\n",
    "                with open(f) as review:\n",
    "                    data[data_type][sentiment].append(review.read())\n",
    "                    # Here we represent a positive review by '1' and a negative review by '0'\n",
    "                    labels[data_type][sentiment].append(1 if sentiment == 'pos' else 0)\n",
    "                    \n",
    "            assert len(data[data_type][sentiment]) == len(labels[data_type][sentiment]), \\\n",
    "                    \"{}/{} data size does not match labels size\".format(data_type, sentiment)\n",
    "                \n",
    "    return data, labels"
   ]
  },
  {
   "cell_type": "code",
   "execution_count": 4,
   "metadata": {},
   "outputs": [
    {
     "name": "stdout",
     "output_type": "stream",
     "text": [
      "IMDB reviews: train = 12500 pos / 12500 neg, test = 12500 pos / 12500 neg\n"
     ]
    }
   ],
   "source": [
    "data, labels = read_imdb_data()\n",
    "print(\"IMDB reviews: train = {} pos / {} neg, test = {} pos / {} neg\".format(\n",
    "            len(data['train']['pos']), len(data['train']['neg']),\n",
    "            len(data['test']['pos']), len(data['test']['neg'])))"
   ]
  },
  {
   "cell_type": "markdown",
   "metadata": {},
   "source": [
    "Now that we've read the raw training and testing data from the downloaded dataset, we will combine the positive and negative reviews and shuffle the resulting records."
   ]
  },
  {
   "cell_type": "code",
   "execution_count": 5,
   "metadata": {},
   "outputs": [],
   "source": [
    "from sklearn.utils import shuffle\n",
    "\n",
    "def prepare_imdb_data(data, labels):\n",
    "    \"\"\"Prepare training and test sets from IMDb movie reviews.\"\"\"\n",
    "    \n",
    "    #Combine positive and negative reviews and labels\n",
    "    data_train = data['train']['pos'] + data['train']['neg']\n",
    "    data_test = data['test']['pos'] + data['test']['neg']\n",
    "    labels_train = labels['train']['pos'] + labels['train']['neg']\n",
    "    labels_test = labels['test']['pos'] + labels['test']['neg']\n",
    "    \n",
    "    #Shuffle reviews and corresponding labels within training and test sets\n",
    "    data_train, labels_train = shuffle(data_train, labels_train)\n",
    "    data_test, labels_test = shuffle(data_test, labels_test)\n",
    "    \n",
    "    # Return a unified training data, test data, training labels, test labets\n",
    "    return data_train, data_test, labels_train, labels_test"
   ]
  },
  {
   "cell_type": "code",
   "execution_count": 6,
   "metadata": {},
   "outputs": [
    {
     "name": "stdout",
     "output_type": "stream",
     "text": [
      "IMDb reviews (combined): train = 25000, test = 25000\n"
     ]
    }
   ],
   "source": [
    "train_X, test_X, train_y, test_y = prepare_imdb_data(data, labels)\n",
    "print(\"IMDb reviews (combined): train = {}, test = {}\".format(len(train_X), len(test_X)))"
   ]
  },
  {
   "cell_type": "markdown",
   "metadata": {},
   "source": [
    "Now that we have our training and testing sets unified and prepared, we should do a quick check and see an example of the data our model will be trained on. This is generally a good idea as it allows you to see how each of the further processing steps affects the reviews and it also ensures that the data has been loaded correctly."
   ]
  },
  {
   "cell_type": "code",
   "execution_count": 7,
   "metadata": {},
   "outputs": [
    {
     "name": "stdout",
     "output_type": "stream",
     "text": [
      "The ENTIRE MOVIE is flashbacks from the first Boogeyman movie as well as, inexplicably, footage from another Uli Lommel / Suzanna Love film Brainwaves. It is framed with some more current (from the early 90's anyway) footage that is boring, poorly acted and cheaply shot. Not only is the film almost completely flashbacks, they REPEAT the same flashbacks throughout the film. So you see the recycled footage over and over again, as if you hadn't seen it already. As if the originals weren't bad enough. I've never seen a movie so padded.... Someone was milking the last dollar out of these films. Total ripoff. And talk about padding... why do I have to write 10 lines about this trash? If I can convey that it's garbage in 2 lines, that should be enough.\n",
      "0\n"
     ]
    }
   ],
   "source": [
    "print(train_X[100])\n",
    "print(train_y[100])"
   ]
  },
  {
   "cell_type": "markdown",
   "metadata": {},
   "source": [
    "The first step in processing the reviews is to make sure that any html tags that appear should be removed. In addition we wish to tokenize our input, that way words such as *entertained* and *entertaining* are considered the same with regard to sentiment analysis."
   ]
  },
  {
   "cell_type": "code",
   "execution_count": 8,
   "metadata": {},
   "outputs": [],
   "source": [
    "import nltk\n",
    "from nltk.corpus import stopwords\n",
    "from nltk.stem.porter import *\n",
    "\n",
    "import re\n",
    "from bs4 import BeautifulSoup\n",
    "\n",
    "def review_to_words(review):\n",
    "    nltk.download(\"stopwords\", quiet=True)\n",
    "    stemmer = PorterStemmer()\n",
    "    \n",
    "    text = BeautifulSoup(review, \"html.parser\").get_text() # Remove HTML tags\n",
    "    text = re.sub(r\"[^a-zA-Z0-9]\", \" \", text.lower()) # Convert to lower case\n",
    "    words = text.split() # Split string into words\n",
    "    words = [w for w in words if w not in stopwords.words(\"english\")] # Remove stopwords\n",
    "    words = [PorterStemmer().stem(w) for w in words] # stem\n",
    "    \n",
    "    return words"
   ]
  },
  {
   "cell_type": "markdown",
   "metadata": {},
   "source": [
    "The `review_to_words` method defined above uses `BeautifulSoup` to remove any html tags that appear and uses the `nltk` package to tokenize the reviews. As a check to ensure we know how everything is working, try applying `review_to_words` to one of the reviews in the training set."
   ]
  },
  {
   "cell_type": "code",
   "execution_count": 9,
   "metadata": {},
   "outputs": [
    {
     "name": "stdout",
     "output_type": "stream",
     "text": [
      "The ENTIRE MOVIE is flashbacks from the first Boogeyman movie as well as, inexplicably, footage from another Uli Lommel / Suzanna Love film Brainwaves. It is framed with some more current (from the early 90's anyway) footage that is boring, poorly acted and cheaply shot. Not only is the film almost completely flashbacks, they REPEAT the same flashbacks throughout the film. So you see the recycled footage over and over again, as if you hadn't seen it already. As if the originals weren't bad enough. I've never seen a movie so padded.... Someone was milking the last dollar out of these films. Total ripoff. And talk about padding... why do I have to write 10 lines about this trash? If I can convey that it's garbage in 2 lines, that should be enough.\n"
     ]
    },
    {
     "data": {
      "text/plain": [
       "['entir',\n",
       " 'movi',\n",
       " 'flashback',\n",
       " 'first',\n",
       " 'boogeyman',\n",
       " 'movi',\n",
       " 'well',\n",
       " 'inexplic',\n",
       " 'footag',\n",
       " 'anoth',\n",
       " 'uli',\n",
       " 'lommel',\n",
       " 'suzanna',\n",
       " 'love',\n",
       " 'film',\n",
       " 'brainwav',\n",
       " 'frame',\n",
       " 'current',\n",
       " 'earli',\n",
       " '90',\n",
       " 'anyway',\n",
       " 'footag',\n",
       " 'bore',\n",
       " 'poorli',\n",
       " 'act',\n",
       " 'cheapli',\n",
       " 'shot',\n",
       " 'film',\n",
       " 'almost',\n",
       " 'complet',\n",
       " 'flashback',\n",
       " 'repeat',\n",
       " 'flashback',\n",
       " 'throughout',\n",
       " 'film',\n",
       " 'see',\n",
       " 'recycl',\n",
       " 'footag',\n",
       " 'seen',\n",
       " 'alreadi',\n",
       " 'origin',\n",
       " 'bad',\n",
       " 'enough',\n",
       " 'never',\n",
       " 'seen',\n",
       " 'movi',\n",
       " 'pad',\n",
       " 'someon',\n",
       " 'milk',\n",
       " 'last',\n",
       " 'dollar',\n",
       " 'film',\n",
       " 'total',\n",
       " 'ripoff',\n",
       " 'talk',\n",
       " 'pad',\n",
       " 'write',\n",
       " '10',\n",
       " 'line',\n",
       " 'trash',\n",
       " 'convey',\n",
       " 'garbag',\n",
       " '2',\n",
       " 'line',\n",
       " 'enough']"
      ]
     },
     "execution_count": 9,
     "metadata": {},
     "output_type": "execute_result"
    }
   ],
   "source": [
    "# TODO: Apply review_to_words to a review (train_X[100] or any other review)\n",
    "print(train_X[100])\n",
    "review_to_words(train_X[100])"
   ]
  },
  {
   "cell_type": "markdown",
   "metadata": {},
   "source": [
    "**Question:** Above we mentioned that `review_to_words` method removes html formatting and allows us to tokenize the words found in a review, for example, converting *entertained* and *entertaining* into *entertain* so that they are treated as though they are the same word. What else, if anything, does this method do to the input?"
   ]
  },
  {
   "cell_type": "markdown",
   "metadata": {},
   "source": [
    "**Answer:** In addition to html formatting and tokenize of review_to_words method, it also removes stopwords such as \"the\", \"a\", \"an\" which we can ignore them when analyze the review.  "
   ]
  },
  {
   "cell_type": "markdown",
   "metadata": {},
   "source": [
    "The method below applies the `review_to_words` method to each of the reviews in the training and testing datasets. In addition it caches the results. This is because performing this processing step can take a long time. This way if you are unable to complete the notebook in the current session, you can come back without needing to process the data a second time."
   ]
  },
  {
   "cell_type": "code",
   "execution_count": 10,
   "metadata": {},
   "outputs": [],
   "source": [
    "import pickle\n",
    "\n",
    "cache_dir = os.path.join(\"../cache\", \"sentiment_analysis\")  # where to store cache files\n",
    "os.makedirs(cache_dir, exist_ok=True)  # ensure cache directory exists\n",
    "\n",
    "def preprocess_data(data_train, data_test, labels_train, labels_test,\n",
    "                    cache_dir=cache_dir, cache_file=\"preprocessed_data.pkl\"):\n",
    "    \"\"\"Convert each review to words; read from cache if available.\"\"\"\n",
    "\n",
    "    # If cache_file is not None, try to read from it first\n",
    "    cache_data = None\n",
    "    if cache_file is not None:\n",
    "        try:\n",
    "            with open(os.path.join(cache_dir, cache_file), \"rb\") as f:\n",
    "                cache_data = pickle.load(f)\n",
    "            print(\"Read preprocessed data from cache file:\", cache_file)\n",
    "        except:\n",
    "            pass  # unable to read from cache, but that's okay\n",
    "    \n",
    "    # If cache is missing, then do the heavy lifting\n",
    "    if cache_data is None:\n",
    "        # Preprocess training and test data to obtain words for each review\n",
    "        #words_train = list(map(review_to_words, data_train))\n",
    "        #words_test = list(map(review_to_words, data_test))\n",
    "        words_train = [review_to_words(review) for review in data_train]\n",
    "        words_test = [review_to_words(review) for review in data_test]\n",
    "        \n",
    "        # Write to cache file for future runs\n",
    "        if cache_file is not None:\n",
    "            cache_data = dict(words_train=words_train, words_test=words_test,\n",
    "                              labels_train=labels_train, labels_test=labels_test)\n",
    "            with open(os.path.join(cache_dir, cache_file), \"wb\") as f:\n",
    "                pickle.dump(cache_data, f)\n",
    "            print(\"Wrote preprocessed data to cache file:\", cache_file)\n",
    "    else:\n",
    "        # Unpack data loaded from cache file\n",
    "        words_train, words_test, labels_train, labels_test = (cache_data['words_train'],\n",
    "                cache_data['words_test'], cache_data['labels_train'], cache_data['labels_test'])\n",
    "    \n",
    "    return words_train, words_test, labels_train, labels_test"
   ]
  },
  {
   "cell_type": "code",
   "execution_count": 11,
   "metadata": {},
   "outputs": [
    {
     "name": "stdout",
     "output_type": "stream",
     "text": [
      "Read preprocessed data from cache file: preprocessed_data.pkl\n"
     ]
    }
   ],
   "source": [
    "# Preprocess data\n",
    "train_X, test_X, train_y, test_y = preprocess_data(train_X, test_X, train_y, test_y)"
   ]
  },
  {
   "cell_type": "markdown",
   "metadata": {},
   "source": [
    "## Transform the data\n",
    "\n",
    "In the XGBoost notebook we transformed the data from its word representation to a bag-of-words feature representation. For the model we are going to construct in this notebook we will construct a feature representation which is very similar. To start, we will represent each word as an integer. Of course, some of the words that appear in the reviews occur very infrequently and so likely don't contain much information for the purposes of sentiment analysis. The way we will deal with this problem is that we will fix the size of our working vocabulary and we will only include the words that appear most frequently. We will then combine all of the infrequent words into a single category and, in our case, we will label it as `1`.\n",
    "\n",
    "Since we will be using a recurrent neural network, it will be convenient if the length of each review is the same. To do this, we will fix a size for our reviews and then pad short reviews with the category 'no word' (which we will label `0`) and truncate long reviews."
   ]
  },
  {
   "cell_type": "markdown",
   "metadata": {},
   "source": [
    "### (TODO) Create a word dictionary\n",
    "\n",
    "To begin with, we need to construct a way to map words that appear in the reviews to integers. Here we fix the size of our vocabulary (including the 'no word' and 'infrequent' categories) to be `5000` but you may wish to change this to see how it affects the model.\n",
    "\n",
    "> **TODO:** Complete the implementation for the `build_dict()` method below. Note that even though the vocab_size is set to `5000`, we only want to construct a mapping for the most frequently appearing `4998` words. This is because we want to reserve the special labels `0` for 'no word' and `1` for 'infrequent word'."
   ]
  },
  {
   "cell_type": "code",
   "execution_count": 12,
   "metadata": {},
   "outputs": [
    {
     "name": "stdout",
     "output_type": "stream",
     "text": [
      "['wow', 'unusu', 'one', 'regard', 'usual', 'first', 'movi', 'long', 'string', 'sequel', 'best', 'bunch', 'peopl', 'surpris', 'sequel', 'actual', 'better', 'tarzan', 'thought', 'movi', 'worst', 'bunch', 'least', 'first', 'six', 'compris', 'tarzan', 'collect', 'dvd', 'packag', 'gladli', 'watch', 'sequel', 'multipl', 'time', 'sit', 'turkey', 'thank', 'sever', 'charact', 'well', 'let', 'start', 'good', 'news', 'first', 'good', 'plenti', 'action', 'lot', 'wild', 'anim', 'display', 'even', 'stock', 'footag', 'see', 'lion', 'attack', 'crocodil', 'hippo', 'panther', 'name', 'see', 'sever', 'differ', 'tribe', 'kind', 'includ', 'pygmi', 'call', 'dwarf', 'movi', 'sinc', 'movi', 'made', 'almost', '75', 'year', 'ago', 'knock', 'realism', 'movi', 'long', 'ago', 'best', 'put', 'actor', 'talk', 'front', 'fake', 'background', 'howev', 'weissmul', 'lot', 'action', 'scene', 'great', 'shape', 'sullivan', 'make', 'well', 'built', 'handsom', 'coupl', 'ever', 'one', 'golden', 'year', 'cinema', 'film', 'histor', 'valu', 'mani', 'sequel', 'show', 'tarzan', 'acquir', 'jane', 'begin', 'learn', 'english', 'languag', 'bad', 'moment', 'jane', 'parker', 'taken', 'tarzan', 'almost', 'everi', 'scene', 'maureen', 'sullivan', 'hyster', 'shriek', 'scream', 'scene', 'scene', 'enough', 'give', 'headach', 'ruin', 'film', 'thank', 'calm', 'sequel', 'movi', 'movi', 'also', 'favor', 'great', 'white', 'hunter', 'imag', 'c', 'aubrey', 'smith', 'play', 'jane', 'father', 'neil', 'hamilton', 'harri', 'holt', 'safari', 'guid', 'shoot', 'everi', 'anim', 'within', 'sight', 'whether', 'beast', 'threaten', 'peopl', 'kill', 'happi', 'particularli', 'smith', 'anoth', 'note', 'bad', 'anyth', 'explain', 'tarzan', 'got', 'jungl', 'first', 'place', 'histori', 'footag', 'grow', 'jane', 'group', 'get', 'certain', 'point', 'africa']\n"
     ]
    }
   ],
   "source": [
    "print(train_X[100])"
   ]
  },
  {
   "cell_type": "code",
   "execution_count": 30,
   "metadata": {},
   "outputs": [],
   "source": [
    "import numpy as np\n",
    "\n",
    "def build_dict(data, vocab_size = 5000):\n",
    "    \"\"\"Construct and return a dictionary mapping each of the most frequently appearing words to a unique integer.\"\"\"\n",
    "    \n",
    "    # TODO: Determine how often each word appears in `data`. Note that `data` is a list of sentences and that a\n",
    "    #       sentence is a list of words.\n",
    "    \n",
    "    word_count = {} # A dict storing the words that appear in the reviews along with how often they occur\n",
    "    \n",
    "    for i in data:\n",
    "        for words in i:\n",
    "            if words in word_count:\n",
    "                word_count[words] += 1\n",
    "            else: \n",
    "                word_count[words] = 1\n",
    "            \n",
    "    \n",
    "    # TODO: Sort the words found in `data` so that sorted_words[0] is the most frequently appearing word and\n",
    "    #       sorted_words[-1] is the least frequently appearing word.\n",
    "    \n",
    "    sorted_words = None\n",
    "\n",
    "    sorted_words = [item[0] for item in sorted(word_count.items(), key=lambda x: x[1], reverse=True)]\n",
    "    #It provides all words sorted according to frequency. \n",
    "    #It takes only words rather than their frequency number with enumarate them \n",
    "    \n",
    "    #sorted_words = sorted(word_count.items(), key = lambda item: (-item[1], item[0])) \n",
    "    #This line of code sorted words as well however, it takes both words and their frequency number. We don't want that. \n",
    "\n",
    "    word_dict = {} # This is what we are building, a dictionary that translates words into integers\n",
    "    for idx, word in enumerate(sorted_words[:vocab_size - 2]): # The -2 is so that we save room for the 'no word'\n",
    "        word_dict[word] = idx + 2                              # 'infrequent' labels\n",
    "        \n",
    "    return word_dict"
   ]
  },
  {
   "cell_type": "code",
   "execution_count": 31,
   "metadata": {},
   "outputs": [],
   "source": [
    "word_dict = build_dict(train_X)"
   ]
  },
  {
   "cell_type": "code",
   "execution_count": 32,
   "metadata": {},
   "outputs": [
    {
     "name": "stdout",
     "output_type": "stream",
     "text": [
      "{'movi': 2, 'film': 3, 'one': 4, 'like': 5, 'time': 6, 'good': 7, 'make': 8, 'charact': 9, 'get': 10, 'see': 11, 'watch': 12, 'stori': 13, 'even': 14, 'would': 15, 'realli': 16, 'well': 17, 'scene': 18, 'look': 19, 'show': 20, 'much': 21, 'end': 22, 'peopl': 23, 'bad': 24, 'go': 25, 'great': 26, 'also': 27, 'first': 28, 'love': 29, 'think': 30, 'way': 31, 'act': 32, 'play': 33, 'made': 34, 'thing': 35, 'could': 36, 'know': 37, 'say': 38, 'seem': 39, 'work': 40, 'plot': 41, 'two': 42, 'actor': 43, 'year': 44, 'come': 45, 'mani': 46, 'seen': 47, 'take': 48, 'want': 49, 'life': 50, 'never': 51, 'littl': 52, 'best': 53, 'tri': 54, 'man': 55, 'ever': 56, 'give': 57, 'better': 58, 'still': 59, 'perform': 60, 'find': 61, 'feel': 62, 'part': 63, 'back': 64, 'use': 65, 'someth': 66, 'director': 67, 'actual': 68, 'interest': 69, 'lot': 70, 'real': 71, 'old': 72, 'cast': 73, 'though': 74, 'live': 75, 'star': 76, 'enjoy': 77, 'guy': 78, 'anoth': 79, 'new': 80, 'role': 81, 'noth': 82, '10': 83, 'funni': 84, 'music': 85, 'point': 86, 'start': 87, 'set': 88, 'girl': 89, 'origin': 90, 'day': 91, 'world': 92, 'everi': 93, 'believ': 94, 'turn': 95, 'quit': 96, 'us': 97, 'direct': 98, 'thought': 99, 'fact': 100, 'minut': 101, 'horror': 102, 'kill': 103, 'action': 104, 'comedi': 105, 'pretti': 106, 'young': 107, 'wonder': 108, 'happen': 109, 'around': 110, 'got': 111, 'effect': 112, 'right': 113, 'long': 114, 'howev': 115, 'big': 116, 'line': 117, 'famili': 118, 'enough': 119, 'seri': 120, 'may': 121, 'need': 122, 'fan': 123, 'bit': 124, 'script': 125, 'beauti': 126, 'person': 127, 'becom': 128, 'without': 129, 'must': 130, 'alway': 131, 'friend': 132, 'tell': 133, 'reason': 134, 'saw': 135, 'last': 136, 'final': 137, 'kid': 138, 'almost': 139, 'put': 140, 'least': 141, 'sure': 142, 'done': 143, 'whole': 144, 'place': 145, 'complet': 146, 'kind': 147, 'expect': 148, 'differ': 149, 'shot': 150, 'far': 151, 'mean': 152, 'anyth': 153, 'book': 154, 'laugh': 155, 'might': 156, 'name': 157, 'sinc': 158, 'begin': 159, '2': 160, 'probabl': 161, 'woman': 162, 'help': 163, 'entertain': 164, 'let': 165, 'screen': 166, 'call': 167, 'tv': 168, 'moment': 169, 'away': 170, 'read': 171, 'yet': 172, 'rather': 173, 'worst': 174, 'run': 175, 'fun': 176, 'lead': 177, 'hard': 178, 'audienc': 179, 'idea': 180, 'anyon': 181, 'episod': 182, 'american': 183, 'found': 184, 'appear': 185, 'bore': 186, 'especi': 187, 'although': 188, 'hope': 189, 'keep': 190, 'cours': 191, 'anim': 192, 'job': 193, 'goe': 194, 'move': 195, 'sens': 196, 'dvd': 197, 'version': 198, 'war': 199, 'money': 200, 'someon': 201, 'mind': 202, 'mayb': 203, 'problem': 204, 'true': 205, 'hous': 206, 'everyth': 207, 'nice': 208, 'second': 209, 'rate': 210, 'three': 211, 'night': 212, 'follow': 213, 'face': 214, 'recommend': 215, 'product': 216, 'main': 217, 'worth': 218, 'leav': 219, 'human': 220, 'special': 221, 'excel': 222, 'togeth': 223, 'wast': 224, 'everyon': 225, 'sound': 226, 'john': 227, 'hand': 228, '1': 229, 'father': 230, 'later': 231, 'eye': 232, 'said': 233, 'view': 234, 'instead': 235, 'review': 236, 'boy': 237, 'high': 238, 'hour': 239, 'miss': 240, 'talk': 241, 'classic': 242, 'wife': 243, 'understand': 244, 'left': 245, 'care': 246, 'black': 247, 'death': 248, 'open': 249, 'murder': 250, 'write': 251, 'half': 252, 'head': 253, 'rememb': 254, 'chang': 255, 'viewer': 256, 'fight': 257, 'gener': 258, 'surpris': 259, 'short': 260, 'includ': 261, 'die': 262, 'fall': 263, 'less': 264, 'els': 265, 'entir': 266, 'piec': 267, 'involv': 268, 'pictur': 269, 'simpli': 270, 'top': 271, 'home': 272, 'power': 273, 'total': 274, 'usual': 275, 'budget': 276, 'attempt': 277, 'suppos': 278, 'releas': 279, 'hollywood': 280, 'terribl': 281, 'song': 282, 'men': 283, 'possibl': 284, 'featur': 285, 'portray': 286, 'disappoint': 287, 'poor': 288, '3': 289, 'coupl': 290, 'stupid': 291, 'camera': 292, 'dead': 293, 'wrong': 294, 'low': 295, 'produc': 296, 'either': 297, 'video': 298, 'aw': 299, 'definit': 300, 'except': 301, 'rest': 302, 'given': 303, 'absolut': 304, 'women': 305, 'lack': 306, 'word': 307, 'writer': 308, 'titl': 309, 'talent': 310, 'decid': 311, 'full': 312, 'perfect': 313, 'along': 314, 'style': 315, 'close': 316, 'truli': 317, 'school': 318, 'save': 319, 'emot': 320, 'sex': 321, 'age': 322, 'next': 323, 'bring': 324, 'mr': 325, 'case': 326, 'killer': 327, 'heart': 328, 'comment': 329, 'sort': 330, 'creat': 331, 'perhap': 332, 'came': 333, 'brother': 334, 'sever': 335, 'joke': 336, 'art': 337, 'dialogu': 338, 'game': 339, 'small': 340, 'base': 341, 'flick': 342, 'written': 343, 'sequenc': 344, 'meet': 345, 'earli': 346, 'often': 347, 'other': 348, 'mother': 349, 'develop': 350, 'humor': 351, 'actress': 352, 'consid': 353, 'dark': 354, 'guess': 355, 'amaz': 356, 'unfortun': 357, 'light': 358, 'lost': 359, 'exampl': 360, 'cinema': 361, 'drama': 362, 'ye': 363, 'white': 364, 'experi': 365, 'imagin': 366, 'mention': 367, 'stop': 368, 'natur': 369, 'forc': 370, 'manag': 371, 'felt': 372, 'cut': 373, 'present': 374, 'children': 375, 'fail': 376, 'son': 377, 'qualiti': 378, 'car': 379, 'support': 380, 'ask': 381, 'hit': 382, 'side': 383, 'voic': 384, 'extrem': 385, 'impress': 386, 'wors': 387, 'evil': 388, 'went': 389, 'stand': 390, 'certainli': 391, 'basic': 392, 'oh': 393, 'overal': 394, 'favorit': 395, 'horribl': 396, 'mysteri': 397, 'number': 398, 'type': 399, 'danc': 400, 'wait': 401, 'hero': 402, 'alreadi': 403, '5': 404, 'learn': 405, 'matter': 406, '4': 407, 'michael': 408, 'genr': 409, 'fine': 410, 'despit': 411, 'throughout': 412, 'walk': 413, 'success': 414, 'histori': 415, 'question': 416, 'zombi': 417, 'town': 418, 'realiz': 419, 'relationship': 420, 'child': 421, 'past': 422, 'daughter': 423, 'late': 424, 'b': 425, 'wish': 426, 'credit': 427, 'hate': 428, 'event': 429, 'theme': 430, 'touch': 431, 'citi': 432, 'today': 433, 'sometim': 434, 'behind': 435, 'god': 436, 'twist': 437, 'sit': 438, 'stay': 439, 'annoy': 440, 'deal': 441, 'abl': 442, 'rent': 443, 'pleas': 444, 'edit': 445, 'blood': 446, 'deserv': 447, 'anyway': 448, 'comic': 449, 'appar': 450, 'soon': 451, 'gave': 452, 'etc': 453, 'level': 454, 'slow': 455, 'chanc': 456, 'score': 457, 'bodi': 458, 'brilliant': 459, 'incred': 460, 'figur': 461, 'situat': 462, 'self': 463, 'major': 464, 'stuff': 465, 'decent': 466, 'element': 467, 'dream': 468, 'return': 469, 'obvious': 470, 'order': 471, 'continu': 472, 'pace': 473, 'ridicul': 474, 'happi': 475, 'highli': 476, 'group': 477, 'add': 478, 'thank': 479, 'ladi': 480, 'novel': 481, 'pain': 482, 'speak': 483, 'career': 484, 'shoot': 485, 'strang': 486, 'heard': 487, 'sad': 488, 'polic': 489, 'husband': 490, 'import': 491, 'break': 492, 'took': 493, 'strong': 494, 'cannot': 495, 'robert': 496, 'predict': 497, 'violenc': 498, 'hilari': 499, 'recent': 500, 'countri': 501, 'known': 502, 'particularli': 503, 'pick': 504, 'documentari': 505, 'season': 506, 'critic': 507, 'jame': 508, 'compar': 509, 'obviou': 510, 'alon': 511, 'told': 512, 'state': 513, 'rock': 514, 'visual': 515, 'theater': 516, 'exist': 517, 'offer': 518, 'opinion': 519, 'gore': 520, 'crap': 521, 'hold': 522, 'result': 523, 'realiti': 524, 'hear': 525, 'room': 526, 'clich': 527, 'effort': 528, 'thriller': 529, 'caus': 530, 'sequel': 531, 'serious': 532, 'explain': 533, 'king': 534, 'local': 535, 'ago': 536, 'none': 537, 'hell': 538, 'note': 539, 'allow': 540, 'sister': 541, 'david': 542, 'simpl': 543, 'femal': 544, 'deliv': 545, 'ok': 546, 'convinc': 547, 'class': 548, 'check': 549, 'suspens': 550, 'win': 551, 'oscar': 552, 'buy': 553, 'huge': 554, 'valu': 555, 'sexual': 556, 'cool': 557, 'scari': 558, 'similar': 559, 'excit': 560, 'provid': 561, 'exactli': 562, 'apart': 563, 'avoid': 564, 'shown': 565, 'seriou': 566, 'english': 567, 'taken': 568, 'whose': 569, 'cinematographi': 570, 'shock': 571, 'polit': 572, 'spoiler': 573, 'offic': 574, 'across': 575, 'middl': 576, 'pass': 577, 'street': 578, 'messag': 579, 'silli': 580, 'charm': 581, 'somewhat': 582, 'modern': 583, 'confus': 584, 'filmmak': 585, 'form': 586, 'tale': 587, 'singl': 588, 'jack': 589, 'mostli': 590, 'william': 591, 'carri': 592, 'attent': 593, 'sing': 594, 'five': 595, 'subject': 596, 'richard': 597, 'prove': 598, 'team': 599, 'stage': 600, 'cop': 601, 'unlik': 602, 'georg': 603, 'monster': 604, 'televis': 605, 'earth': 606, 'cover': 607, 'villain': 608, 'pay': 609, 'marri': 610, 'toward': 611, 'build': 612, 'parent': 613, 'pull': 614, 'due': 615, 'fill': 616, 'respect': 617, 'four': 618, 'dialog': 619, 'remind': 620, 'futur': 621, 'weak': 622, 'typic': 623, '7': 624, 'cheap': 625, 'intellig': 626, 'atmospher': 627, 'british': 628, '80': 629, 'clearli': 630, 'paul': 631, 'non': 632, 'dog': 633, 'knew': 634, 'artist': 635, '8': 636, 'fast': 637, 'crime': 638, 'easili': 639, 'escap': 640, 'doubt': 641, 'adult': 642, 'detail': 643, 'date': 644, 'member': 645, 'fire': 646, 'romant': 647, 'gun': 648, 'drive': 649, 'straight': 650, 'beyond': 651, 'fit': 652, 'attack': 653, 'imag': 654, 'upon': 655, 'posit': 656, 'whether': 657, 'fantast': 658, 'peter': 659, 'captur': 660, 'aspect': 661, 'appreci': 662, 'ten': 663, 'plan': 664, 'discov': 665, 'remain': 666, 'near': 667, 'period': 668, 'air': 669, 'realist': 670, 'mark': 671, 'red': 672, 'dull': 673, 'adapt': 674, 'within': 675, 'spend': 676, 'lose': 677, 'color': 678, 'materi': 679, 'chase': 680, 'mari': 681, 'storylin': 682, 'forget': 683, 'bunch': 684, 'clear': 685, 'lee': 686, 'victim': 687, 'nearli': 688, 'box': 689, 'york': 690, 'match': 691, 'inspir': 692, 'mess': 693, 'finish': 694, 'standard': 695, 'easi': 696, 'truth': 697, 'suffer': 698, 'busi': 699, 'space': 700, 'bill': 701, 'dramat': 702, 'western': 703, 'e': 704, 'list': 705, 'battl': 706, 'notic': 707, 'de': 708, 'french': 709, 'ad': 710, '9': 711, 'tom': 712, 'larg': 713, 'among': 714, 'eventu': 715, 'train': 716, 'accept': 717, 'agre': 718, 'spirit': 719, 'soundtrack': 720, 'third': 721, 'teenag': 722, 'soldier': 723, 'adventur': 724, 'drug': 725, 'sorri': 726, 'famou': 727, 'suggest': 728, 'babi': 729, 'cri': 730, 'normal': 731, 'ultim': 732, 'troubl': 733, 'contain': 734, 'certain': 735, 'cultur': 736, 'romanc': 737, 'rare': 738, 'lame': 739, 'somehow': 740, 'disney': 741, 'mix': 742, 'gone': 743, 'cartoon': 744, 'student': 745, 'fear': 746, 'reveal': 747, 'suck': 748, 'kept': 749, 'attract': 750, 'appeal': 751, 'premis': 752, 'greatest': 753, 'secret': 754, 'design': 755, 'shame': 756, 'throw': 757, 'copi': 758, 'scare': 759, 'wit': 760, 'admit': 761, 'america': 762, 'relat': 763, 'particular': 764, 'brought': 765, 'screenplay': 766, 'whatev': 767, 'pure': 768, '70': 769, 'averag': 770, 'harri': 771, 'master': 772, 'describ': 773, 'treat': 774, 'male': 775, '20': 776, 'fantasi': 777, 'issu': 778, 'warn': 779, 'inde': 780, 'background': 781, 'forward': 782, 'free': 783, 'project': 784, 'memor': 785, 'japanes': 786, 'poorli': 787, 'award': 788, 'locat': 789, 'amus': 790, 'potenti': 791, 'struggl': 792, 'weird': 793, 'magic': 794, 'societi': 795, 'okay': 796, 'doctor': 797, 'imdb': 798, 'accent': 799, 'hot': 800, 'water': 801, 'alien': 802, '30': 803, 'express': 804, 'dr': 805, 'odd': 806, 'crazi': 807, 'choic': 808, 'fiction': 809, 'studio': 810, 'control': 811, 'becam': 812, 'masterpiec': 813, 'difficult': 814, 'fli': 815, 'joe': 816, 'scream': 817, 'costum': 818, 'lover': 819, 'uniqu': 820, 'refer': 821, 'remak': 822, 'vampir': 823, 'girlfriend': 824, 'prison': 825, 'execut': 826, 'wear': 827, 'jump': 828, 'unless': 829, 'wood': 830, 'creepi': 831, 'cheesi': 832, 'superb': 833, 'otherwis': 834, 'parti': 835, 'roll': 836, 'ghost': 837, 'mad': 838, 'public': 839, 'depict': 840, 'moral': 841, 'badli': 842, 'week': 843, 'earlier': 844, 'jane': 845, 'dumb': 846, 'fi': 847, 'grow': 848, 'flaw': 849, 'deep': 850, 'sci': 851, 'cat': 852, 'maker': 853, 'connect': 854, 'older': 855, 'footag': 856, 'plenti': 857, 'bother': 858, 'outsid': 859, 'stick': 860, 'gay': 861, 'catch': 862, 'plu': 863, 'co': 864, 'popular': 865, 'equal': 866, 'social': 867, 'disturb': 868, 'quickli': 869, 'perfectli': 870, 'dress': 871, '90': 872, 'era': 873, 'mistak': 874, 'lie': 875, 'ride': 876, 'previou': 877, 'combin': 878, 'concept': 879, 'band': 880, 'rich': 881, 'surviv': 882, 'answer': 883, 'front': 884, 'sweet': 885, 'christma': 886, 'insid': 887, 'concern': 888, 'eat': 889, 'bare': 890, 'beat': 891, 'ben': 892, 'listen': 893, 'c': 894, 'serv': 895, 'term': 896, 'german': 897, 'la': 898, 'meant': 899, 'stereotyp': 900, 'hardli': 901, 'law': 902, 'innoc': 903, 'desper': 904, 'memori': 905, 'promis': 906, 'cute': 907, 'intent': 908, 'variou': 909, 'inform': 910, 'steal': 911, 'brain': 912, 'post': 913, 'tone': 914, 'island': 915, 'amount': 916, 'track': 917, 'compani': 918, 'nuditi': 919, 'claim': 920, 'store': 921, '50': 922, 'flat': 923, 'hair': 924, 'univers': 925, 'land': 926, 'fairli': 927, 'danger': 928, 'scott': 929, 'kick': 930, 'player': 931, 'plain': 932, 'step': 933, 'crew': 934, 'toni': 935, 'share': 936, 'tast': 937, 'centuri': 938, 'achiev': 939, 'engag': 940, 'cold': 941, 'travel': 942, 'record': 943, 'suit': 944, 'rip': 945, 'manner': 946, 'sadli': 947, 'wrote': 948, 'spot': 949, 'tension': 950, 'intens': 951, 'fascin': 952, 'familiar': 953, 'remark': 954, 'depth': 955, 'burn': 956, 'destroy': 957, 'histor': 958, 'sleep': 959, 'purpos': 960, 'languag': 961, 'ignor': 962, 'ruin': 963, 'delight': 964, 'unbeliev': 965, 'italian': 966, 'abil': 967, 'collect': 968, 'soul': 969, 'clever': 970, 'detect': 971, 'violent': 972, 'rape': 973, 'reach': 974, 'door': 975, 'liter': 976, 'scienc': 977, 'trash': 978, 'caught': 979, 'commun': 980, 'reveng': 981, 'creatur': 982, 'trip': 983, 'approach': 984, 'intrigu': 985, 'fashion': 986, 'introduc': 987, 'skill': 988, 'paint': 989, 'channel': 990, 'complex': 991, 'camp': 992, 'christian': 993, 'extra': 994, 'hole': 995, 'ann': 996, 'immedi': 997, 'mental': 998, 'limit': 999, '6': 1000, 'slightli': 1001, 'million': 1002, 'comput': 1003, 'mere': 1004, 'conclus': 1005, 'slasher': 1006, 'suddenli': 1007, 'imposs': 1008, 'crimin': 1009, 'teen': 1010, 'neither': 1011, 'physic': 1012, 'nation': 1013, 'spent': 1014, 'respons': 1015, 'planet': 1016, 'fake': 1017, 'receiv': 1018, 'blue': 1019, 'sick': 1020, 'bizarr': 1021, 'embarrass': 1022, 'indian': 1023, '15': 1024, 'ring': 1025, 'pop': 1026, 'drop': 1027, 'drag': 1028, 'haunt': 1029, 'suspect': 1030, 'pointless': 1031, 'edg': 1032, 'search': 1033, 'handl': 1034, 'biggest': 1035, 'common': 1036, 'hurt': 1037, 'faith': 1038, 'arriv': 1039, 'technic': 1040, 'angel': 1041, 'dad': 1042, 'genuin': 1043, 'solid': 1044, 'f': 1045, 'awesom': 1046, 'former': 1047, 'focu': 1048, 'van': 1049, 'colleg': 1050, 'count': 1051, 'tear': 1052, 'heavi': 1053, 'wall': 1054, 'rais': 1055, 'laughabl': 1056, 'younger': 1057, 'visit': 1058, 'excus': 1059, 'fair': 1060, 'sign': 1061, 'cult': 1062, 'key': 1063, 'motion': 1064, 'tough': 1065, 'super': 1066, 'desir': 1067, 'addit': 1068, 'stun': 1069, 'cloth': 1070, 'exploit': 1071, 'smith': 1072, 'tortur': 1073, 'davi': 1074, 'race': 1075, 'author': 1076, 'cross': 1077, 'jim': 1078, 'consist': 1079, 'minor': 1080, 'compel': 1081, 'focus': 1082, 'chemistri': 1083, 'commit': 1084, 'pathet': 1085, 'park': 1086, 'tradit': 1087, 'obsess': 1088, 'frank': 1089, 'grade': 1090, '60': 1091, 'asid': 1092, 'brutal': 1093, 'somewher': 1094, 'steve': 1095, 'rule': 1096, 'u': 1097, 'grant': 1098, 'depress': 1099, 'explor': 1100, 'opportun': 1101, 'besid': 1102, 'honest': 1103, 'dub': 1104, 'anti': 1105, 'intend': 1106, 'trailer': 1107, 'bar': 1108, 'regard': 1109, 'west': 1110, 'scientist': 1111, 'longer': 1112, 'judg': 1113, 'decad': 1114, 'silent': 1115, 'creativ': 1116, 'armi': 1117, 'wild': 1118, 'south': 1119, 'stewart': 1120, 'g': 1121, 'draw': 1122, 'road': 1123, 'govern': 1124, 'boss': 1125, 'ex': 1126, 'practic': 1127, 'club': 1128, 'gang': 1129, 'surprisingli': 1130, 'motiv': 1131, 'festiv': 1132, 'london': 1133, 'green': 1134, 'redeem': 1135, 'page': 1136, 'machin': 1137, 'display': 1138, 'aliv': 1139, 'idiot': 1140, 'militari': 1141, 'thrill': 1142, 'repeat': 1143, 'nobodi': 1144, 'folk': 1145, '100': 1146, 'yeah': 1147, '40': 1148, 'garbag': 1149, 'journey': 1150, 'smile': 1151, 'ground': 1152, 'tire': 1153, 'bought': 1154, 'mood': 1155, 'stone': 1156, 'cost': 1157, 'sam': 1158, 'mouth': 1159, 'noir': 1160, 'agent': 1161, 'terrif': 1162, 'utterli': 1163, 'requir': 1164, 'area': 1165, 'honestli': 1166, 'sexi': 1167, 'geniu': 1168, 'report': 1169, 'humour': 1170, 'investig': 1171, 'glad': 1172, 'enter': 1173, 'serial': 1174, 'narr': 1175, 'passion': 1176, 'occasion': 1177, 'climax': 1178, 'marriag': 1179, 'industri': 1180, 'studi': 1181, 'center': 1182, 'nowher': 1183, 'charli': 1184, 'demon': 1185, 'ship': 1186, 'loos': 1187, 'bear': 1188, 'hors': 1189, 'wow': 1190, 'hang': 1191, 'graphic': 1192, 'admir': 1193, 'giant': 1194, 'send': 1195, 'damn': 1196, 'loud': 1197, 'subtl': 1198, 'rel': 1199, 'profession': 1200, 'nake': 1201, 'blow': 1202, 'bottom': 1203, 'insult': 1204, 'batman': 1205, 'doubl': 1206, 'r': 1207, 'boyfriend': 1208, 'kelli': 1209, 'initi': 1210, 'frame': 1211, 'opera': 1212, 'gem': 1213, 'cinemat': 1214, 'affect': 1215, 'drawn': 1216, 'challeng': 1217, 'church': 1218, 'fulli': 1219, 'seek': 1220, 'nightmar': 1221, 'evid': 1222, 'l': 1223, 'j': 1224, 'arm': 1225, 'essenti': 1226, 'conflict': 1227, 'grace': 1228, 'christoph': 1229, 'henri': 1230, 'wind': 1231, 'narrat': 1232, 'witch': 1233, 'assum': 1234, 'hunt': 1235, 'push': 1236, 'wise': 1237, 'chri': 1238, 'month': 1239, 'repres': 1240, 'nomin': 1241, 'sceneri': 1242, 'avail': 1243, 'hide': 1244, 'affair': 1245, 'bond': 1246, 'smart': 1247, 'thu': 1248, 'justic': 1249, 'outstand': 1250, 'interview': 1251, 'flashback': 1252, 'satisfi': 1253, 'presenc': 1254, 'constantli': 1255, 'bed': 1256, 'central': 1257, 'content': 1258, 'sell': 1259, 'iron': 1260, 'everybodi': 1261, 'gag': 1262, 'hotel': 1263, 'slowli': 1264, 'hire': 1265, 'system': 1266, 'charl': 1267, 'thrown': 1268, 'individu': 1269, 'hey': 1270, 'adam': 1271, 'mediocr': 1272, 'allen': 1273, 'jone': 1274, 'ray': 1275, 'lesson': 1276, 'billi': 1277, 'cameo': 1278, 'photographi': 1279, 'fellow': 1280, 'pari': 1281, 'strike': 1282, 'brief': 1283, 'independ': 1284, 'rise': 1285, 'absurd': 1286, 'neg': 1287, 'phone': 1288, 'impact': 1289, 'born': 1290, 'model': 1291, 'ill': 1292, 'angl': 1293, 'spoil': 1294, 'fresh': 1295, 'abus': 1296, 'likabl': 1297, 'hill': 1298, 'discuss': 1299, 'ahead': 1300, 'sight': 1301, 'sent': 1302, 'photograph': 1303, 'occur': 1304, 'shine': 1305, 'logic': 1306, 'blame': 1307, 'mainli': 1308, 'bruce': 1309, 'skip': 1310, 'forev': 1311, 'commerci': 1312, 'held': 1313, 'surround': 1314, 'segment': 1315, 'teacher': 1316, 'blond': 1317, 'zero': 1318, 'trap': 1319, 'summer': 1320, 'satir': 1321, 'resembl': 1322, 'six': 1323, 'queen': 1324, 'fool': 1325, 'ball': 1326, 'twice': 1327, 'tragedi': 1328, 'sub': 1329, 'pack': 1330, 'reaction': 1331, 'bomb': 1332, 'will': 1333, 'protagonist': 1334, 'hospit': 1335, 'sport': 1336, 'mile': 1337, 'mom': 1338, 'trust': 1339, 'drink': 1340, 'vote': 1341, 'jerri': 1342, 'encount': 1343, 'plane': 1344, 'current': 1345, 'program': 1346, 'al': 1347, 'station': 1348, 'choos': 1349, 'martin': 1350, 'celebr': 1351, 'join': 1352, 'lord': 1353, 'favourit': 1354, 'round': 1355, 'tragic': 1356, 'field': 1357, 'vision': 1358, 'jean': 1359, 'robot': 1360, 'arthur': 1361, 'tie': 1362, 'random': 1363, 'fortun': 1364, 'roger': 1365, 'psycholog': 1366, 'dread': 1367, 'intern': 1368, 'prefer': 1369, 'improv': 1370, 'nonsens': 1371, 'epic': 1372, 'highlight': 1373, 'formula': 1374, 'pleasur': 1375, 'legend': 1376, 'tape': 1377, 'dollar': 1378, '11': 1379, 'object': 1380, 'gorgeou': 1381, 'porn': 1382, 'thin': 1383, 'wide': 1384, 'fox': 1385, 'buddi': 1386, 'influenc': 1387, 'ugli': 1388, 'ii': 1389, 'prepar': 1390, 'nasti': 1391, 'supposedli': 1392, 'warm': 1393, 'reflect': 1394, 'progress': 1395, 'youth': 1396, 'worthi': 1397, 'unusu': 1398, 'length': 1399, 'latter': 1400, 'crash': 1401, 'superior': 1402, 'shop': 1403, 'seven': 1404, 'childhood': 1405, 'remot': 1406, 'theatr': 1407, 'disgust': 1408, 'pilot': 1409, 'paid': 1410, 'funniest': 1411, 'convers': 1412, 'trick': 1413, 'castl': 1414, 'fell': 1415, 'establish': 1416, 'gangster': 1417, 'rob': 1418, 'disast': 1419, 'mine': 1420, 'ident': 1421, 'suicid': 1422, 'disappear': 1423, 'heaven': 1424, 'forgotten': 1425, 'heroin': 1426, 'decis': 1427, 'mask': 1428, 'tend': 1429, 'singer': 1430, 'partner': 1431, 'brian': 1432, 'recogn': 1433, 'alan': 1434, 'desert': 1435, 'thoroughli': 1436, 'ms': 1437, 'sky': 1438, 'p': 1439, 'stuck': 1440, 'replac': 1441, 'accur': 1442, 'market': 1443, 'eddi': 1444, 'danni': 1445, 'andi': 1446, 'clue': 1447, 'uncl': 1448, 'commentari': 1449, 'seemingli': 1450, 'jackson': 1451, 'devil': 1452, 'therefor': 1453, 'pair': 1454, 'refus': 1455, 'that': 1456, 'accid': 1457, 'fate': 1458, 'unit': 1459, 'fault': 1460, 'ed': 1461, 'river': 1462, 'afraid': 1463, 'tune': 1464, 'hidden': 1465, 'clean': 1466, 'russian': 1467, 'stephen': 1468, 'quick': 1469, 'instanc': 1470, 'test': 1471, 'readi': 1472, 'convey': 1473, 'captain': 1474, 'irrit': 1475, 'european': 1476, 'daniel': 1477, 'frustrat': 1478, 'insan': 1479, '1950': 1480, 'food': 1481, 'rescu': 1482, 'wed': 1483, 'chines': 1484, 'angri': 1485, 'dirti': 1486, 'lock': 1487, 'joy': 1488, 'steven': 1489, 'price': 1490, 'bland': 1491, 'cage': 1492, 'rang': 1493, 'anymor': 1494, 'wooden': 1495, 'n': 1496, 'jason': 1497, 'rush': 1498, 'news': 1499, '12': 1500, 'worri': 1501, 'led': 1502, 'twenti': 1503, 'board': 1504, 'martial': 1505, 'hunter': 1506, 'cgi': 1507, 'transform': 1508, 'symbol': 1509, 'onto': 1510, 'johnni': 1511, 'x': 1512, 'piti': 1513, 'sentiment': 1514, 'invent': 1515, 'explan': 1516, 'process': 1517, 'attitud': 1518, 'awar': 1519, 'owner': 1520, 'aim': 1521, 'target': 1522, 'energi': 1523, 'favor': 1524, 'floor': 1525, 'necessari': 1526, 'religi': 1527, 'opposit': 1528, 'blind': 1529, 'window': 1530, 'insight': 1531, 'chick': 1532, 'movement': 1533, 'research': 1534, 'deepli': 1535, 'comparison': 1536, 'possess': 1537, 'mountain': 1538, 'grand': 1539, 'comed': 1540, 'rain': 1541, 'whatsoev': 1542, 'began': 1543, 'bank': 1544, 'mid': 1545, 'shadow': 1546, 'parodi': 1547, 'princ': 1548, 'pre': 1549, 'friendship': 1550, 'credibl': 1551, 'taylor': 1552, 'weapon': 1553, 'flesh': 1554, 'dougla': 1555, 'teach': 1556, 'protect': 1557, 'terror': 1558, 'bloodi': 1559, 'hint': 1560, 'marvel': 1561, 'drunk': 1562, 'watchabl': 1563, 'leader': 1564, 'anybodi': 1565, 'accord': 1566, 'load': 1567, 'superman': 1568, 'freddi': 1569, 'brown': 1570, 'tim': 1571, 'jeff': 1572, 'seat': 1573, 'hitler': 1574, 'appropri': 1575, 'charg': 1576, 'knock': 1577, 'unknown': 1578, 'villag': 1579, 'keaton': 1580, 'enemi': 1581, 'empti': 1582, 'media': 1583, 'unnecessari': 1584, 'england': 1585, 'strength': 1586, 'buck': 1587, 'utter': 1588, 'dare': 1589, 'wave': 1590, 'craft': 1591, 'perspect': 1592, 'nativ': 1593, 'correct': 1594, 'contrast': 1595, 'kiss': 1596, 'ford': 1597, 'anywher': 1598, 'distract': 1599, 'magnific': 1600, 'speed': 1601, 'knowledg': 1602, 'chill': 1603, 'soap': 1604, 'nazi': 1605, '1980': 1606, 'breath': 1607, 'mission': 1608, 'fred': 1609, 'ice': 1610, 'moon': 1611, 'joan': 1612, 'jr': 1613, 'crowd': 1614, 'frighten': 1615, '000': 1616, 'kate': 1617, 'soft': 1618, 'dan': 1619, 'dick': 1620, 'hundr': 1621, 'nick': 1622, 'somebodi': 1623, 'simon': 1624, 'dozen': 1625, 'radio': 1626, 'loss': 1627, 'thousand': 1628, 'academi': 1629, 'shakespear': 1630, 'andrew': 1631, 'sum': 1632, 'root': 1633, 'quot': 1634, 'vehicl': 1635, 'account': 1636, '1970': 1637, 'leg': 1638, 'behavior': 1639, 'convent': 1640, 'gold': 1641, 'regular': 1642, 'pretenti': 1643, 'compet': 1644, 'demand': 1645, 'worker': 1646, 'stretch': 1647, 'explos': 1648, 'candi': 1649, 'japan': 1650, 'lynch': 1651, 'notabl': 1652, 'privat': 1653, 'interpret': 1654, 'debut': 1655, 'constant': 1656, 'tarzan': 1657, 'spi': 1658, 'translat': 1659, 'sea': 1660, 'prais': 1661, 'revolv': 1662, 'failur': 1663, 'franc': 1664, 'quiet': 1665, 'sat': 1666, 'threaten': 1667, 'jesu': 1668, 'ass': 1669, 'technolog': 1670, 'punch': 1671, 'met': 1672, 'aid': 1673, 'kevin': 1674, 'toy': 1675, 'higher': 1676, 'vh': 1677, 'abandon': 1678, 'mike': 1679, 'interact': 1680, 'bet': 1681, 'command': 1682, 'separ': 1683, 'confront': 1684, 'site': 1685, 'gotten': 1686, 'stunt': 1687, 'belong': 1688, 'servic': 1689, 'techniqu': 1690, 'recal': 1691, 'cabl': 1692, 'bug': 1693, 'foot': 1694, 'freak': 1695, 'bright': 1696, 'african': 1697, 'jimmi': 1698, 'capabl': 1699, 'fu': 1700, 'boat': 1701, 'clark': 1702, 'stock': 1703, 'succeed': 1704, 'presid': 1705, 'fat': 1706, 'structur': 1707, 'gene': 1708, 'spanish': 1709, 'paper': 1710, 'kidnap': 1711, 'belief': 1712, 'whilst': 1713, 'factor': 1714, 'bob': 1715, 'complic': 1716, 'realism': 1717, 'educ': 1718, 'realis': 1719, 'attend': 1720, 'witti': 1721, 'tree': 1722, 'santa': 1723, 'assist': 1724, 'broken': 1725, 'finest': 1726, 'smoke': 1727, 'v': 1728, 'observ': 1729, 'determin': 1730, 'up': 1731, 'depart': 1732, 'rubbish': 1733, 'routin': 1734, 'domin': 1735, 'hat': 1736, 'oper': 1737, 'fame': 1738, 'lewi': 1739, 'advanc': 1740, 'kinda': 1741, 'safe': 1742, 'lone': 1743, 'foreign': 1744, 'hook': 1745, 'morgan': 1746, 'numer': 1747, 'rank': 1748, 'shape': 1749, 'civil': 1750, 'shallow': 1751, 'washington': 1752, 'vs': 1753, 'werewolf': 1754, 'rose': 1755, 'gari': 1756, 'morn': 1757, 'kong': 1758, 'ordinari': 1759, 'accomplish': 1760, 'winner': 1761, 'whenev': 1762, 'peac': 1763, 'virtual': 1764, 'grab': 1765, 'offens': 1766, 'luck': 1767, 'h': 1768, 'welcom': 1769, 'bigger': 1770, 'unfunni': 1771, 'complain': 1772, 'activ': 1773, 'patient': 1774, 'contriv': 1775, 'pretend': 1776, 'trek': 1777, 'con': 1778, 'dimension': 1779, 'flash': 1780, 'cain': 1781, 'wake': 1782, 'lesbian': 1783, 'dri': 1784, 'code': 1785, 'eric': 1786, 'manipul': 1787, 'statu': 1788, 'albert': 1789, 'dancer': 1790, 'guard': 1791, 'corrupt': 1792, 'gain': 1793, 'awkward': 1794, 'signific': 1795, 'speech': 1796, 'sourc': 1797, 'context': 1798, 'anthoni': 1799, 'sean': 1800, 'corni': 1801, 'clip': 1802, '13': 1803, 'psycho': 1804, 'religion': 1805, 'advic': 1806, 'reli': 1807, 'priest': 1808, 'theatric': 1809, 'w': 1810, 'curiou': 1811, 'addict': 1812, 'flow': 1813, 'specif': 1814, 'secur': 1815, 'asian': 1816, 'howard': 1817, 'jennif': 1818, 'skin': 1819, 'golden': 1820, 'promot': 1821, 'organ': 1822, 'comfort': 1823, 'luke': 1824, 'core': 1825, 'cheat': 1826, 'lucki': 1827, 'cash': 1828, 'lower': 1829, 'associ': 1830, 'dislik': 1831, 'wing': 1832, 'regret': 1833, 'degre': 1834, 'frequent': 1835, 'spell': 1836, 'contribut': 1837, 'frankli': 1838, 'devic': 1839, 'balanc': 1840, 'print': 1841, 'sake': 1842, 'lake': 1843, 'forgiv': 1844, 'thoma': 1845, 'mass': 1846, 'betti': 1847, 'crack': 1848, 'gordon': 1849, 'unexpect': 1850, 'unfold': 1851, 'invit': 1852, 'depend': 1853, 'amateur': 1854, 'construct': 1855, 'categori': 1856, 'grown': 1857, 'anna': 1858, 'condit': 1859, 'honor': 1860, 'grew': 1861, 'walter': 1862, 'intellectu': 1863, 'matur': 1864, 'spectacular': 1865, 'mirror': 1866, 'veteran': 1867, 'sudden': 1868, 'sole': 1869, 'freedom': 1870, 'demonstr': 1871, 'experienc': 1872, 'liner': 1873, 'meanwhil': 1874, 'gift': 1875, 'grip': 1876, 'card': 1877, 'robin': 1878, 'overli': 1879, 'colour': 1880, 'theori': 1881, 'oliv': 1882, 'circumst': 1883, 'brilliantli': 1884, 'sheriff': 1885, 'section': 1886, 'unabl': 1887, 'crappi': 1888, 'drew': 1889, 'subtitl': 1890, 'pile': 1891, 'sheer': 1892, 'parker': 1893, 'cook': 1894, 'altern': 1895, 'laughter': 1896, 'matt': 1897, 'path': 1898, 'defin': 1899, 'relief': 1900, 'wander': 1901, 'sinatra': 1902, 'lawyer': 1903, 'treatment': 1904, 'accident': 1905, 'hall': 1906, 'hank': 1907, 'captiv': 1908, 'dragon': 1909, 'gratuit': 1910, 'moor': 1911, 'halloween': 1912, 'jacki': 1913, 'barbara': 1914, 'cowboy': 1915, 'broadway': 1916, 'kung': 1917, 'wound': 1918, 'k': 1919, 'unintent': 1920, 'wayn': 1921, 'canadian': 1922, 'surreal': 1923, 'statement': 1924, 'spoof': 1925, 'winter': 1926, 'cheer': 1927, 'compos': 1928, 'treasur': 1929, 'fish': 1930, 'fare': 1931, 'gonna': 1932, 'sensit': 1933, 'victor': 1934, 'unrealist': 1935, 'emerg': 1936, 'woodi': 1937, 'sympathet': 1938, 'ran': 1939, 'neighbor': 1940, 'driven': 1941, 'menac': 1942, 'glass': 1943, 'topic': 1944, 'authent': 1945, 'expos': 1946, 'overlook': 1947, 'gross': 1948, 'michel': 1949, 'ancient': 1950, 'handsom': 1951, 'chief': 1952, 'contemporari': 1953, 'pleasant': 1954, 'feet': 1955, 'network': 1956, 'comedian': 1957, 'nevertheless': 1958, 'built': 1959, 'stranger': 1960, 'russel': 1961, 'cinderella': 1962, 'gori': 1963, 'blockbust': 1964, 'consider': 1965, 'earn': 1966, 'letter': 1967, 'endless': 1968, 'miser': 1969, 'underr': 1970, 'switch': 1971, 'brook': 1972, 'solv': 1973, 'bullet': 1974, 'joseph': 1975, 'edward': 1976, 'virgin': 1977, 'convict': 1978, 'victoria': 1979, 'chosen': 1980, 'cynic': 1981, 'alex': 1982, 'scale': 1983, 'scenario': 1984, '0': 1985, 'gut': 1986, 'com': 1987, 'curs': 1988, 'outrag': 1989, 'sword': 1990, 'juli': 1991, 'substanc': 1992, 'screenwrit': 1993, 'uk': 1994, 'wrap': 1995, 'proper': 1996, 'monkey': 1997, 'driver': 1998, 'court': 1999, 'indic': 2000, 'par': 2001, 'bird': 2002, 'remov': 2003, 'consequ': 2004, 'rental': 2005, 'inevit': 2006, 'naiv': 2007, 'advertis': 2008, 'nanci': 2009, 'grave': 2010, 'loser': 2011, 'roy': 2012, 'fatal': 2013, 'brave': 2014, 'le': 2015, 'bridg': 2016, 'slap': 2017, 'germani': 2018, 'invis': 2019, 'ador': 2020, 'loui': 2021, 'anger': 2022, 'provok': 2023, 'footbal': 2024, 'anderson': 2025, 'chan': 2026, 'alcohol': 2027, 'professor': 2028, 'stumbl': 2029, 'ryan': 2030, 'willi': 2031, 'patrick': 2032, 'assassin': 2033, 'sharp': 2034, '1930': 2035, 'australian': 2036, 'bat': 2037, 'saturday': 2038, 'refresh': 2039, 'liber': 2040, 'ape': 2041, 'strongli': 2042, 'cell': 2043, 'trilog': 2044, 'amateurish': 2045, 'lousi': 2046, 'heck': 2047, 'deni': 2048, 'eight': 2049, 'sin': 2050, 'justifi': 2051, 'vagu': 2052, 'san': 2053, 'resid': 2054, 'indi': 2055, 'creator': 2056, 'terrifi': 2057, 'defeat': 2058, 'reput': 2059, 'mini': 2060, 'sympathi': 2061, 'task': 2062, 'expert': 2063, 'tediou': 2064, 'prevent': 2065, 'endur': 2066, 'tabl': 2067, 'offend': 2068, 'basebal': 2069, 'employ': 2070, 'trial': 2071, 'imit': 2072, 'rival': 2073, 'che': 2074, 'complaint': 2075, 'weekend': 2076, 'europ': 2077, 'max': 2078, 'dig': 2079, 'beach': 2080, 'pitch': 2081, 'fairi': 2082, 'murphi': 2083, 'format': 2084, 'risk': 2085, 'purchas': 2086, 'harsh': 2087, 'bite': 2088, 'hype': 2089, 'tini': 2090, 'reminisc': 2091, 'glimps': 2092, 'nois': 2093, 'titan': 2094, 'powel': 2095, 'strip': 2096, 'north': 2097, 'prime': 2098, 'asleep': 2099, 'fals': 2100, '14': 2101, 'till': 2102, 'africa': 2103, 'texa': 2104, 'revel': 2105, 'descript': 2106, 'destruct': 2107, 'surfac': 2108, 'sitcom': 2109, 'uninterest': 2110, 'inner': 2111, 'spin': 2112, 'arrest': 2113, 'excess': 2114, 'semi': 2115, 'twin': 2116, 'controversi': 2117, 'maintain': 2118, 'hitchcock': 2119, 'argu': 2120, 'dinosaur': 2121, 'massiv': 2122, 'makeup': 2123, 'kim': 2124, 'reject': 2125, 'ludicr': 2126, 'insist': 2127, 'stare': 2128, 'expens': 2129, 'melodrama': 2130, 'ideal': 2131, 'ala': 2132, 'forest': 2133, 'press': 2134, 'nail': 2135, 'subplot': 2136, 'atroci': 2137, 'host': 2138, 'ga': 2139, 'supernatur': 2140, 'erot': 2141, 'columbo': 2142, 'identifi': 2143, 'notch': 2144, 'dude': 2145, 'presum': 2146, 'cant': 2147, 'closer': 2148, 'forgett': 2149, 'crude': 2150, 'plagu': 2151, 'character': 2152, 'method': 2153, 'guest': 2154, 'ear': 2155, 'landscap': 2156, 'foster': 2157, 'beast': 2158, 'princess': 2159, 'lion': 2160, 'border': 2161, 'aunt': 2162, 'storytel': 2163, 'birth': 2164, 'previous': 2165, 'bound': 2166, 'jungl': 2167, 'accus': 2168, 'pacino': 2169, 'urban': 2170, 'damag': 2171, 'guid': 2172, 'nude': 2173, 'chose': 2174, 'jess': 2175, 'propaganda': 2176, 'emma': 2177, 'thirti': 2178, 'doll': 2179, 'pet': 2180, '25': 2181, 'whoever': 2182, 'mate': 2183, 'warrior': 2184, 'mainstream': 2185, 'friday': 2186, 'merit': 2187, 'cooper': 2188, 'upset': 2189, 'poster': 2190, 'size': 2191, 'latest': 2192, 'deadli': 2193, 'exact': 2194, 'gritti': 2195, 'contest': 2196, 'corps': 2197, 'sun': 2198, 'ton': 2199, 'contact': 2200, 'popul': 2201, 'settl': 2202, 'warner': 2203, 'buff': 2204, 'blend': 2205, 'wilson': 2206, '1990': 2207, 'rough': 2208, 'citizen': 2209, 'widow': 2210, 'environ': 2211, 'mgm': 2212, 'rat': 2213, 'overcom': 2214, 'bu': 2215, 'pitt': 2216, 'select': 2217, 'alic': 2218, 'metal': 2219, 'lift': 2220, 'guilti': 2221, 'ted': 2222, 'particip': 2223, 'link': 2224, 'revolut': 2225, 'afternoon': 2226, 'moron': 2227, 'exagger': 2228, 'johnson': 2229, 'corner': 2230, 'prostitut': 2231, '1960': 2232, 'matrix': 2233, 'accompani': 2234, 'corpor': 2235, 'friendli': 2236, 'sincer': 2237, 'instal': 2238, 'holm': 2239, 'multipl': 2240, 'leagu': 2241, 'clair': 2242, 'hood': 2243, 'doom': 2244, 'string': 2245, 'grim': 2246, 'aka': 2247, 'junk': 2248, 'examin': 2249, 'advis': 2250, 'irish': 2251, 'campi': 2252, 'lugosi': 2253, 'defend': 2254, 'sunday': 2255, 'hip': 2256, 'blah': 2257, 'rachel': 2258, 'tight': 2259, 'icon': 2260, 'shake': 2261, 'pro': 2262, 'varieti': 2263, 'shut': 2264, 'confid': 2265, 'directli': 2266, 'denni': 2267, 'attach': 2268, 'sullivan': 2269, 'jaw': 2270, 'medic': 2271, 'goal': 2272, 'mexican': 2273, 'legendari': 2274, 'vietnam': 2275, 'sarah': 2276, 'prior': 2277, 'truck': 2278, 'sentenc': 2279, 'courag': 2280, 'dean': 2281, 'terrorist': 2282, 'breast': 2283, 'duke': 2284, 'bourn': 2285, 'behav': 2286, 'hong': 2287, 'proceed': 2288, 'donald': 2289, 'un': 2290, 'yell': 2291, 'split': 2292, 'nose': 2293, 'entri': 2294, 'gather': 2295, 'lifetim': 2296, 'concentr': 2297, 'jerk': 2298, 'crush': 2299, 'everywher': 2300, 'buri': 2301, 'confess': 2302, 'borrow': 2303, 'unconvinc': 2304, 'swim': 2305, 'forth': 2306, 'stolen': 2307, 'julia': 2308, 'deliveri': 2309, 'lip': 2310, 'pan': 2311, 'turkey': 2312, 'california': 2313, 'spite': 2314, 'quest': 2315, 'proud': 2316, 'hoffman': 2317, 'reward': 2318, 'china': 2319, 'flight': 2320, 'downright': 2321, 'offici': 2322, 'freeman': 2323, 'fabul': 2324, 'worthwhil': 2325, 'notori': 2326, 'jon': 2327, 'betray': 2328, 'lazi': 2329, 'sir': 2330, 'jail': 2331, 'fade': 2332, 'encourag': 2333, 'inept': 2334, 'sink': 2335, 'shower': 2336, 'lisa': 2337, 'bag': 2338, 'susan': 2339, 'imageri': 2340, 'relev': 2341, 'bell': 2342, 'storm': 2343, 'survivor': 2344, 'cousin': 2345, 'teeth': 2346, 'retard': 2347, 'branagh': 2348, 'stab': 2349, 'mexico': 2350, 'trade': 2351, 'facial': 2352, 'finger': 2353, 'toler': 2354, 'hugh': 2355, 'quirki': 2356, 'summari': 2357, 'alright': 2358, 'bride': 2359, 'tremend': 2360, 'shark': 2361, 'blown': 2362, 'pose': 2363, 'von': 2364, 'bitter': 2365, 'hyster': 2366, 'ha': 2367, 'larri': 2368, 'bone': 2369, 'address': 2370, 'scheme': 2371, 'ron': 2372, 'cruel': 2373, 'christ': 2374, 'afterward': 2375, 'ned': 2376, 'beg': 2377, 'distinct': 2378, 'traci': 2379, 'snake': 2380, 'feed': 2381, 'tour': 2382, 'pursu': 2383, 'thumb': 2384, 'screw': 2385, 'swear': 2386, 'mechan': 2387, 'raw': 2388, 'chair': 2389, 'obscur': 2390, 'photo': 2391, 'stomach': 2392, 'occas': 2393, 'argument': 2394, 'sidney': 2395, 'chain': 2396, 'southern': 2397, 'hardi': 2398, 'heavili': 2399, 'gruesom': 2400, 'holiday': 2401, 'cabin': 2402, 'render': 2403, 'resist': 2404, 'necessarili': 2405, 'india': 2406, 'philip': 2407, 'indulg': 2408, 'racist': 2409, 'satan': 2410, 'understood': 2411, 'midnight': 2412, 'forgot': 2413, 'obnoxi': 2414, 'belov': 2415, 'pregnant': 2416, 'lay': 2417, 'tongu': 2418, 'fourth': 2419, 'stalk': 2420, 'outfit': 2421, 'integr': 2422, 'magazin': 2423, 'slapstick': 2424, 'inhabit': 2425, 'carol': 2426, 'ticket': 2427, '17': 2428, 'garden': 2429, 'deeper': 2430, 'restor': 2431, 'shoe': 2432, 'incid': 2433, 'devot': 2434, 'lincoln': 2435, 'brad': 2436, 'divorc': 2437, 'guarante': 2438, 'maria': 2439, 'benefit': 2440, 'disbelief': 2441, 'anticip': 2442, 'underground': 2443, 'elizabeth': 2444, 'sandler': 2445, 'lili': 2446, 'slave': 2447, 'capit': 2448, 'cring': 2449, 'bbc': 2450, 'greater': 2451, 'creation': 2452, 'mildli': 2453, 'amazingli': 2454, 'princip': 2455, 'explod': 2456, 'extraordinari': 2457, 'introduct': 2458, 'halfway': 2459, 'funnier': 2460, 'lesli': 2461, 'enhanc': 2462, 'transfer': 2463, 'text': 2464, 'advantag': 2465, 'wreck': 2466, 'punish': 2467, 'tap': 2468, 'extent': 2469, 'overwhelm': 2470, 'preview': 2471, 'horrif': 2472, 'lane': 2473, 'deliber': 2474, 'dynam': 2475, 'east': 2476, 'plant': 2477, 'lo': 2478, 'error': 2479, 'jessica': 2480, 'homosexu': 2481, 'sophist': 2482, 'miller': 2483, 'ensu': 2484, '2000': 2485, 'vincent': 2486, 'vacat': 2487, 'basi': 2488, 'appli': 2489, 'miscast': 2490, 'bollywood': 2491, 'spoken': 2492, 'uncomfort': 2493, 'reed': 2494, 'elev': 2495, 'measur': 2496, 'sleazi': 2497, 'via': 2498, 'steel': 2499, 'extend': 2500, 'mansion': 2501, 'mous': 2502, 'assign': 2503, 'breathtak': 2504, 'savag': 2505, 'blair': 2506, 'alter': 2507, 'goofi': 2508, 'stanley': 2509, 'cathol': 2510, 'beer': 2511, 'daili': 2512, 'dentist': 2513, 'melt': 2514, 'conceiv': 2515, 'fix': 2516, 'overact': 2517, 'hippi': 2518, 'oppos': 2519, 'succe': 2520, 'burt': 2521, 'carpent': 2522, 'sacrific': 2523, 'everyday': 2524, 'properli': 2525, 'inspector': 2526, 'nowaday': 2527, 'subsequ': 2528, 'circl': 2529, 'laura': 2530, 'massacr': 2531, 'block': 2532, 'neck': 2533, 'christi': 2534, 'fallen': 2535, 'mob': 2536, 'lesser': 2537, 'access': 2538, 'portrait': 2539, 'seagal': 2540, 'grey': 2541, 'concert': 2542, 'pool': 2543, 'fay': 2544, 'jake': 2545, 'sinist': 2546, 'competit': 2547, 'chees': 2548, 'jewish': 2549, 'react': 2550, 'relax': 2551, 'isol': 2552, 'usa': 2553, 'immens': 2554, 'ironi': 2555, 'suitabl': 2556, 'appal': 2557, 'nine': 2558, 'chop': 2559, 'creep': 2560, 'lyric': 2561, 'spiritu': 2562, 'stink': 2563, '2006': 2564, 'nonetheless': 2565, 'sold': 2566, 'spring': 2567, 'rage': 2568, 'retir': 2569, 'adopt': 2570, 'shirt': 2571, 'needless': 2572, 'nut': 2573, 'reduc': 2574, 'user': 2575, 'luci': 2576, 'franchis': 2577, 'showcas': 2578, 'navi': 2579, 'nurs': 2580, 'per': 2581, 'uninspir': 2582, 'bath': 2583, 'digit': 2584, 'bulli': 2585, 'stanwyck': 2586, 'asham': 2587, 'jay': 2588, 'zone': 2589, '1940': 2590, 'laid': 2591, 'sutherland': 2592, 'oddli': 2593, 'broadcast': 2594, 'amongst': 2595, '2001': 2596, 'illustr': 2597, 'upper': 2598, 'baker': 2599, 'brando': 2600, 'stylish': 2601, 'disguis': 2602, 'throat': 2603, 'aspir': 2604, 'fulfil': 2605, '18': 2606, 'neighborhood': 2607, 'pride': 2608, 'endear': 2609, 'pound': 2610, 'wwii': 2611, 'impli': 2612, 'wanna': 2613, 'em': 2614, 'thief': 2615, 'nobl': 2616, 'dawn': 2617, '16': 2618, 'shoulder': 2619, 'rochest': 2620, 'cinematograph': 2621, 'diseas': 2622, 'bett': 2623, 'dinner': 2624, 'coher': 2625, 'prop': 2626, 'distribut': 2627, 'albeit': 2628, 'shift': 2629, 'tens': 2630, 'bo': 2631, 'knife': 2632, 'rebel': 2633, 'snow': 2634, 'poignant': 2635, 'silenc': 2636, 'shout': 2637, 'surf': 2638, 'contract': 2639, 'function': 2640, 'forti': 2641, 'wash': 2642, 'matthau': 2643, 'duti': 2644, 'reunion': 2645, 'instinct': 2646, 'silver': 2647, 'henc': 2648, 'proof': 2649, 'chuck': 2650, 'cancel': 2651, 'cannib': 2652, 'heat': 2653, 'height': 2654, 'derek': 2655, 'eeri': 2656, 'horrend': 2657, 'elvira': 2658, 'mindless': 2659, 'internet': 2660, 'widmark': 2661, 'absorb': 2662, 'incoher': 2663, 'spielberg': 2664, 'alik': 2665, 'premier': 2666, 'neat': 2667, 'torn': 2668, 'glori': 2669, 'innov': 2670, 'mill': 2671, 'etern': 2672, 'musician': 2673, 'greatli': 2674, 'repetit': 2675, 'pie': 2676, 'elvi': 2677, 'horrifi': 2678, 'wealthi': 2679, 'racism': 2680, 'bang': 2681, 'lovabl': 2682, 'itali': 2683, 'precis': 2684, 'homag': 2685, 'infam': 2686, 'crisi': 2687, 'fbi': 2688, 'blank': 2689, 'announc': 2690, 'diamond': 2691, 'trite': 2692, 'nelson': 2693, 'redempt': 2694, 'burton': 2695, 'britain': 2696, 'helen': 2697, 'pat': 2698, 'happili': 2699, 'chaplin': 2700, 'flop': 2701, 'dedic': 2702, 'parallel': 2703, 'ensembl': 2704, 'resolut': 2705, 'wilder': 2706, 'hammer': 2707, 'streisand': 2708, 'cube': 2709, 'carter': 2710, 'st': 2711, 'broke': 2712, 'mar': 2713, 'plastic': 2714, 'disagre': 2715, 'factori': 2716, 'triumph': 2717, 'oil': 2718, 'conclud': 2719, 'climb': 2720, 'row': 2721, 'bush': 2722, 'chuckl': 2723, 'fighter': 2724, 'march': 2725, 'vega': 2726, 'rocket': 2727, 'own': 2728, 'weight': 2729, 'sensibl': 2730, 'enorm': 2731, 'mst3k': 2732, 'dump': 2733, 'wherea': 2734, 'meaning': 2735, 'spare': 2736, 'luca': 2737, 'unforgett': 2738, 'lust': 2739, 'thug': 2740, 'dane': 2741, 'boot': 2742, 'kurt': 2743, 'fifti': 2744, 'difficulti': 2745, 'engin': 2746, 'stress': 2747, 'brand': 2748, 'bobbi': 2749, 'arnold': 2750, 'threat': 2751, 'butt': 2752, 'adequ': 2753, 'caricatur': 2754, 'karloff': 2755, 'dear': 2756, 'rap': 2757, 'barri': 2758, 'ego': 2759, 'arrog': 2760, 'flynn': 2761, 'swing': 2762, 'fest': 2763, 'homeless': 2764, 'elabor': 2765, 'polish': 2766, 'journalist': 2767, 'secretari': 2768, 'ralph': 2769, 'hamlet': 2770, 'fanci': 2771, 'grate': 2772, 'puppet': 2773, 'tool': 2774, 'unbear': 2775, 'float': 2776, 'resort': 2777, 'induc': 2778, 'arrang': 2779, 'simpson': 2780, 'spike': 2781, 'conspiraci': 2782, 'pig': 2783, 'basement': 2784, 'exercis': 2785, 'cruis': 2786, 'guilt': 2787, 'choreograph': 2788, 'muppet': 2789, 'boll': 2790, 'phillip': 2791, 'tribut': 2792, 'ham': 2793, 'item': 2794, 'fianc': 2795, 'puzzl': 2796, 'babe': 2797, 'ward': 2798, 'editor': 2799, 'layer': 2800, '24': 2801, 'file': 2802, 'toilet': 2803, 'document': 2804, 'tower': 2805, 'medium': 2806, 'korean': 2807, 'stan': 2808, 'scarecrow': 2809, 'slip': 2810, 'glover': 2811, 'minim': 2812, 'slaughter': 2813, 'assur': 2814, 'larger': 2815, 'territori': 2816, 'transit': 2817, 'orient': 2818, 'librari': 2819, 'denzel': 2820, 'philosoph': 2821, 'doc': 2822, 'catherin': 2823, 'inexplic': 2824, 'persona': 2825, 'portion': 2826, 'superfici': 2827, 'spark': 2828, 'curti': 2829, 'walken': 2830, 'owe': 2831, 'boredom': 2832, 'sneak': 2833, 'jet': 2834, 'jeremi': 2835, 'shi': 2836, 'pg': 2837, 'wolf': 2838, 'ban': 2839, 'dorothi': 2840, 'financi': 2841, 'ambigu': 2842, 'profound': 2843, 'backdrop': 2844, 'multi': 2845, 'cusack': 2846, 'metaphor': 2847, 'whale': 2848, 'hudson': 2849, 'eleph': 2850, '2005': 2851, 'ultra': 2852, 'rave': 2853, 'union': 2854, 'elsewher': 2855, 'birthday': 2856, 'gadget': 2857, 'stiff': 2858, 'notion': 2859, 'hack': 2860, 'implaus': 2861, 'viru': 2862, 'hawk': 2863, 'canada': 2864, 'lloyd': 2865, 'slight': 2866, 'urg': 2867, 'poison': 2868, 'reader': 2869, 'distanc': 2870, 'bibl': 2871, '1st': 2872, 'pad': 2873, 'deriv': 2874, 'disc': 2875, 'eastwood': 2876, 'newspap': 2877, 'squar': 2878, 'superhero': 2879, 'eva': 2880, 'afford': 2881, 'restaur': 2882, 'charisma': 2883, 'button': 2884, 'montag': 2885, 'sadist': 2886, 'drown': 2887, 'skit': 2888, 'spread': 2889, 'cure': 2890, 'huh': 2891, 'essenc': 2892, 'heston': 2893, 'health': 2894, 'dealt': 2895, 'estat': 2896, 'godfath': 2897, 'fetch': 2898, 'lab': 2899, 'maniac': 2900, 'companion': 2901, 'muslim': 2902, 'gradual': 2903, 'peak': 2904, 'invest': 2905, 'scoobi': 2906, 'servant': 2907, 'ritter': 2908, 'subtleti': 2909, 'alli': 2910, 'cup': 2911, 'tea': 2912, 'countless': 2913, 'gothic': 2914, 'kane': 2915, 'miik': 2916, 'iii': 2917, 'electr': 2918, 'elect': 2919, 'heroic': 2920, 'salli': 2921, 'charismat': 2922, 'briefli': 2923, 'reel': 2924, 'tender': 2925, 'ingredi': 2926, 'grandmoth': 2927, 'bud': 2928, 'neil': 2929, 'resourc': 2930, 'nuanc': 2931, 'cole': 2932, 'wannab': 2933, 'admittedli': 2934, 'toss': 2935, 'dawson': 2936, 'punk': 2937, 'pauli': 2938, 'gate': 2939, 'stronger': 2940, 'pit': 2941, 'mild': 2942, 'stood': 2943, 'kubrick': 2944, 'reev': 2945, 'label': 2946, 'mafia': 2947, 'shall': 2948, 'poverti': 2949, 'carrey': 2950, 'cox': 2951, 'terri': 2952, 'tag': 2953, 'fond': 2954, 'ian': 2955, 'updat': 2956, 'outcom': 2957, 'assault': 2958, 'smooth': 2959, 'smash': 2960, 'easier': 2961, 'useless': 2962, 'cardboard': 2963, 'astair': 2964, 'burst': 2965, 'bakshi': 2966, 'coincid': 2967, 'qualifi': 2968, 'samurai': 2969, 'divers': 2970, '2002': 2971, 'fist': 2972, 'vulner': 2973, 'melodramat': 2974, 'increasingli': 2975, 'vari': 2976, 'sketch': 2977, 'resolv': 2978, 'exchang': 2979, 'rex': 2980, 'brillianc': 2981, 'scratch': 2982, 'reynold': 2983, 'templ': 2984, 'conveni': 2985, 'insert': 2986, 'be': 2987, 'luckili': 2988, 'tame': 2989, 'suspend': 2990, 'blast': 2991, 'pin': 2992, 'meat': 2993, 'strictli': 2994, 'soprano': 2995, 'hamilton': 2996, 'coach': 2997, 'gotta': 2998, 'nuclear': 2999, 'fisher': 3000, 'walker': 3001, 'seventi': 3002, 'ambiti': 3003, 'jami': 3004, 'matthew': 3005, 'farm': 3006, 'worthless': 3007, 'closet': 3008, 'recreat': 3009, 'timeless': 3010, 'struck': 3011, 'monk': 3012, 'revers': 3013, 'convolut': 3014, 'spooki': 3015, 'cave': 3016, 'butcher': 3017, 'empir': 3018, 'eccentr': 3019, 'grasp': 3020, 'kudo': 3021, 'instantli': 3022, 'clock': 3023, 'discoveri': 3024, 'brosnan': 3025, 'joey': 3026, 'ninja': 3027, 'bleak': 3028, 'partli': 3029, 'cliff': 3030, 'communist': 3031, 'fifteen': 3032, 'inconsist': 3033, 'mitchel': 3034, 'pal': 3035, 'clown': 3036, 'eighti': 3037, 'miracl': 3038, 'declar': 3039, 'seller': 3040, 'sidekick': 3041, 'evok': 3042, 'selfish': 3043, 'importantli': 3044, 'wipe': 3045, 'gray': 3046, 'norman': 3047, 'sloppi': 3048, 'destin': 3049, 'aforement': 3050, 'psychiatrist': 3051, 'lifestyl': 3052, 'flawless': 3053, 'enthusiast': 3054, '45': 3055, 'stoog': 3056, 'piano': 3057, 'seed': 3058, 'superbl': 3059, 'ho': 3060, 'websit': 3061, 'cheek': 3062, 'chew': 3063, 'debat': 3064, 'farc': 3065, 'australia': 3066, 'dash': 3067, 'directori': 3068, 'pressur': 3069, 'wrestl': 3070, 'regardless': 3071, 'drivel': 3072, 'slice': 3073, 'soviet': 3074, 'emili': 3075, 'incompet': 3076, 'abc': 3077, 'kitchen': 3078, 'bash': 3079, 'wick': 3080, 'akshay': 3081, 'anni': 3082, 'dire': 3083, 'splatter': 3084, 'chapter': 3085, 'artifici': 3086, 'lou': 3087, 'dave': 3088, 'boil': 3089, 'duo': 3090, 'distant': 3091, 'seduc': 3092, 'cagney': 3093, 'suppli': 3094, 'ken': 3095, 'recov': 3096, 'increas': 3097, 'cameron': 3098, 'flower': 3099, 'helicopt': 3100, 'pleasantli': 3101, 'beaten': 3102, 'jar': 3103, 'curios': 3104, 'glow': 3105, 'mann': 3106, 'prize': 3107, 'doo': 3108, 'cia': 3109, 'judi': 3110, 'blob': 3111, 'favour': 3112, 'drunken': 3113, 'craig': 3114, 'craven': 3115, 'web': 3116, 'splendid': 3117, 'panic': 3118, 'ranger': 3119, 'ellen': 3120, 'perri': 3121, 'glenn': 3122, 'laurel': 3123, 'goldberg': 3124, 'psychot': 3125, 'turner': 3126, 'hop': 3127, 'eleg': 3128, 'combat': 3129, 'francisco': 3130, 'slightest': 3131, 'ruth': 3132, 'min': 3133, 'falk': 3134, 'philosophi': 3135, 'gentl': 3136, 'shortli': 3137, 'flip': 3138, 'plausibl': 3139, 'graduat': 3140, 'hatr': 3141, 'wizard': 3142, '20th': 3143, 'alexand': 3144, 'greek': 3145, 'fx': 3146, 'rid': 3147, 'modesti': 3148, 'gandhi': 3149, 'we': 3150, 'preciou': 3151, 'tall': 3152, 'holi': 3153, 'jealou': 3154, 'lend': 3155, 'dracula': 3156, 'fund': 3157, 'manhattan': 3158, 'unpleas': 3159, 'futurist': 3160, 'knight': 3161, 'legal': 3162, 'harm': 3163, 'felix': 3164, 'ocean': 3165, 'nod': 3166, 'reviv': 3167, 'scientif': 3168, 'childish': 3169, 'ami': 3170, 'explicit': 3171, 'thread': 3172, 'mock': 3173, 'bless': 3174, 'forbidden': 3175, 'tank': 3176, 'overdon': 3177, 'digniti': 3178, 'giallo': 3179, 'torment': 3180, 'margaret': 3181, 'broad': 3182, 'nerv': 3183, 'awe': 3184, '2004': 3185, 'thick': 3186, 'awaken': 3187, '99': 3188, 'yesterday': 3189, 'mel': 3190, 'unwatch': 3191, 'verhoeven': 3192, 'elderli': 3193, 'repeatedli': 3194, 'eve': 3195, 'fever': 3196, 'pirat': 3197, 'romero': 3198, 'lean': 3199, 'stiller': 3200, 'bin': 3201, 'absenc': 3202, 'timothi': 3203, 'royal': 3204, 'roman': 3205, 'ambit': 3206, 'automat': 3207, 'kay': 3208, 'griffith': 3209, 'ah': 3210, 'eas': 3211, 'rivet': 3212, 'acclaim': 3213, 'launch': 3214, 'custom': 3215, 'politician': 3216, 'uniform': 3217, 'publish': 3218, 'stinker': 3219, 'crook': 3220, 'bathroom': 3221, 'termin': 3222, 'warren': 3223, 'darker': 3224, 'transport': 3225, 'tomato': 3226, 'pulp': 3227, 'phrase': 3228, 'foul': 3229, 'purpl': 3230, 'homicid': 3231, 'antic': 3232, 'gabriel': 3233, 'wallac': 3234, 'sunshin': 3235, 'pierc': 3236, 'sixti': 3237, 'q': 3238, 'ought': 3239, 'karen': 3240, 'horrid': 3241, 'juvenil': 3242, 'revolutionari': 3243, 'eyr': 3244, 'marin': 3245, 'packag': 3246, 'li': 3247, 'brazil': 3248, '2003': 3249, 'viciou': 3250, 'evolv': 3251, 'awak': 3252, 'pray': 3253, 'coloni': 3254, 'choreographi': 3255, 'contrari': 3256, 'album': 3257, 'donna': 3258, 'hollow': 3259, 'kenneth': 3260, 'saint': 3261, 'rambo': 3262, 'prom': 3263, 'conserv': 3264, 'overr': 3265, 'blade': 3266, 'boast': 3267, 'candid': 3268, 'twelv': 3269, 'stole': 3270, 'ramon': 3271, 'kapoor': 3272, 'ireland': 3273, 'dose': 3274, 'option': 3275, 'beatti': 3276, 'mummi': 3277, 'defi': 3278, 'nerd': 3279, 'mildr': 3280, 'detract': 3281, 'astonish': 3282, 'natali': 3283, 'confirm': 3284, 'trio': 3285, 'protest': 3286, 'jazz': 3287, 'global': 3288, 'flame': 3289, 'altman': 3290, 'funer': 3291, 'collabor': 3292, 'fulci': 3293, 'kirk': 3294, 'bottl': 3295, 'bull': 3296, 'blake': 3297, 'destini': 3298, 'delici': 3299, 'spit': 3300, 'yellow': 3301, 'shade': 3302, 'mystic': 3303, 'enterpris': 3304, 'whip': 3305, 'leap': 3306, 'audio': 3307, 'tommi': 3308, 'racial': 3309, 'nicholson': 3310, 'altogeth': 3311, 'todd': 3312, 'staff': 3313, 'fonda': 3314, 'vivid': 3315, 'adolesc': 3316, 'popcorn': 3317, 'enchant': 3318, 'pseudo': 3319, 'swedish': 3320, 'visibl': 3321, 'meaningless': 3322, 'harder': 3323, 'neo': 3324, 'merci': 3325, 'threw': 3326, 'reunit': 3327, 'bedroom': 3328, 'inherit': 3329, 'wire': 3330, 'exhibit': 3331, 'jew': 3332, 'leonard': 3333, 'edi': 3334, 'lawrenc': 3335, 'crocodil': 3336, 'tip': 3337, 'voight': 3338, 'lemmon': 3339, 'decor': 3340, 'fanat': 3341, 'await': 3342, 'suspici': 3343, 'kennedi': 3344, 'befriend': 3345, 'synopsi': 3346, 'reserv': 3347, 'respond': 3348, 'madonna': 3349, 'ruthless': 3350, 'atlanti': 3351, 'moodi': 3352, 'uneven': 3353, 'roommat': 3354, 'bust': 3355, 'chao': 3356, 'bargain': 3357, 'ventur': 3358, '2007': 3359, 'unsettl': 3360, 'clumsi': 3361, 'rural': 3362, 'palma': 3363, 'abysm': 3364, 'voyag': 3365, 'clint': 3366, 'centr': 3367, 'garner': 3368, 'incident': 3369, 'bold': 3370, 'dimens': 3371, 'holli': 3372, 'bradi': 3373, 'carl': 3374, 'audit': 3375, 'neglect': 3376, 'cd': 3377, 'trail': 3378, 'tiger': 3379, 'echo': 3380, 'immigr': 3381, 'imperson': 3382, 'hart': 3383, 'troop': 3384, 'humili': 3385, 'lit': 3386, '2nd': 3387, 'characterist': 3388, 'versu': 3389, 'ant': 3390, 'poetic': 3391, 'daddi': 3392, 'nearbi': 3393, 'elimin': 3394, 'acknowledg': 3395, 'cari': 3396, 'wealth': 3397, 'timon': 3398, 'cuba': 3399, 'mall': 3400, 'paus': 3401, 'mickey': 3402, 'domest': 3403, 'jeffrey': 3404, 'pun': 3405, 'marshal': 3406, 'prejudic': 3407, 'mistaken': 3408, 'homer': 3409, 'solo': 3410, 'celluloid': 3411, 'infect': 3412, 'saga': 3413, 'collaps': 3414, 'repuls': 3415, 'leon': 3416, 'inan': 3417, 'inappropri': 3418, 'chest': 3419, 'milk': 3420, 'assembl': 3421, 'gear': 3422, 'ginger': 3423, 'interrupt': 3424, 'tribe': 3425, 'olivi': 3426, 'equip': 3427, 'apolog': 3428, 'cake': 3429, 'promin': 3430, '1996': 3431, 'hbo': 3432, 'harvey': 3433, 'pant': 3434, 'undoubtedli': 3435, 'coffe': 3436, 'sore': 3437, 'coat': 3438, 'maggi': 3439, 'pot': 3440, 'retain': 3441, 'institut': 3442, 'embrac': 3443, 'jenni': 3444, 'instant': 3445, 'florida': 3446, 'primari': 3447, 'humbl': 3448, 'brooklyn': 3449, 'vulgar': 3450, 'airplan': 3451, 'solut': 3452, 'pen': 3453, 'colonel': 3454, 'highest': 3455, 'aveng': 3456, 'trace': 3457, 'devast': 3458, 'exot': 3459, 'consum': 3460, 'colleagu': 3461, 'polanski': 3462, 'furthermor': 3463, 'bowl': 3464, 'outer': 3465, 'wive': 3466, 'descend': 3467, 'dian': 3468, 'godzilla': 3469, 'sale': 3470, 'illog': 3471, 'seduct': 3472, 'rick': 3473, 'principl': 3474, 'smaller': 3475, 'gender': 3476, 'cope': 3477, 'linda': 3478, 'poke': 3479, 'ya': 3480, '3rd': 3481, 'disabl': 3482, 'dutch': 3483, 'strain': 3484, '1999': 3485, 'gloriou': 3486, 'glamor': 3487, 'inferior': 3488, 'bubbl': 3489, 'secondli': 3490, 'beneath': 3491, 'primarili': 3492, 'mixtur': 3493, 'lol': 3494, 'vast': 3495, 'blatant': 3496, 'scope': 3497, 'devoid': 3498, 'cue': 3499, 'yard': 3500, 'dud': 3501, 'predecessor': 3502, 'dive': 3503, 'rabbit': 3504, 'hal': 3505, 'gundam': 3506, 'breed': 3507, 'april': 3508, 'alert': 3509, 'casual': 3510, 'museum': 3511, 'myer': 3512, 'simplist': 3513, 'pearl': 3514, 'shirley': 3515, 'talki': 3516, 'grinch': 3517, 'senseless': 3518, 'invas': 3519, 'alfr': 3520, 'hideou': 3521, 'trademark': 3522, 'countrysid': 3523, 'z': 3524, 'disjoint': 3525, 'arab': 3526, 'shelf': 3527, 'domino': 3528, 'et': 3529, 'aggress': 3530, 'streep': 3531, 'garbo': 3532, 'hardcor': 3533, 'vanish': 3534, 'maci': 3535, 'mail': 3536, 'unhappi': 3537, 'stir': 3538, 'boom': 3539, 'obtain': 3540, 'loyal': 3541, 'slide': 3542, 'oz': 3543, 'illeg': 3544, 'sh': 3545, 'hopeless': 3546, 'defens': 3547, 'disgrac': 3548, 'stack': 3549, 'uwe': 3550, 'stellar': 3551, 'mayor': 3552, 'robberi': 3553, 'applaud': 3554, 'robinson': 3555, 'rendit': 3556, 'acid': 3557, 'khan': 3558, 'experiment': 3559, 'rifl': 3560, 'span': 3561, 'psychic': 3562, 'spider': 3563, 'tempt': 3564, 'wont': 3565, 'dismiss': 3566, 'fri': 3567, 'counter': 3568, 'amanda': 3569, 'tenant': 3570, 'berlin': 3571, 'soccer': 3572, 'emphasi': 3573, 'declin': 3574, 'craze': 3575, 'blew': 3576, 'topless': 3577, 'incomprehens': 3578, 'recruit': 3579, 'hartley': 3580, 'dicken': 3581, 'scroog': 3582, 'diana': 3583, 'grandfath': 3584, 'resurrect': 3585, 'niro': 3586, 'lumet': 3587, 'sympath': 3588, 'ration': 3589, 'wet': 3590, 'faster': 3591, 'goer': 3592, 'bitch': 3593, 'sibl': 3594, 'riot': 3595, 'shaw': 3596, 'intim': 3597, 'parad': 3598, 'woo': 3599, 'trashi': 3600, 'porno': 3601, 'ethnic': 3602, 'shed': 3603, 'revolt': 3604, 'justin': 3605, 'enlighten': 3606, 'hesit': 3607, 'region': 3608, 'biographi': 3609, 'weakest': 3610, 'gap': 3611, 'wheel': 3612, 'steam': 3613, 'nephew': 3614, 'farmer': 3615, 'patriot': 3616, 'commend': 3617, 'jonathan': 3618, 'andr': 3619, 'mario': 3620, 'honesti': 3621, 'dealer': 3622, 'ballet': 3623, 'immort': 3624, 'wendi': 3625, 'eager': 3626, '00': 3627, 'worm': 3628, 'feminist': 3629, 'partial': 3630, 'rider': 3631, 'hopper': 3632, 'lena': 3633, 'ensur': 3634, 'slick': 3635, 'unreal': 3636, 'choru': 3637, 'owen': 3638, 'kingdom': 3639, 'sappi': 3640, 'charlott': 3641, 'hung': 3642, 'repress': 3643, 'psychopath': 3644, 'properti': 3645, 'wore': 3646, 'snap': 3647, 'sandra': 3648, 'similarli': 3649, 'nostalg': 3650, 'composit': 3651, 'util': 3652, 'mutant': 3653, 'franco': 3654, 'skull': 3655, 'leo': 3656, 'safeti': 3657, 'vice': 3658, 'victori': 3659, 'blunt': 3660, 'morri': 3661, 'prequel': 3662, 'macarthur': 3663, 'confin': 3664, 'miseri': 3665, 'pattern': 3666, 'tad': 3667, 'campbel': 3668, 'recycl': 3669, 'dalton': 3670, 'thru': 3671, 'cg': 3672, 'bumbl': 3673, 'acquir': 3674, 'dust': 3675, 'compass': 3676, 'deed': 3677, 'del': 3678, 'exit': 3679, 'repli': 3680, 'montana': 3681, 'farrel': 3682, 'strand': 3683, 'drain': 3684, 'bergman': 3685, 'whoopi': 3686, '1972': 3687, 'snl': 3688, 'hyde': 3689, 'drum': 3690, 'valuabl': 3691, 'heartbreak': 3692, 'emperor': 3693, 'despair': 3694, 'kyle': 3695, 'rocki': 3696, 'tail': 3697, 'bow': 3698, 'rambl': 3699, 'speci': 3700, 'rope': 3701, 'compens': 3702, 'latin': 3703, 'bonu': 3704, 'nervou': 3705, 'tonight': 3706, 'bleed': 3707, 'chess': 3708, 'pour': 3709, 'carradin': 3710, 'oppress': 3711, 'gimmick': 3712, 'orson': 3713, 'rotten': 3714, 'slug': 3715, 'gal': 3716, 'downhil': 3717, 'da': 3718, 'airport': 3719, 'contempl': 3720, 'romp': 3721, '35': 3722, 'percept': 3723, 'rapist': 3724, 'mistress': 3725, 'roth': 3726, 'wacki': 3727, 'olli': 3728, 'martian': 3729, 'radic': 3730, 'champion': 3731, '1983': 3732, 'mislead': 3733, 'melodi': 3734, 'preach': 3735, 'pervert': 3736, 'paltrow': 3737, 'heal': 3738, 'banal': 3739, 'pervers': 3740, 'arc': 3741, 'arguabl': 3742, 'dazzl': 3743, 'stilt': 3744, 'edgar': 3745, 'pursuit': 3746, 'attorney': 3747, 'slash': 3748, 'belt': 3749, 'tackl': 3750, 'tooth': 3751, 'shelley': 3752, 'unpredict': 3753, 'taught': 3754, 'programm': 3755, 'gambl': 3756, 'conneri': 3757, 'employe': 3758, 'vengeanc': 3759, 'vocal': 3760, 'tiresom': 3761, 'virginia': 3762, 'uplift': 3763, 'bela': 3764, 'plight': 3765, 'duval': 3766, 'franki': 3767, 'marti': 3768, 'graham': 3769, 'orang': 3770, 'mesmer': 3771, 'maid': 3772, 'chicken': 3773, 'sensat': 3774, 'poem': 3775, 'rubi': 3776, 'raymond': 3777, 'passeng': 3778, 'closest': 3779, 'cleverli': 3780, 'dixon': 3781, 'profan': 3782, 'mute': 3783, 'swallow': 3784, 'calm': 3785, 'sirk': 3786, 'giggl': 3787, 'inject': 3788, 'scottish': 3789, 'monologu': 3790, 'iran': 3791, 'extens': 3792, 'suffic': 3793, 'bay': 3794, 'clone': 3795, 'amitabh': 3796, 'quarter': 3797, 'secretli': 3798, 'tube': 3799, 'climact': 3800, 'yawn': 3801, 'numb': 3802, 'habit': 3803, '1968': 3804, 'engross': 3805, 'crystal': 3806, 'whine': 3807, 'gerard': 3808, 'outing': 3809, 'paranoia': 3810, 'volum': 3811, 'convincingli': 3812, 'lundgren': 3813, 'pokemon': 3814, 'abraham': 3815, 'ethan': 3816, 'abort': 3817, 'junior': 3818, 'septemb': 3819, 'profess': 3820, 'earl': 3821, 'dispos': 3822, 'poetri': 3823, 'linger': 3824, 'fed': 3825, 'meander': 3826, 'trend': 3827, 'grotesqu': 3828, 'bend': 3829, 'austen': 3830, 'surpass': 3831, 'lowest': 3832, 'underst': 3833, 'taxi': 3834, 'spock': 3835, 'expand': 3836, 'backward': 3837, 'frankenstein': 3838, 'plod': 3839, 'im': 3840, 'nichola': 3841, 'chicago': 3842, 'franci': 3843, 'richardson': 3844, 'cannon': 3845, 'household': 3846, 'rant': 3847, 'literatur': 3848, 'muddl': 3849, 'waitress': 3850, 'myth': 3851, 'lure': 3852, 'tourist': 3853, 'simplic': 3854, 'sue': 3855, 'mundan': 3856, 'der': 3857, 'catchi': 3858, 'hum': 3859, 'descent': 3860, 'compliment': 3861, 'eugen': 3862, 'rubber': 3863, 'nostalgia': 3864, 'greedi': 3865, 'instrument': 3866, 'stallon': 3867, 'dysfunct': 3868, 'econom': 3869, 'spoke': 3870, 'deaf': 3871, 'damon': 3872, 'furi': 3873, 'irrelev': 3874, 'eaten': 3875, 'mortal': 3876, 'louis': 3877, 'equival': 3878, 'recognis': 3879, 'lang': 3880, 'cent': 3881, 'dement': 3882, 'stale': 3883, 'coast': 3884, 'map': 3885, 'phoni': 3886, 'alongsid': 3887, 'hello': 3888, 'mankind': 3889, 'omen': 3890, 'firstli': 3891, 'duck': 3892, 'phantom': 3893, 'carel': 3894, 'occupi': 3895, 'insur': 3896, 'dictat': 3897, 'molli': 3898, 'sissi': 3899, 'june': 3900, 'randi': 3901, 'bacal': 3902, 'flee': 3903, 'recognit': 3904, 'crucial': 3905, 'likewis': 3906, 'rude': 3907, 'onlin': 3908, 'rooney': 3909, 'ashley': 3910, 'distinguish': 3911, 'twilight': 3912, 'lengthi': 3913, 'heel': 3914, 'newli': 3915, 'labor': 3916, 'dreari': 3917, 'antwon': 3918, 'freez': 3919, 'bump': 3920, 'cyborg': 3921, 'damm': 3922, 'loyalti': 3923, 'daisi': 3924, 'wisdom': 3925, '1973': 3926, 'drake': 3927, 'bike': 3928, 'blackmail': 3929, 'reign': 3930, 'grayson': 3931, 'biko': 3932, 'buffalo': 3933, 'keith': 3934, 'prey': 3935, 'exposur': 3936, 'pink': 3937, 'chronicl': 3938, 'vein': 3939, 'startl': 3940, 'emphas': 3941, 'boxer': 3942, 'ridden': 3943, 'provoc': 3944, 'analysi': 3945, 'worn': 3946, 'unorigin': 3947, 'proce': 3948, 'nineti': 3949, 'approv': 3950, 'interior': 3951, 'attribut': 3952, 'incorpor': 3953, 'barrymor': 3954, 'butler': 3955, 'baddi': 3956, 'tunnel': 3957, 'basketbal': 3958, 'inher': 3959, 'sailor': 3960, 'predat': 3961, 'elm': 3962, 'substitut': 3963, 'indiffer': 3964, 'underli': 3965, 'nicol': 3966, 'millionair': 3967, 'bunni': 3968, 'meyer': 3969, 'improvis': 3970, 'undeni': 3971, 'simmon': 3972, 'er': 3973, 'belushi': 3974, 'stalker': 3975, 'unrel': 3976, 'mighti': 3977, 'condemn': 3978, 'barrel': 3979, 'fleet': 3980, 'drift': 3981, 'walsh': 3982, 'degrad': 3983, 'julian': 3984, 'hypnot': 3985, 'robbin': 3986, 'meg': 3987, 'carla': 3988, 'othello': 3989, 'mormon': 3990, 'marion': 3991, 'novak': 3992, 'enthusiasm': 3993, 'alarm': 3994, 'unawar': 3995, 'disord': 3996, 'nyc': 3997, 'warmth': 3998, 'alison': 3999, 'agenda': 4000, 'hay': 4001, 'priceless': 4002, 'lampoon': 4003, 'mtv': 4004, 'firm': 4005, 'shove': 4006, 'errol': 4007, 'roof': 4008, 'edgi': 4009, 'vital': 4010, 'greed': 4011, '3d': 4012, 'reid': 4013, 'exquisit': 4014, 'watson': 4015, 'palac': 4016, 'rukh': 4017, 'dolph': 4018, 'glanc': 4019, 'profit': 4020, 'petti': 4021, 'sergeant': 4022, 'eastern': 4023, 'israel': 4024, 'orlean': 4025, 'preserv': 4026, 'session': 4027, 'coup': 4028, 'peril': 4029, 'campaign': 4030, 'thompson': 4031, 'ponder': 4032, 'unleash': 4033, 'spain': 4034, 'angela': 4035, 'minimum': 4036, 'championship': 4037, 'simultan': 4038, 'randomli': 4039, 'nun': 4040, 'testament': 4041, 'iraq': 4042, 'pamela': 4043, 'beatl': 4044, 'what': 4045, 'gestur': 4046, 'drip': 4047, '13th': 4048, 'distort': 4049, 'peck': 4050, 'crown': 4051, 'valentin': 4052, 'showdown': 4053, 'zizek': 4054, '1933': 4055, 'cassidi': 4056, 'calib': 4057, 'brenda': 4058, 'han': 4059, 'represent': 4060, 'climat': 4061, 'reson': 4062, 'stake': 4063, 'perpetu': 4064, 'unimagin': 4065, 'stroke': 4066, 'scotland': 4067, 'restrain': 4068, 'crawl': 4069, 'rout': 4070, 'buster': 4071, 'sabrina': 4072, 'valley': 4073, 'cream': 4074, 'jan': 4075, 'travesti': 4076, 'shootout': 4077, 'exposit': 4078, 'regist': 4079, 'contradict': 4080, '1984': 4081, 'bro': 4082, 'crow': 4083, 'realm': 4084, 'quinn': 4085, 'gentleman': 4086, 'wig': 4087, 'kurosawa': 4088, 'mon': 4089, 'empathi': 4090, 'cooki': 4091, 'miyazaki': 4092, 'din': 4093, 'fido': 4094, 'sucker': 4095, 'ustinov': 4096, 'darren': 4097, 'shoddi': 4098, 'unsatisfi': 4099, 'sammi': 4100, 'abomin': 4101, 'monoton': 4102, 'compromis': 4103, 'demis': 4104, 'absent': 4105, 'dana': 4106, 'warrant': 4107, 'crawford': 4108, 'businessman': 4109, 'cloud': 4110, '1997': 4111, 'passabl': 4112, 'baldwin': 4113, 'pole': 4114, 'perceiv': 4115, 'censor': 4116, 'stargat': 4117, 'geek': 4118, '1987': 4119, 'spacey': 4120, 'josh': 4121, 'ross': 4122, 'delic': 4123, 'fuller': 4124, 'mclaglen': 4125, 'wax': 4126, 'traumat': 4127, 'greg': 4128, 'pretens': 4129, 'shaki': 4130, 'distress': 4131, 'painter': 4132, 'unseen': 4133, 'tacki': 4134, 'meryl': 4135, 'derang': 4136, 'soderbergh': 4137, 'femm': 4138, 'wholli': 4139, 'expedit': 4140, 'fog': 4141, 'reluct': 4142, 'tarantino': 4143, 'valid': 4144, 'polici': 4145, 'deceas': 4146, 'furiou': 4147, 'verbal': 4148, 'primit': 4149, 'click': 4150, 'nathan': 4151, 'judgment': 4152, 'correctli': 4153, '1993': 4154, 'sid': 4155, 'dee': 4156, 'jewel': 4157, 'tech': 4158, 'norm': 4159, 'accuraci': 4160, 'kumar': 4161, 'unravel': 4162, 'deniro': 4163, 'austin': 4164, 'clash': 4165, 'antonioni': 4166, 'uncov': 4167, 'fenc': 4168, 'exclus': 4169, 'anchor': 4170, 'seal': 4171, 'fought': 4172, 'fart': 4173, 'dreck': 4174, 'slam': 4175, 'sheet': 4176, 'seldom': 4177, 'enforc': 4178, 'clerk': 4179, 'shanghai': 4180, 'crippl': 4181, 'debt': 4182, 'sunni': 4183, 'bake': 4184, 'wretch': 4185, 'mode': 4186, '3000': 4187, 'roller': 4188, 'nicola': 4189, 'patienc': 4190, 'sustain': 4191, 'unfair': 4192, '1971': 4193, 'logan': 4194, 'trait': 4195, 'alec': 4196, 'fabric': 4197, 'behold': 4198, 'temper': 4199, 'joel': 4200, 'wang': 4201, '2008': 4202, 'sand': 4203, 'murray': 4204, 'hallucin': 4205, 'tax': 4206, 'ritual': 4207, 'conduct': 4208, 'malon': 4209, 'pocket': 4210, 'darn': 4211, '1995': 4212, 'vanc': 4213, 'stuart': 4214, 'conscious': 4215, 'tactic': 4216, 'outlin': 4217, 'soup': 4218, 'divid': 4219, 'legaci': 4220, 'phil': 4221, 'rita': 4222, 'exhaust': 4223, 'preston': 4224, 'helpless': 4225, 'penni': 4226, 'bias': 4227, 'grief': 4228, 'schedul': 4229, 'critiqu': 4230, 'guitar': 4231, 'canyon': 4232, 'fundament': 4233, 'preposter': 4234, 'clau': 4235, 'stark': 4236, 'runner': 4237, 'despis': 4238, 'pete': 4239, 'scriptwrit': 4240, 'technicolor': 4241, 'bridget': 4242, 'squad': 4243, 'robber': 4244, 'sweep': 4245, 'isabel': 4246, 'shell': 4247, 'alley': 4248, 'cigarett': 4249, 'bloom': 4250, 'rehash': 4251, 'lacklust': 4252, 'passag': 4253, 'marc': 4254, 'jacket': 4255, 'sniper': 4256, 'russia': 4257, 'sugar': 4258, 'liberti': 4259, 'connor': 4260, 'flair': 4261, 'implic': 4262, 'culmin': 4263, 'delv': 4264, 'sentinel': 4265, 'propos': 4266, 'invad': 4267, 'downey': 4268, 'vomit': 4269, 'consciou': 4270, 'newman': 4271, 'unexpectedli': 4272, 'kansa': 4273, 'drove': 4274, 'boyl': 4275, 'restrict': 4276, 'rear': 4277, 'alicia': 4278, 'agenc': 4279, 'jodi': 4280, 'palanc': 4281, 'inabl': 4282, 'gregori': 4283, 'rod': 4284, 'tendenc': 4285, 'arrow': 4286, 'wrench': 4287, 'pale': 4288, 'lush': 4289, 'awhil': 4290, 'horn': 4291, '22': 4292, 'behaviour': 4293, 'chainsaw': 4294, 'vet': 4295, 'rehears': 4296, 'sharon': 4297, '1936': 4298, 'asylum': 4299, 'ladder': 4300, 'aesthet': 4301, 'rampag': 4302, 'foxx': 4303, 'improb': 4304, 'karl': 4305, 'cap': 4306, 'kolchak': 4307, 'delet': 4308, 'feat': 4309, 'tripe': 4310, 'mccoy': 4311, 'yeti': 4312, 'bacon': 4313, 'amazon': 4314, 'globe': 4315, 'sung': 4316, 'conscienc': 4317, '1978': 4318, 'elit': 4319, 'loneli': 4320, 'shortcom': 4321, 'visitor': 4322, '19th': 4323, 'lurk': 4324, 'hackney': 4325, 'tasteless': 4326, 'rumor': 4327, 'hungri': 4328, 'hulk': 4329, 'prank': 4330, 'suffici': 4331, 'coaster': 4332, 'stream': 4333, '1920': 4334, 'minu': 4335, 'underneath': 4336, 'spice': 4337, 'paradis': 4338, 'tomorrow': 4339, 'suspicion': 4340, 'financ': 4341, 'aristocrat': 4342, 'el': 4343, 'fright': 4344, 'wagner': 4345, 'newcom': 4346, 'filler': 4347, 'scoop': 4348, 'paramount': 4349, 'weav': 4350, 'wildli': 4351, '1988': 4352, 'basing': 4353, 'rhythm': 4354, 'thunderbird': 4355, 'abrupt': 4356, 'atroc': 4357, 'literari': 4358, 'entranc': 4359, 'minist': 4360, 'beverli': 4361, 'dirt': 4362, 'iv': 4363, '75': 4364, 'grudg': 4365, 'secondari': 4366, '1939': 4367, 'curli': 4368, 'lectur': 4369, 'impos': 4370, 'choppi': 4371, 'recogniz': 4372, 'hopkin': 4373, 'posey': 4374, 'immers': 4375, 'bread': 4376, '1989': 4377, 'penn': 4378, 'teas': 4379, 'straightforward': 4380, 'smell': 4381, 'worship': 4382, 'springer': 4383, 'tierney': 4384, 'counterpart': 4385, 'quietli': 4386, 'naughti': 4387, 'rub': 4388, 'leigh': 4389, 'ingeni': 4390, 'chamberlain': 4391, 'couch': 4392, 'standout': 4393, 'heist': 4394, 'en': 4395, 'inmat': 4396, 'wwe': 4397, 'brit': 4398, 'ram': 4399, 'paxton': 4400, 'cancer': 4401, 'chavez': 4402, 'policeman': 4403, 'moreov': 4404, 'ace': 4405, 'laurenc': 4406, 'ratso': 4407, 'clan': 4408, 'morbid': 4409, 'sassi': 4410, 'cattl': 4411, '1986': 4412, 'watcher': 4413, 'net': 4414, 'transcend': 4415, 'missil': 4416, 'esther': 4417, 'yearn': 4418, 'sublim': 4419, 'injuri': 4420, 'heartfelt': 4421, 'nemesi': 4422, 'entitl': 4423, 'variat': 4424, 'lindsay': 4425, 'convert': 4426, 'nolan': 4427, 'attenborough': 4428, 'bernard': 4429, 'duel': 4430, 'skeptic': 4431, 'quaid': 4432, 'misguid': 4433, 'enthral': 4434, 'geni': 4435, 'puppi': 4436, '1979': 4437, 'bean': 4438, 'youngest': 4439, 'grin': 4440, 'unexplain': 4441, 'kidman': 4442, 'uncut': 4443, 'mytholog': 4444, 'facil': 4445, 'graini': 4446, 'characteris': 4447, 'hopelessli': 4448, 'vader': 4449, 'setup': 4450, 'enabl': 4451, 'moder': 4452, 'rosemari': 4453, 'cruelti': 4454, 'dont': 4455, 'obstacl': 4456, 'buzz': 4457, 'poe': 4458, 'artsi': 4459, 'steadi': 4460, 'reliabl': 4461, 'out': 4462, 'bye': 4463, 'carlito': 4464, 'hk': 4465, 'tyler': 4466, 'kitti': 4467, 'brood': 4468, 'diari': 4469, 'egg': 4470, 'spiral': 4471, 'gina': 4472, 'hammi': 4473, 'bounc': 4474, 'narrow': 4475, 'weather': 4476, 'disastr': 4477, 'decept': 4478, 'oblig': 4479, 'fuel': 4480, 'heap': 4481, 'hain': 4482, 'sweat': 4483, 'bronson': 4484, 'underworld': 4485, 'athlet': 4486, 'kline': 4487, 'spontan': 4488, 'effici': 4489, 'bewar': 4490, '1969': 4491, 'baffl': 4492, 'martha': 4493, 'acquaint': 4494, 'gillian': 4495, 'clueless': 4496, 'niec': 4497, 'preming': 4498, 'brendan': 4499, 'despic': 4500, 'patricia': 4501, 'christin': 4502, 'exterior': 4503, 'fontain': 4504, 'biker': 4505, 'preachi': 4506, 'shatter': 4507, 'candl': 4508, 'headach': 4509, 'viewpoint': 4510, 'enlist': 4511, 'mermaid': 4512, 'sooner': 4513, 'loath': 4514, 'insipid': 4515, 'virtu': 4516, 'astound': 4517, '19': 4518, 'harmless': 4519, 'rome': 4520, 'trigger': 4521, 'analyz': 4522, 'loi': 4523, 'mayhem': 4524, 'angst': 4525, 'outlaw': 4526, 'circu': 4527, 'goof': 4528, 'lester': 4529, 'tick': 4530, 'sleepwalk': 4531, 'dilemma': 4532, '73': 4533, 'taboo': 4534, 'injur': 4535, 'scar': 4536, 'suprem': 4537, 'uh': 4538, 'hepburn': 4539, 'housewif': 4540, 'renaiss': 4541, 'dandi': 4542, 'stimul': 4543, 'dish': 4544, 'oldest': 4545, 'fluff': 4546, 'hostag': 4547, 'claustrophob': 4548, 'macho': 4549, 'scorses': 4550, 'hooker': 4551, 'cassavet': 4552, 'zoom': 4553, 'camcord': 4554, 'overlong': 4555, 'steer': 4556, 'contempt': 4557, 'guin': 4558, 'glorifi': 4559, 'redund': 4560, 'ebert': 4561, 'slimi': 4562, 'idol': 4563, 'stair': 4564, 'phenomenon': 4565, 'filth': 4566, 'intric': 4567, 'dismal': 4568, 'immatur': 4569, 'boston': 4570, 'salt': 4571, 'spade': 4572, 'gere': 4573, 'corbett': 4574, 'ariel': 4575, 'foolish': 4576, 'surgeri': 4577, 'hokey': 4578, 'bent': 4579, 'amor': 4580, 'tripl': 4581, 'whore': 4582, 'sox': 4583, 'assert': 4584, 'faint': 4585, 'frantic': 4586, 'widescreen': 4587, 'keen': 4588, 'flirt': 4589, 'schlock': 4590, 'cow': 4591, 'dwarf': 4592, 'conquer': 4593, '1981': 4594, 'perman': 4595, 'messi': 4596, 'gabl': 4597, 'beard': 4598, 'gasp': 4599, 'obligatori': 4600, 'down': 4601, 'flashi': 4602, 'flag': 4603, 'spinal': 4604, 'zane': 4605, 'preced': 4606, 'margin': 4607, 'remad': 4608, 'joker': 4609, 'antagonist': 4610, '1976': 4611, 'naschi': 4612, 'transplant': 4613, 'fascist': 4614, 'trivia': 4615, 'shred': 4616, 'strongest': 4617, 'muscl': 4618, 'mutual': 4619, 'spree': 4620, 'cohen': 4621, 'proport': 4622, 'shield': 4623, 'nolt': 4624, 'radiat': 4625, 'corman': 4626, 'rhyme': 4627, 'harold': 4628, 'astronaut': 4629, 'mount': 4630, 'alvin': 4631, 'cush': 4632, 'info': 4633, 'boob': 4634, 'bachelor': 4635, 'instruct': 4636, 'fishburn': 4637, 'flock': 4638, 'resum': 4639, 'persuad': 4640, 'wield': 4641, 'interestingli': 4642, 'someday': 4643, 'raj': 4644, 'barn': 4645, 'triangl': 4646, 'discern': 4647, 'carey': 4648, 'inflict': 4649, 'strive': 4650, 'scandal': 4651, 'departur': 4652, 'www': 4653, 'brush': 4654, 'sensual': 4655, 'deer': 4656, '95': 4657, 'hara': 4658, 'claud': 4659, 'repris': 4660, 'bitten': 4661, 'mol': 4662, 'neurot': 4663, 'vaniti': 4664, 'divin': 4665, 'off': 4666, '28': 4667, 'ritchi': 4668, 'archiv': 4669, '1945': 4670, 'danish': 4671, 'aborigin': 4672, 'mobil': 4673, 'ish': 4674, 'anton': 4675, 'rot': 4676, 'pacif': 4677, 'clad': 4678, 'cycl': 4679, 'bate': 4680, 'senior': 4681, 'hilar': 4682, 'parson': 4683, 'hapless': 4684, 'traffic': 4685, 'fragil': 4686, 'kathryn': 4687, 'melissa': 4688, 'dim': 4689, 'axe': 4690, 'helm': 4691, 'loretta': 4692, 'luka': 4693, 'pixar': 4694, 'undermin': 4695, 'artwork': 4696, 'frontier': 4697, 'heartwarm': 4698, 'mobster': 4699, 'casino': 4700, 'cb': 4701, 'harrison': 4702, 'vibrant': 4703, 'banter': 4704, 'carlo': 4705, 'neill': 4706, 'recit': 4707, 'colin': 4708, 'dylan': 4709, 'cliffhang': 4710, 'cher': 4711, 'biblic': 4712, 'proclaim': 4713, 'miracul': 4714, 'pickford': 4715, 'dame': 4716, 'earnest': 4717, 'jade': 4718, 'wendigo': 4719, 'submit': 4720, 'prophet': 4721, 'hug': 4722, 'europa': 4723, 'timberlak': 4724, 'estrang': 4725, 'uma': 4726, 'eli': 4727, 'toronto': 4728, 'static': 4729, 'shepherd': 4730, 'marlon': 4731, 'lucil': 4732, 'flavor': 4733, 'nope': 4734, 'razor': 4735, 'northern': 4736, 'redneck': 4737, 'sicken': 4738, 'mason': 4739, 'blatantli': 4740, 'feast': 4741, 'alexandr': 4742, 'antholog': 4743, 'jo': 4744, 'vile': 4745, 'bondag': 4746, 'vanessa': 4747, 'breakfast': 4748, 'articl': 4749, 'bikini': 4750, 'wardrob': 4751, 'mathieu': 4752, 'orphan': 4753, 'rooki': 4754, 'isra': 4755, 'http': 4756, 'seedi': 4757, 'akin': 4758, 'token': 4759, 'holocaust': 4760, 'illus': 4761, 'aris': 4762, 'pc': 4763, 'cerebr': 4764, 'misfortun': 4765, 'venom': 4766, 'foil': 4767, 'lui': 4768, 'jordan': 4769, 'trier': 4770, 'electron': 4771, 'choke': 4772, 'legitim': 4773, 'winchest': 4774, 'milo': 4775, 'leather': 4776, 'psych': 4777, 'tack': 4778, 'turd': 4779, 'clinic': 4780, 'feminin': 4781, 'knightley': 4782, 'glare': 4783, 'wrestler': 4784, 'oppon': 4785, 'ceremoni': 4786, 'deem': 4787, 'comprehend': 4788, 'outdat': 4789, 'magician': 4790, 'shorter': 4791, 'ideolog': 4792, 'peer': 4793, 'dudley': 4794, 'boyer': 4795, 'disregard': 4796, 'highway': 4797, 'howl': 4798, 'affleck': 4799, 'fifth': 4800, 'linear': 4801, 'abund': 4802, 'charlton': 4803, 'retriev': 4804, 'nightclub': 4805, 'smack': 4806, 'gilbert': 4807, 'styliz': 4808, 'swept': 4809, 'audrey': 4810, 'cartoonish': 4811, 'huston': 4812, 'frog': 4813, 'gunga': 4814, 'summar': 4815, 'chip': 4816, 'newer': 4817, 'plate': 4818, 'whack': 4819, 'spine': 4820, 'mitch': 4821, 'deliver': 4822, 'greet': 4823, 'cemeteri': 4824, 'compris': 4825, 'client': 4826, 'bastard': 4827, 'lighter': 4828, 'moe': 4829, 'energet': 4830, 'einstein': 4831, 'senat': 4832, '4th': 4833, 'sleaz': 4834, '1991': 4835, 'toe': 4836, 'btw': 4837, 'lifeless': 4838, 'cuban': 4839, 'breakdown': 4840, '1994': 4841, 'lavish': 4842, 'snatch': 4843, 'monument': 4844, 'potter': 4845, 'evolut': 4846, 'goldsworthi': 4847, 'uniformli': 4848, 'phenomen': 4849, 'tara': 4850, 'collector': 4851, 'corn': 4852, 'spawn': 4853, 'conrad': 4854, 'bogu': 4855, 'boo': 4856, 'braveheart': 4857, 'durat': 4858, 'salman': 4859, 'mcqueen': 4860, 'replay': 4861, 'pronounc': 4862, 'capot': 4863, 'inaccuraci': 4864, 'armstrong': 4865, 'eleven': 4866, 'judd': 4867, 'randolph': 4868, 'jule': 4869, '1977': 4870, 'creek': 4871, 'ol': 4872, 'spectacl': 4873, 'signal': 4874, 'undead': 4875, 'ie': 4876, 'undertak': 4877, '1974': 4878, 'sorrow': 4879, 'neatli': 4880, 'constitut': 4881, 'alleg': 4882, 'outright': 4883, 'bulk': 4884, 'bori': 4885, 'firmli': 4886, 'lex': 4887, 'fluid': 4888, 'evelyn': 4889, 'healthi': 4890, 'jare': 4891, 'jedi': 4892, 'clara': 4893, 'occup': 4894, 'liu': 4895, 'wtf': 4896, 'appl': 4897, 'jam': 4898, 'kazan': 4899, 'cecil': 4900, 'trauma': 4901, 'kent': 4902, 'historian': 4903, 'embark': 4904, 'gilliam': 4905, 'luxuri': 4906, 'nina': 4907, 'belli': 4908, 'rosario': 4909, 'vignett': 4910, 'inclus': 4911, 'vain': 4912, 'blur': 4913, 'miami': 4914, 'genet': 4915, 'sacrif': 4916, 'roar': 4917, 'curtain': 4918, 'knee': 4919, 'cape': 4920, 'porter': 4921, 'fruit': 4922, 'abound': 4923, 'kiddi': 4924, 'unsuspect': 4925, 'decapit': 4926, 'subtli': 4927, 'sidewalk': 4928, 'galaxi': 4929, 'bait': 4930, 'truman': 4931, 'inaccur': 4932, 'groan': 4933, 'goldblum': 4934, 'unattract': 4935, 'pioneer': 4936, 'basket': 4937, 'propheci': 4938, 'walt': 4939, 'antonio': 4940, 'forgiven': 4941, 'relentless': 4942, 'meal': 4943, 'miniseri': 4944, 'paula': 4945, 'conan': 4946, 'tokyo': 4947, 'id': 4948, 'bsg': 4949, 'comb': 4950, 'pepper': 4951, 'lauren': 4952, 'spray': 4953, 'palm': 4954, 'ash': 4955, 'lanc': 4956, 'aussi': 4957, 'poker': 4958, '1985': 4959, 'congratul': 4960, 'carmen': 4961, 'mum': 4962, 'comprehens': 4963, 'asset': 4964, 'weaker': 4965, 'monti': 4966, 'detach': 4967, 'verg': 4968, 'masterson': 4969, 'dubiou': 4970, 'sparkl': 4971, 'optimist': 4972, 'incorrect': 4973, 'growth': 4974, 'weari': 4975, 'substanti': 4976, 'sophi': 4977, 'assort': 4978, 'reincarn': 4979, '21st': 4980, 'spill': 4981, 'ghetto': 4982, 'rapidli': 4983, 'omin': 4984, 'turtl': 4985, 'cypher': 4986, 'vastli': 4987, 'casper': 4988, 'hostil': 4989, 'drone': 4990, 'handicap': 4991, 'frontal': 4992, 'hackman': 4993, 'ingrid': 4994, 'evan': 4995, 'profil': 4996, 'scarfac': 4997, 'orchestr': 4998, 'bravo': 4999}\n"
     ]
    }
   ],
   "source": [
    "print(word_dict)"
   ]
  },
  {
   "cell_type": "code",
   "execution_count": 33,
   "metadata": {},
   "outputs": [
    {
     "data": {
      "text/plain": [
       "['movi', 'film', 'one', 'like', 'time']"
      ]
     },
     "execution_count": 33,
     "metadata": {},
     "output_type": "execute_result"
    }
   ],
   "source": [
    "top_common_five = list(word_dict)\n",
    "top_common_five[0:5]"
   ]
  },
  {
   "cell_type": "markdown",
   "metadata": {},
   "source": [
    "**Question:** What are the five most frequently appearing (tokenized) words in the training set? Does it makes sense that these words appear frequently in the training set?"
   ]
  },
  {
   "cell_type": "markdown",
   "metadata": {},
   "source": [
    "**Answer:** The five most freqent words are movi, film, one, like and time as you can see below detail."
   ]
  },
  {
   "cell_type": "markdown",
   "metadata": {},
   "source": [
    "### Save `word_dict`\n",
    "\n",
    "Later on when we construct an endpoint which processes a submitted review we will need to make use of the `word_dict` which we have created. As such, we will save it to a file now for future use."
   ]
  },
  {
   "cell_type": "code",
   "execution_count": 34,
   "metadata": {},
   "outputs": [],
   "source": [
    "data_dir = '../data/pytorch' # The folder we will use for storing data\n",
    "if not os.path.exists(data_dir): # Make sure that the folder exists\n",
    "    os.makedirs(data_dir)"
   ]
  },
  {
   "cell_type": "code",
   "execution_count": 35,
   "metadata": {},
   "outputs": [],
   "source": [
    "with open(os.path.join(data_dir, 'word_dict.pkl'), \"wb\") as f:\n",
    "    pickle.dump(word_dict, f)"
   ]
  },
  {
   "cell_type": "markdown",
   "metadata": {},
   "source": [
    "### Transform the reviews\n",
    "\n",
    "Now that we have our word dictionary which allows us to transform the words appearing in the reviews into integers, it is time to make use of it and convert our reviews to their integer sequence representation, making sure to pad or truncate to a fixed length, which in our case is `500`."
   ]
  },
  {
   "cell_type": "code",
   "execution_count": 36,
   "metadata": {},
   "outputs": [],
   "source": [
    "def convert_and_pad(word_dict, sentence, pad=500):\n",
    "    NOWORD = 0 # We will use 0 to represent the 'no word' category\n",
    "    INFREQ = 1 # and we use 1 to represent the infrequent words, i.e., words not appearing in word_dict\n",
    "    \n",
    "    working_sentence = [NOWORD] * pad\n",
    "    \n",
    "    for word_index, word in enumerate(sentence[:pad]):\n",
    "        if word in word_dict:\n",
    "            working_sentence[word_index] = word_dict[word]\n",
    "            #print(\"---------\")\n",
    "            #print(working_sentence[word_index])\n",
    "        else:\n",
    "            working_sentence[word_index] = INFREQ\n",
    "    #print(working_sentence)\n",
    "    return working_sentence, min(len(sentence), pad)\n",
    "\n",
    "def convert_and_pad_data(word_dict, data, pad=500):\n",
    "    result = []\n",
    "    lengths = []\n",
    "\n",
    "    for sentence in data:\n",
    "        converted, leng = convert_and_pad(word_dict, sentence, pad)\n",
    "        result.append(converted)\n",
    "        lengths.append(leng)\n",
    "        \n",
    "    return np.array(result), np.array(lengths)"
   ]
  },
  {
   "cell_type": "code",
   "execution_count": 37,
   "metadata": {},
   "outputs": [],
   "source": [
    "train_X, train_X_len = convert_and_pad_data(word_dict, train_X)\n",
    "test_X, test_X_len = convert_and_pad_data(word_dict, test_X)"
   ]
  },
  {
   "cell_type": "markdown",
   "metadata": {},
   "source": [
    "As a quick check to make sure that things are working as intended, check to see what one of the reviews in the training set looks like after having been processeed. Does this look reasonable? What is the length of a review in the training set?"
   ]
  },
  {
   "cell_type": "code",
   "execution_count": 38,
   "metadata": {},
   "outputs": [
    {
     "data": {
      "text/plain": [
       "array([ 573,  476, 1576,  489,  362, 1174,  327, 1187,  110,  340,  418,\n",
       "          1,    1,  917,  535,  489,   65,    1, 4472,    1, 2697, 1235,\n",
       "          1,    1,  862,   82,   80,   34,  168,    2,   47,  955,   32,\n",
       "        766, 1398,    7,  324,   70,  327,    1,   17, 1280, 4403,  819,\n",
       "        513,  202,  140,    1,  246,  485, 1225,    1,    1,  653, 1431,\n",
       "       3560,  574,    1,  303, 2062,   25,    1,   10,  316,  250, 1030,\n",
       "          1,    1, 1489,    1,  656, 2143,   52,   89,    1, 2124,    1,\n",
       "        135,  151,   52,    1, 2829,  184, 2349, 2606,    6,  248,  323,\n",
       "         91,   10,  193,  325,  894,    1, 1571,   40, 4472,   10,  128,\n",
       "       2236,  231,  133,  471,   10, 1571,  249,  284, 1174,  250,  103,\n",
       "        382,  175, 1457,    1,   44,   72,  162, 1571,  233, 1168,    1,\n",
       "         39,  504, 4472,  277, 1319,   14,  231,   11, 3464, 4248, 1280,\n",
       "        601,  676,  212,   33,  793,  852, 2502,  339, 1571,    4,   86,\n",
       "         10, 4472, 2632,   86,  761, 3330, 4472,  133,  370,  489,   10,\n",
       "        492,  346,  279,  825, 1102, 1571,    1, 1009,  104,   61, 4472,\n",
       "         17,   39,  698, 2125,  230,  245, 1562, 1296,  349,  107,   89,\n",
       "        112,   40,    1,    1,   27,  100, 4472,  819, 4403,    1, 1572,\n",
       "          1, 4725,  243,   42,  138,   27, 1174,  250,  326,    1,  530,\n",
       "       4472,  139, 1202,  607,  231,  568, 2503,  140,   64,    1, 2644,\n",
       "       1125,    1,    1, 1619,    1, 1380,  574,    1,   79,  107,  237,\n",
       "       1500,   44,   72, 1074,    1,  184,  250, 4472,  137,   10,  223,\n",
       "         10, 1571,  761,  127, 1015, 2245,  250, 1165, 4472, 1465, 1377,\n",
       "        943, 1441,    4,  452,   20, 1103, 1465,    2,  918,  354,   16,\n",
       "        301,   32, 2697, 1235, 1572,    1,  187, 1489,    1,  238, 4057,\n",
       "         60, 2220,    3,   17,  770,   34,  168,    2,   65,   11,    0,\n",
       "          0,    0,    0,    0,    0,    0,    0,    0,    0,    0,    0,\n",
       "          0,    0,    0,    0,    0,    0,    0,    0,    0,    0,    0,\n",
       "          0,    0,    0,    0,    0,    0,    0,    0,    0,    0,    0,\n",
       "          0,    0,    0,    0,    0,    0,    0,    0,    0,    0,    0,\n",
       "          0,    0,    0,    0,    0,    0,    0,    0,    0,    0,    0,\n",
       "          0,    0,    0,    0,    0,    0,    0,    0,    0,    0,    0,\n",
       "          0,    0,    0,    0,    0,    0,    0,    0,    0,    0,    0,\n",
       "          0,    0,    0,    0,    0,    0,    0,    0,    0,    0,    0,\n",
       "          0,    0,    0,    0,    0,    0,    0,    0,    0,    0,    0,\n",
       "          0,    0,    0,    0,    0,    0,    0,    0,    0,    0,    0,\n",
       "          0,    0,    0,    0,    0,    0,    0,    0,    0,    0,    0,\n",
       "          0,    0,    0,    0,    0,    0,    0,    0,    0,    0,    0,\n",
       "          0,    0,    0,    0,    0,    0,    0,    0,    0,    0,    0,\n",
       "          0,    0,    0,    0,    0,    0,    0,    0,    0,    0,    0,\n",
       "          0,    0,    0,    0,    0,    0,    0,    0,    0,    0,    0,\n",
       "          0,    0,    0,    0,    0,    0,    0,    0,    0,    0,    0,\n",
       "          0,    0,    0,    0,    0,    0,    0,    0,    0,    0,    0,\n",
       "          0,    0,    0,    0,    0,    0,    0,    0,    0,    0,    0,\n",
       "          0,    0,    0,    0,    0,    0,    0,    0,    0,    0,    0,\n",
       "          0,    0,    0,    0,    0,    0,    0,    0,    0,    0,    0,\n",
       "          0,    0,    0,    0,    0])"
      ]
     },
     "execution_count": 38,
     "metadata": {},
     "output_type": "execute_result"
    }
   ],
   "source": [
    "# Use this cell to examine one of the processed reviews to make sure everything is working as intended.\n",
    "#print(train_X[2])\n",
    "train_X[2]"
   ]
  },
  {
   "cell_type": "markdown",
   "metadata": {},
   "source": [
    "**Question:** In the cells above we use the `preprocess_data` and `convert_and_pad_data` methods to process both the training and testing set. Why or why not might this be a problem?"
   ]
  },
  {
   "cell_type": "markdown",
   "metadata": {},
   "source": [
    "**Answer:** preprocess data implements bag_of_words process for all reviews. Besides, convert_and_pad_data uses the data which processed in preprocess_data function and convert this words as integers as 1 or 0 which means that 1 is occurs that word in review 0 is not. Thus, these process are essential for both training and test data. When we train our model with trainin data, we have to test our model with test data. To do this process, we have to implement both two functions otherwise our model doesn't works. "
   ]
  },
  {
   "cell_type": "markdown",
   "metadata": {},
   "source": [
    "## Step 3: Upload the data to S3\n",
    "\n",
    "As in the XGBoost notebook, we will need to upload the training dataset to S3 in order for our training code to access it. For now we will save it locally and we will upload to S3 later on.\n",
    "\n",
    "### Save the processed training dataset locally\n",
    "\n",
    "It is important to note the format of the data that we are saving as we will need to know it when we write the training code. In our case, each row of the dataset has the form `label`, `length`, `review[500]` where `review[500]` is a sequence of `500` integers representing the words in the review."
   ]
  },
  {
   "cell_type": "code",
   "execution_count": 39,
   "metadata": {},
   "outputs": [],
   "source": [
    "import pandas as pd\n",
    "    \n",
    "pd.concat([pd.DataFrame(train_y), pd.DataFrame(train_X_len), pd.DataFrame(train_X)], axis=1) \\\n",
    "        .to_csv(os.path.join(data_dir, 'train.csv'), header=False, index=False)"
   ]
  },
  {
   "cell_type": "markdown",
   "metadata": {},
   "source": [
    "### Uploading the training data\n",
    "\n",
    "\n",
    "Next, we need to upload the training data to the SageMaker default S3 bucket so that we can provide access to it while training our model."
   ]
  },
  {
   "cell_type": "code",
   "execution_count": 40,
   "metadata": {},
   "outputs": [],
   "source": [
    "import sagemaker\n",
    "\n",
    "sagemaker_session = sagemaker.Session()\n",
    "\n",
    "bucket = sagemaker_session.default_bucket()\n",
    "prefix = 'sagemaker/sentiment_rnn'\n",
    "\n",
    "role = sagemaker.get_execution_role()"
   ]
  },
  {
   "cell_type": "code",
   "execution_count": 41,
   "metadata": {},
   "outputs": [],
   "source": [
    "input_data = sagemaker_session.upload_data(path=data_dir, bucket=bucket, key_prefix=prefix)"
   ]
  },
  {
   "cell_type": "markdown",
   "metadata": {},
   "source": [
    "**NOTE:** The cell above uploads the entire contents of our data directory. This includes the `word_dict.pkl` file. This is fortunate as we will need this later on when we create an endpoint that accepts an arbitrary review. For now, we will just take note of the fact that it resides in the data directory (and so also in the S3 training bucket) and that we will need to make sure it gets saved in the model directory."
   ]
  },
  {
   "cell_type": "markdown",
   "metadata": {},
   "source": [
    "## Step 4: Build and Train the PyTorch Model\n",
    "\n",
    "In the XGBoost notebook we discussed what a model is in the SageMaker framework. In particular, a model comprises three objects\n",
    "\n",
    " - Model Artifacts,\n",
    " - Training Code, and\n",
    " - Inference Code,\n",
    " \n",
    "each of which interact with one another. In the XGBoost example we used training and inference code that was provided by Amazon. Here we will still be using containers provided by Amazon with the added benefit of being able to include our own custom code.\n",
    "\n",
    "We will start by implementing our own neural network in PyTorch along with a training script. For the purposes of this project we have provided the necessary model object in the `model.py` file, inside of the `train` folder. You can see the provided implementation by running the cell below."
   ]
  },
  {
   "cell_type": "code",
   "execution_count": 42,
   "metadata": {},
   "outputs": [
    {
     "name": "stdout",
     "output_type": "stream",
     "text": [
      "\u001b[34mimport\u001b[39;49;00m \u001b[04m\u001b[36mtorch\u001b[39;49;00m\u001b[04m\u001b[36m.\u001b[39;49;00m\u001b[04m\u001b[36mnn\u001b[39;49;00m \u001b[34mas\u001b[39;49;00m \u001b[04m\u001b[36mnn\u001b[39;49;00m\r\n",
      "\r\n",
      "\u001b[34mclass\u001b[39;49;00m \u001b[04m\u001b[32mLSTMClassifier\u001b[39;49;00m(nn.Module):\r\n",
      "    \u001b[33m\"\"\"\u001b[39;49;00m\r\n",
      "\u001b[33m    This is the simple RNN model we will be using to perform Sentiment Analysis.\u001b[39;49;00m\r\n",
      "\u001b[33m    \"\"\"\u001b[39;49;00m\r\n",
      "\r\n",
      "    \u001b[34mdef\u001b[39;49;00m \u001b[32m__init__\u001b[39;49;00m(\u001b[36mself\u001b[39;49;00m, embedding_dim, hidden_dim, vocab_size):\r\n",
      "        \u001b[33m\"\"\"\u001b[39;49;00m\r\n",
      "\u001b[33m        Initialize the model by settingg up the various layers.\u001b[39;49;00m\r\n",
      "\u001b[33m        \"\"\"\u001b[39;49;00m\r\n",
      "        \u001b[36msuper\u001b[39;49;00m(LSTMClassifier, \u001b[36mself\u001b[39;49;00m).\u001b[32m__init__\u001b[39;49;00m()\r\n",
      "\r\n",
      "        \u001b[36mself\u001b[39;49;00m.embedding = nn.Embedding(vocab_size, embedding_dim, padding_idx=\u001b[34m0\u001b[39;49;00m)\r\n",
      "        \u001b[36mself\u001b[39;49;00m.lstm = nn.LSTM(embedding_dim, hidden_dim)\r\n",
      "        \u001b[36mself\u001b[39;49;00m.dense = nn.Linear(in_features=hidden_dim, out_features=\u001b[34m1\u001b[39;49;00m)\r\n",
      "        \u001b[36mself\u001b[39;49;00m.sig = nn.Sigmoid()\r\n",
      "        \r\n",
      "        \u001b[36mself\u001b[39;49;00m.word_dict = \u001b[34mNone\u001b[39;49;00m\r\n",
      "\r\n",
      "    \u001b[34mdef\u001b[39;49;00m \u001b[32mforward\u001b[39;49;00m(\u001b[36mself\u001b[39;49;00m, x):\r\n",
      "        \u001b[33m\"\"\"\u001b[39;49;00m\r\n",
      "\u001b[33m        Perform a forward pass of our model on some input.\u001b[39;49;00m\r\n",
      "\u001b[33m        \"\"\"\u001b[39;49;00m\r\n",
      "        x = x.t()\r\n",
      "        lengths = x[\u001b[34m0\u001b[39;49;00m,:]\r\n",
      "        reviews = x[\u001b[34m1\u001b[39;49;00m:,:]\r\n",
      "        embeds = \u001b[36mself\u001b[39;49;00m.embedding(reviews)\r\n",
      "        lstm_out, _ = \u001b[36mself\u001b[39;49;00m.lstm(embeds)\r\n",
      "        out = \u001b[36mself\u001b[39;49;00m.dense(lstm_out)\r\n",
      "        out = out[lengths - \u001b[34m1\u001b[39;49;00m, \u001b[36mrange\u001b[39;49;00m(\u001b[36mlen\u001b[39;49;00m(lengths))]\r\n",
      "        \u001b[34mreturn\u001b[39;49;00m \u001b[36mself\u001b[39;49;00m.sig(out.squeeze())\r\n"
     ]
    }
   ],
   "source": [
    "!pygmentize train/model.py"
   ]
  },
  {
   "cell_type": "markdown",
   "metadata": {},
   "source": [
    "The important takeaway from the implementation provided is that there are three parameters that we may wish to tweak to improve the performance of our model. These are the embedding dimension, the hidden dimension and the size of the vocabulary. We will likely want to make these parameters configurable in the training script so that if we wish to modify them we do not need to modify the script itself. We will see how to do this later on. To start we will write some of the training code in the notebook so that we can more easily diagnose any issues that arise.\n",
    "\n",
    "First we will load a small portion of the training data set to use as a sample. It would be very time consuming to try and train the model completely in the notebook as we do not have access to a gpu and the compute instance that we are using is not particularly powerful. However, we can work on a small bit of the data to get a feel for how our training script is behaving."
   ]
  },
  {
   "cell_type": "code",
   "execution_count": 43,
   "metadata": {},
   "outputs": [],
   "source": [
    "import torch\n",
    "import torch.utils.data\n",
    "\n",
    "# Read in only the first 250 rows\n",
    "train_sample = pd.read_csv(os.path.join(data_dir, 'train.csv'), header=None, names=None, nrows=250)\n",
    "\n",
    "# Turn the input pandas dataframe into tensors\n",
    "train_sample_y = torch.from_numpy(train_sample[[0]].values).float().squeeze()\n",
    "train_sample_X = torch.from_numpy(train_sample.drop([0], axis=1).values).long()\n",
    "\n",
    "# Build the dataset\n",
    "train_sample_ds = torch.utils.data.TensorDataset(train_sample_X, train_sample_y)\n",
    "# Build the dataloader\n",
    "train_sample_dl = torch.utils.data.DataLoader(train_sample_ds, batch_size=50)"
   ]
  },
  {
   "cell_type": "markdown",
   "metadata": {},
   "source": [
    "### (TODO) Writing the training method\n",
    "\n",
    "Next we need to write the training code itself. This should be very similar to training methods that you have written before to train PyTorch models. We will leave any difficult aspects such as model saving / loading and parameter loading until a little later."
   ]
  },
  {
   "cell_type": "code",
   "execution_count": 44,
   "metadata": {},
   "outputs": [],
   "source": [
    "def train(model, train_loader, epochs, optimizer, loss_fn, device):\n",
    "    for epoch in range(1, epochs + 1):\n",
    "        model.train()\n",
    "        total_loss = 0\n",
    "        for batch in train_loader:         \n",
    "            batch_X, batch_y = batch\n",
    "            \n",
    "            batch_X = batch_X.to(device)\n",
    "            batch_y = batch_y.to(device)\n",
    "            \n",
    "            optimizer.zero_grad() # It initiates with zero of the parameter gradients\n",
    "            output = model.forward(batch_X) #compute model output\n",
    "            loss = loss_fn(output, batch_y) #calculate loss\n",
    "            loss.backward() # compute gradients of loss\n",
    "            optimizer.step() #updates using calculated gradients\n",
    "            \n",
    "            # TODO: Complete this train method to train the model provided.\n",
    "            \n",
    "            total_loss += loss.data.item()\n",
    "        print(\"Epoch: {}, BCELoss: {}\".format(epoch, total_loss / len(train_loader)))"
   ]
  },
  {
   "cell_type": "markdown",
   "metadata": {},
   "source": [
    "Supposing we have the training method above, we will test that it is working by writing a bit of code in the notebook that executes our training method on the small sample training set that we loaded earlier. The reason for doing this in the notebook is so that we have an opportunity to fix any errors that arise early when they are easier to diagnose."
   ]
  },
  {
   "cell_type": "code",
   "execution_count": 45,
   "metadata": {},
   "outputs": [
    {
     "name": "stdout",
     "output_type": "stream",
     "text": [
      "Epoch: 1, BCELoss: 0.6925788521766663\n",
      "Epoch: 2, BCELoss: 0.6839629530906677\n",
      "Epoch: 3, BCELoss: 0.6769336223602295\n",
      "Epoch: 4, BCELoss: 0.6693737506866455\n",
      "Epoch: 5, BCELoss: 0.6604826927185059\n"
     ]
    }
   ],
   "source": [
    "import torch.optim as optim\n",
    "from train.model import LSTMClassifier\n",
    "\n",
    "device = torch.device(\"cuda\" if torch.cuda.is_available() else \"cpu\")\n",
    "model = LSTMClassifier(32, 100, 5000).to(device)\n",
    "optimizer = optim.Adam(model.parameters())\n",
    "loss_fn = torch.nn.BCELoss()\n",
    "\n",
    "train(model, train_sample_dl, 5, optimizer, loss_fn, device)"
   ]
  },
  {
   "cell_type": "markdown",
   "metadata": {},
   "source": [
    "In order to construct a PyTorch model using SageMaker we must provide SageMaker with a training script. We may optionally include a directory which will be copied to the container and from which our training code will be run. When the training container is executed it will check the uploaded directory (if there is one) for a `requirements.txt` file and install any required Python libraries, after which the training script will be run."
   ]
  },
  {
   "cell_type": "markdown",
   "metadata": {},
   "source": [
    "### (TODO) Training the model\n",
    "\n",
    "When a PyTorch model is constructed in SageMaker, an entry point must be specified. This is the Python file which will be executed when the model is trained. Inside of the `train` directory is a file called `train.py` which has been provided and which contains most of the necessary code to train our model. The only thing that is missing is the implementation of the `train()` method which you wrote earlier in this notebook.\n",
    "\n",
    "**TODO**: Copy the `train()` method written above and paste it into the `train/train.py` file where required.\n",
    "\n",
    "The way that SageMaker passes hyperparameters to the training script is by way of arguments. These arguments can then be parsed and used in the training script. To see how this is done take a look at the provided `train/train.py` file."
   ]
  },
  {
   "cell_type": "code",
   "execution_count": 46,
   "metadata": {},
   "outputs": [],
   "source": [
    "from sagemaker.pytorch import PyTorch\n",
    "\n",
    "estimator = PyTorch(entry_point=\"train.py\",\n",
    "                    source_dir=\"train\",\n",
    "                    role=role,\n",
    "                    framework_version='0.4.0',\n",
    "                    train_instance_count=1,\n",
    "                    train_instance_type='ml.p2.xlarge',\n",
    "                    hyperparameters={\n",
    "                        'epochs': 10,\n",
    "                        'hidden_dim': 200,\n",
    "                    })"
   ]
  },
  {
   "cell_type": "code",
   "execution_count": 47,
   "metadata": {},
   "outputs": [
    {
     "name": "stderr",
     "output_type": "stream",
     "text": [
      "'create_image_uri' will be deprecated in favor of 'ImageURIProvider' class in SageMaker Python SDK v2.\n",
      "'s3_input' class will be renamed to 'TrainingInput' in SageMaker Python SDK v2.\n",
      "'create_image_uri' will be deprecated in favor of 'ImageURIProvider' class in SageMaker Python SDK v2.\n"
     ]
    },
    {
     "name": "stdout",
     "output_type": "stream",
     "text": [
      "2020-10-02 11:49:32 Starting - Starting the training job...\n",
      "2020-10-02 11:49:34 Starting - Launching requested ML instances......\n",
      "2020-10-02 11:50:48 Starting - Preparing the instances for training.........\n",
      "2020-10-02 11:52:06 Downloading - Downloading input data...\n",
      "2020-10-02 11:52:46 Training - Downloading the training image..\u001b[34mbash: cannot set terminal process group (-1): Inappropriate ioctl for device\u001b[0m\n",
      "\u001b[34mbash: no job control in this shell\u001b[0m\n",
      "\u001b[34m2020-10-02 11:53:10,716 sagemaker-containers INFO     Imported framework sagemaker_pytorch_container.training\u001b[0m\n",
      "\u001b[34m2020-10-02 11:53:10,741 sagemaker_pytorch_container.training INFO     Block until all host DNS lookups succeed.\u001b[0m\n",
      "\u001b[34m2020-10-02 11:53:13,793 sagemaker_pytorch_container.training INFO     Invoking user training script.\u001b[0m\n",
      "\u001b[34m2020-10-02 11:53:14,017 sagemaker-containers INFO     Module train does not provide a setup.py. \u001b[0m\n",
      "\u001b[34mGenerating setup.py\u001b[0m\n",
      "\u001b[34m2020-10-02 11:53:14,017 sagemaker-containers INFO     Generating setup.cfg\u001b[0m\n",
      "\u001b[34m2020-10-02 11:53:14,017 sagemaker-containers INFO     Generating MANIFEST.in\u001b[0m\n",
      "\u001b[34m2020-10-02 11:53:14,018 sagemaker-containers INFO     Installing module with the following command:\u001b[0m\n",
      "\u001b[34m/usr/bin/python -m pip install -U . -r requirements.txt\u001b[0m\n",
      "\u001b[34mProcessing /opt/ml/code\u001b[0m\n",
      "\u001b[34mCollecting pandas (from -r requirements.txt (line 1))\u001b[0m\n",
      "\u001b[34m  Downloading https://files.pythonhosted.org/packages/74/24/0cdbf8907e1e3bc5a8da03345c23cbed7044330bb8f73bb12e711a640a00/pandas-0.24.2-cp35-cp35m-manylinux1_x86_64.whl (10.0MB)\u001b[0m\n",
      "\u001b[34mCollecting numpy (from -r requirements.txt (line 2))\u001b[0m\n",
      "\u001b[34m  Downloading https://files.pythonhosted.org/packages/b5/36/88723426b4ff576809fec7d73594fe17a35c27f8d01f93637637a29ae25b/numpy-1.18.5-cp35-cp35m-manylinux1_x86_64.whl (19.9MB)\u001b[0m\n",
      "\u001b[34mCollecting nltk (from -r requirements.txt (line 3))\n",
      "  Downloading https://files.pythonhosted.org/packages/92/75/ce35194d8e3022203cca0d2f896dbb88689f9b3fce8e9f9cff942913519d/nltk-3.5.zip (1.4MB)\u001b[0m\n",
      "\u001b[34mCollecting beautifulsoup4 (from -r requirements.txt (line 4))\n",
      "  Downloading https://files.pythonhosted.org/packages/56/f2/6c6c7d0b5483b8c63e837c3f5d941e511979ceb3975ca45fa3ef682df2d6/beautifulsoup4-4.9.2-py3-none-any.whl (115kB)\u001b[0m\n",
      "\u001b[34mCollecting html5lib (from -r requirements.txt (line 5))\n",
      "  Downloading https://files.pythonhosted.org/packages/6c/dd/a834df6482147d48e225a49515aabc28974ad5a4ca3215c18a882565b028/html5lib-1.1-py2.py3-none-any.whl (112kB)\u001b[0m\n",
      "\u001b[34mCollecting pytz>=2011k (from pandas->-r requirements.txt (line 1))\n",
      "  Downloading https://files.pythonhosted.org/packages/4f/a4/879454d49688e2fad93e59d7d4efda580b783c745fd2ec2a3adf87b0808d/pytz-2020.1-py2.py3-none-any.whl (510kB)\u001b[0m\n",
      "\u001b[34mRequirement already satisfied, skipping upgrade: python-dateutil>=2.5.0 in /usr/local/lib/python3.5/dist-packages (from pandas->-r requirements.txt (line 1)) (2.7.5)\u001b[0m\n",
      "\u001b[34mRequirement already satisfied, skipping upgrade: click in /usr/local/lib/python3.5/dist-packages (from nltk->-r requirements.txt (line 3)) (7.0)\u001b[0m\n",
      "\u001b[34mCollecting joblib (from nltk->-r requirements.txt (line 3))\n",
      "  Downloading https://files.pythonhosted.org/packages/28/5c/cf6a2b65a321c4a209efcdf64c2689efae2cb62661f8f6f4bb28547cf1bf/joblib-0.14.1-py2.py3-none-any.whl (294kB)\u001b[0m\n",
      "\u001b[34mCollecting regex (from nltk->-r requirements.txt (line 3))\n",
      "  Downloading https://files.pythonhosted.org/packages/93/8c/17f45cdfb39b13d4b5f909e4b4c2917abcbdef9c0036919a0399769148cf/regex-2020.9.27.tar.gz (690kB)\u001b[0m\n",
      "\u001b[34mCollecting tqdm (from nltk->-r requirements.txt (line 3))\u001b[0m\n",
      "\u001b[34m  Downloading https://files.pythonhosted.org/packages/0a/0e/ea53a3d6f1eb2cc31162c9ae89555cc26a3986e5559781f0b0df75aea5cf/tqdm-4.50.0-py2.py3-none-any.whl (70kB)\u001b[0m\n",
      "\u001b[34mCollecting soupsieve>1.2; python_version >= \"3.0\" (from beautifulsoup4->-r requirements.txt (line 4))\n",
      "  Downloading https://files.pythonhosted.org/packages/6f/8f/457f4a5390eeae1cc3aeab89deb7724c965be841ffca6cfca9197482e470/soupsieve-2.0.1-py3-none-any.whl\u001b[0m\n",
      "\u001b[34mRequirement already satisfied, skipping upgrade: six>=1.9 in /usr/local/lib/python3.5/dist-packages (from html5lib->-r requirements.txt (line 5)) (1.11.0)\u001b[0m\n",
      "\u001b[34mCollecting webencodings (from html5lib->-r requirements.txt (line 5))\n",
      "  Downloading https://files.pythonhosted.org/packages/f4/24/2a3e3df732393fed8b3ebf2ec078f05546de641fe1b667ee316ec1dcf3b7/webencodings-0.5.1-py2.py3-none-any.whl\u001b[0m\n",
      "\u001b[34mBuilding wheels for collected packages: nltk, train, regex\n",
      "  Running setup.py bdist_wheel for nltk: started\u001b[0m\n",
      "\u001b[34m  Running setup.py bdist_wheel for nltk: finished with status 'done'\n",
      "  Stored in directory: /root/.cache/pip/wheels/ae/8c/3f/b1fe0ba04555b08b57ab52ab7f86023639a526d8bc8d384306\n",
      "  Running setup.py bdist_wheel for train: started\n",
      "  Running setup.py bdist_wheel for train: finished with status 'done'\n",
      "  Stored in directory: /tmp/pip-ephem-wheel-cache-o7yygk8t/wheels/35/24/16/37574d11bf9bde50616c67372a334f94fa8356bc7164af8ca3\n",
      "  Running setup.py bdist_wheel for regex: started\u001b[0m\n",
      "\n",
      "2020-10-02 11:53:09 Training - Training image download completed. Training in progress.\u001b[34m  Running setup.py bdist_wheel for regex: finished with status 'done'\n",
      "  Stored in directory: /root/.cache/pip/wheels/3b/ce/8a/55c7dfaf510ff2ed9c4f52d2091eb3fca5f438969a9ed908b8\u001b[0m\n",
      "\u001b[34mSuccessfully built nltk train regex\u001b[0m\n",
      "\u001b[34mInstalling collected packages: pytz, numpy, pandas, joblib, regex, tqdm, nltk, soupsieve, beautifulsoup4, webencodings, html5lib, train\n",
      "  Found existing installation: numpy 1.15.4\n",
      "    Uninstalling numpy-1.15.4:\u001b[0m\n",
      "\u001b[34m      Successfully uninstalled numpy-1.15.4\u001b[0m\n",
      "\u001b[34mSuccessfully installed beautifulsoup4-4.9.2 html5lib-1.1 joblib-0.14.1 nltk-3.5 numpy-1.18.5 pandas-0.24.2 pytz-2020.1 regex-2020.9.27 soupsieve-2.0.1 tqdm-4.50.0 train-1.0.0 webencodings-0.5.1\u001b[0m\n",
      "\u001b[34mYou are using pip version 18.1, however version 20.2.3 is available.\u001b[0m\n",
      "\u001b[34mYou should consider upgrading via the 'pip install --upgrade pip' command.\u001b[0m\n",
      "\u001b[34m2020-10-02 11:53:37,421 sagemaker-containers INFO     Invoking user script\n",
      "\u001b[0m\n",
      "\u001b[34mTraining Env:\n",
      "\u001b[0m\n",
      "\u001b[34m{\n",
      "    \"additional_framework_parameters\": {},\n",
      "    \"output_intermediate_dir\": \"/opt/ml/output/intermediate\",\n",
      "    \"hosts\": [\n",
      "        \"algo-1\"\n",
      "    ],\n",
      "    \"framework_module\": \"sagemaker_pytorch_container.training:main\",\n",
      "    \"resource_config\": {\n",
      "        \"network_interface_name\": \"eth0\",\n",
      "        \"current_host\": \"algo-1\",\n",
      "        \"hosts\": [\n",
      "            \"algo-1\"\n",
      "        ]\n",
      "    },\n",
      "    \"module_dir\": \"s3://sagemaker-us-east-2-451738048504/sagemaker-pytorch-2020-10-02-11-49-31-756/source/sourcedir.tar.gz\",\n",
      "    \"hyperparameters\": {\n",
      "        \"hidden_dim\": 200,\n",
      "        \"epochs\": 10\n",
      "    },\n",
      "    \"channel_input_dirs\": {\n",
      "        \"training\": \"/opt/ml/input/data/training\"\n",
      "    },\n",
      "    \"output_dir\": \"/opt/ml/output\",\n",
      "    \"model_dir\": \"/opt/ml/model\",\n",
      "    \"current_host\": \"algo-1\",\n",
      "    \"num_gpus\": 1,\n",
      "    \"module_name\": \"train\",\n",
      "    \"input_data_config\": {\n",
      "        \"training\": {\n",
      "            \"S3DistributionType\": \"FullyReplicated\",\n",
      "            \"RecordWrapperType\": \"None\",\n",
      "            \"TrainingInputMode\": \"File\"\n",
      "        }\n",
      "    },\n",
      "    \"input_config_dir\": \"/opt/ml/input/config\",\n",
      "    \"user_entry_point\": \"train.py\",\n",
      "    \"job_name\": \"sagemaker-pytorch-2020-10-02-11-49-31-756\",\n",
      "    \"output_data_dir\": \"/opt/ml/output/data\",\n",
      "    \"input_dir\": \"/opt/ml/input\",\n",
      "    \"network_interface_name\": \"eth0\",\n",
      "    \"num_cpus\": 4,\n",
      "    \"log_level\": 20\u001b[0m\n",
      "\u001b[34m}\n",
      "\u001b[0m\n",
      "\u001b[34mEnvironment variables:\n",
      "\u001b[0m\n",
      "\u001b[34mSM_USER_ENTRY_POINT=train.py\u001b[0m\n",
      "\u001b[34mSM_CHANNEL_TRAINING=/opt/ml/input/data/training\u001b[0m\n",
      "\u001b[34mSM_HP_EPOCHS=10\u001b[0m\n",
      "\u001b[34mSM_NETWORK_INTERFACE_NAME=eth0\u001b[0m\n",
      "\u001b[34mSM_MODULE_NAME=train\u001b[0m\n",
      "\u001b[34mSM_MODEL_DIR=/opt/ml/model\u001b[0m\n",
      "\u001b[34mSM_RESOURCE_CONFIG={\"current_host\":\"algo-1\",\"hosts\":[\"algo-1\"],\"network_interface_name\":\"eth0\"}\u001b[0m\n",
      "\u001b[34mSM_FRAMEWORK_MODULE=sagemaker_pytorch_container.training:main\u001b[0m\n",
      "\u001b[34mSM_OUTPUT_DATA_DIR=/opt/ml/output/data\u001b[0m\n",
      "\u001b[34mSM_NUM_CPUS=4\u001b[0m\n",
      "\u001b[34mSM_INPUT_DIR=/opt/ml/input\u001b[0m\n",
      "\u001b[34mSM_TRAINING_ENV={\"additional_framework_parameters\":{},\"channel_input_dirs\":{\"training\":\"/opt/ml/input/data/training\"},\"current_host\":\"algo-1\",\"framework_module\":\"sagemaker_pytorch_container.training:main\",\"hosts\":[\"algo-1\"],\"hyperparameters\":{\"epochs\":10,\"hidden_dim\":200},\"input_config_dir\":\"/opt/ml/input/config\",\"input_data_config\":{\"training\":{\"RecordWrapperType\":\"None\",\"S3DistributionType\":\"FullyReplicated\",\"TrainingInputMode\":\"File\"}},\"input_dir\":\"/opt/ml/input\",\"job_name\":\"sagemaker-pytorch-2020-10-02-11-49-31-756\",\"log_level\":20,\"model_dir\":\"/opt/ml/model\",\"module_dir\":\"s3://sagemaker-us-east-2-451738048504/sagemaker-pytorch-2020-10-02-11-49-31-756/source/sourcedir.tar.gz\",\"module_name\":\"train\",\"network_interface_name\":\"eth0\",\"num_cpus\":4,\"num_gpus\":1,\"output_data_dir\":\"/opt/ml/output/data\",\"output_dir\":\"/opt/ml/output\",\"output_intermediate_dir\":\"/opt/ml/output/intermediate\",\"resource_config\":{\"current_host\":\"algo-1\",\"hosts\":[\"algo-1\"],\"network_interface_name\":\"eth0\"},\"user_entry_point\":\"train.py\"}\u001b[0m\n",
      "\u001b[34mSM_HOSTS=[\"algo-1\"]\u001b[0m\n",
      "\u001b[34mSM_USER_ARGS=[\"--epochs\",\"10\",\"--hidden_dim\",\"200\"]\u001b[0m\n",
      "\u001b[34mSM_OUTPUT_INTERMEDIATE_DIR=/opt/ml/output/intermediate\u001b[0m\n",
      "\u001b[34mSM_INPUT_CONFIG_DIR=/opt/ml/input/config\u001b[0m\n",
      "\u001b[34mSM_OUTPUT_DIR=/opt/ml/output\u001b[0m\n",
      "\u001b[34mSM_INPUT_DATA_CONFIG={\"training\":{\"RecordWrapperType\":\"None\",\"S3DistributionType\":\"FullyReplicated\",\"TrainingInputMode\":\"File\"}}\u001b[0m\n",
      "\u001b[34mSM_CURRENT_HOST=algo-1\u001b[0m\n",
      "\u001b[34mSM_FRAMEWORK_PARAMS={}\u001b[0m\n",
      "\u001b[34mPYTHONPATH=/usr/local/bin:/usr/lib/python35.zip:/usr/lib/python3.5:/usr/lib/python3.5/plat-x86_64-linux-gnu:/usr/lib/python3.5/lib-dynload:/usr/local/lib/python3.5/dist-packages:/usr/lib/python3/dist-packages\u001b[0m\n",
      "\u001b[34mSM_MODULE_DIR=s3://sagemaker-us-east-2-451738048504/sagemaker-pytorch-2020-10-02-11-49-31-756/source/sourcedir.tar.gz\u001b[0m\n",
      "\u001b[34mSM_HP_HIDDEN_DIM=200\u001b[0m\n",
      "\u001b[34mSM_CHANNELS=[\"training\"]\u001b[0m\n",
      "\u001b[34mSM_HPS={\"epochs\":10,\"hidden_dim\":200}\u001b[0m\n",
      "\u001b[34mSM_LOG_LEVEL=20\u001b[0m\n",
      "\u001b[34mSM_NUM_GPUS=1\n",
      "\u001b[0m\n",
      "\u001b[34mInvoking script with the following command:\n",
      "\u001b[0m\n",
      "\u001b[34m/usr/bin/python -m train --epochs 10 --hidden_dim 200\n",
      "\n",
      "\u001b[0m\n",
      "\u001b[34mUsing device cuda.\u001b[0m\n",
      "\u001b[34mGet train data loader.\u001b[0m\n",
      "\u001b[34mModel loaded with embedding_dim 32, hidden_dim 200, vocab_size 5000.\u001b[0m\n",
      "\u001b[34mEpoch: 1, BCELoss: 0.673609234848801\u001b[0m\n",
      "\u001b[34mEpoch: 2, BCELoss: 0.6324497449154757\u001b[0m\n",
      "\u001b[34mEpoch: 3, BCELoss: 0.5560541511798391\u001b[0m\n",
      "\u001b[34mEpoch: 4, BCELoss: 0.4823892463226708\u001b[0m\n",
      "\u001b[34mEpoch: 5, BCELoss: 0.41778668578790157\u001b[0m\n",
      "\u001b[34mEpoch: 6, BCELoss: 0.38168427773884367\u001b[0m\n",
      "\u001b[34mEpoch: 7, BCELoss: 0.34452851329530987\u001b[0m\n",
      "\u001b[34mEpoch: 8, BCELoss: 0.33528181971335896\u001b[0m\n",
      "\u001b[34mEpoch: 9, BCELoss: 0.3088574372992224\u001b[0m\n",
      "\u001b[34mEpoch: 10, BCELoss: 0.28256348201206755\u001b[0m\n",
      "\u001b[34m2020-10-02 11:56:34,966 sagemaker-containers INFO     Reporting training SUCCESS\u001b[0m\n",
      "\n",
      "2020-10-02 11:56:44 Uploading - Uploading generated training model\n",
      "2020-10-02 11:56:44 Completed - Training job completed\n",
      "Training seconds: 278\n",
      "Billable seconds: 278\n"
     ]
    }
   ],
   "source": [
    "estimator.fit({'training': input_data})"
   ]
  },
  {
   "cell_type": "markdown",
   "metadata": {},
   "source": [
    "## Step 5: Testing the model\n",
    "\n",
    "As mentioned at the top of this notebook, we will be testing this model by first deploying it and then sending the testing data to the deployed endpoint. We will do this so that we can make sure that the deployed model is working correctly.\n",
    "\n",
    "## Step 6: Deploy the model for testing\n",
    "\n",
    "Now that we have trained our model, we would like to test it to see how it performs. Currently our model takes input of the form `review_length, review[500]` where `review[500]` is a sequence of `500` integers which describe the words present in the review, encoded using `word_dict`. Fortunately for us, SageMaker provides built-in inference code for models with simple inputs such as this.\n",
    "\n",
    "There is one thing that we need to provide, however, and that is a function which loads the saved model. This function must be called `model_fn()` and takes as its only parameter a path to the directory where the model artifacts are stored. This function must also be present in the python file which we specified as the entry point. In our case the model loading function has been provided and so no changes need to be made.\n",
    "\n",
    "**NOTE**: When the built-in inference code is run it must import the `model_fn()` method from the `train.py` file. This is why the training code is wrapped in a main guard ( ie, `if __name__ == '__main__':` )\n",
    "\n",
    "Since we don't need to change anything in the code that was uploaded during training, we can simply deploy the current model as-is.\n",
    "\n",
    "**NOTE:** When deploying a model you are asking SageMaker to launch an compute instance that will wait for data to be sent to it. As a result, this compute instance will continue to run until *you* shut it down. This is important to know since the cost of a deployed endpoint depends on how long it has been running for.\n",
    "\n",
    "In other words **If you are no longer using a deployed endpoint, shut it down!**\n",
    "\n",
    "**TODO:** Deploy the trained model."
   ]
  },
  {
   "cell_type": "code",
   "execution_count": 48,
   "metadata": {},
   "outputs": [
    {
     "name": "stderr",
     "output_type": "stream",
     "text": [
      "Parameter image will be renamed to image_uri in SageMaker Python SDK v2.\n",
      "'create_image_uri' will be deprecated in favor of 'ImageURIProvider' class in SageMaker Python SDK v2.\n"
     ]
    },
    {
     "name": "stdout",
     "output_type": "stream",
     "text": [
      "---------------!"
     ]
    }
   ],
   "source": [
    "# TODO: Deploy the trained model\n",
    "predictor = estimator.deploy(initial_instance_count=1, instance_type='ml.m4.xlarge')\n",
    "# Because of instance limit, i deployed my model on ml.m4.xlarge instance. "
   ]
  },
  {
   "cell_type": "markdown",
   "metadata": {},
   "source": [
    "## Step 7 - Use the model for testing\n",
    "\n",
    "Once deployed, we can read in the test data and send it off to our deployed model to get some results. Once we collect all of the results we can determine how accurate our model is."
   ]
  },
  {
   "cell_type": "code",
   "execution_count": 49,
   "metadata": {},
   "outputs": [],
   "source": [
    "test_X = pd.concat([pd.DataFrame(test_X_len), pd.DataFrame(test_X)], axis=1)"
   ]
  },
  {
   "cell_type": "code",
   "execution_count": 50,
   "metadata": {},
   "outputs": [],
   "source": [
    "# We split the data into chunks and send each chunk seperately, accumulating the results.\n",
    "\n",
    "def predict(data, rows=512):\n",
    "    split_array = np.array_split(data, int(data.shape[0] / float(rows) + 1))\n",
    "    predictions = np.array([])\n",
    "    for array in split_array:\n",
    "        predictions = np.append(predictions, predictor.predict(array))\n",
    "    \n",
    "    return predictions"
   ]
  },
  {
   "cell_type": "code",
   "execution_count": 51,
   "metadata": {},
   "outputs": [],
   "source": [
    "predictions = predict(test_X.values)\n",
    "predictions = [round(num) for num in predictions]"
   ]
  },
  {
   "cell_type": "code",
   "execution_count": 52,
   "metadata": {},
   "outputs": [
    {
     "data": {
      "text/plain": [
       "0.85196"
      ]
     },
     "execution_count": 52,
     "metadata": {},
     "output_type": "execute_result"
    }
   ],
   "source": [
    "from sklearn.metrics import accuracy_score\n",
    "accuracy_score(test_y, predictions)"
   ]
  },
  {
   "cell_type": "markdown",
   "metadata": {},
   "source": [
    "**Question:** How does this model compare to the XGBoost model you created earlier? Why might these two models perform differently on this dataset? Which do *you* think is better for sentiment analysis?"
   ]
  },
  {
   "cell_type": "markdown",
   "metadata": {},
   "source": [
    "**Answer:** XGBoost model accuracy has been almost 0.87 while this model is 0.85. Thus we can say that XGBoost is a little bit better model however, neural networks may work much better when attributes of data and parameters are big. Both models give good results and maybe with hyperparameter tuning the results can be increased especially in this model."
   ]
  },
  {
   "cell_type": "markdown",
   "metadata": {},
   "source": [
    "### (TODO) More testing\n",
    "\n",
    "We now have a trained model which has been deployed and which we can send processed reviews to and which returns the predicted sentiment. However, ultimately we would like to be able to send our model an unprocessed review. That is, we would like to send the review itself as a string. For example, suppose we wish to send the following review to our model."
   ]
  },
  {
   "cell_type": "code",
   "execution_count": 53,
   "metadata": {},
   "outputs": [],
   "source": [
    "test_review = 'The simplest pleasures in life are the best, and this film is one of them. Combining a rather basic storyline of love and adventure this movie transcends the usual weekend fair with wit and unmitigated charm.'"
   ]
  },
  {
   "cell_type": "markdown",
   "metadata": {},
   "source": [
    "The question we now need to answer is, how do we send this review to our model?\n",
    "\n",
    "Recall in the first section of this notebook we did a bunch of data processing to the IMDb dataset. In particular, we did two specific things to the provided reviews.\n",
    " - Removed any html tags and stemmed the input\n",
    " - Encoded the review as a sequence of integers using `word_dict`\n",
    " \n",
    "In order process the review we will need to repeat these two steps.\n",
    "\n",
    "**TODO**: Using the `review_to_words` and `convert_and_pad` methods from section one, convert `test_review` into a numpy array `test_data` suitable to send to our model. Remember that our model expects input of the form `review_length, review[500]`."
   ]
  },
  {
   "cell_type": "code",
   "execution_count": 54,
   "metadata": {},
   "outputs": [],
   "source": [
    "# TODO: Convert test_review into a form usable by the model and save the results in test_data\n",
    "test_data = None\n",
    "\n",
    "custom_test = review_to_words(test_review)"
   ]
  },
  {
   "cell_type": "code",
   "execution_count": 55,
   "metadata": {},
   "outputs": [
    {
     "name": "stdout",
     "output_type": "stream",
     "text": [
      "['simplest', 'pleasur', 'life', 'best', 'film', 'one', 'combin', 'rather', 'basic', 'storylin', 'love', 'adventur', 'movi', 'transcend', 'usual', 'weekend', 'fair', 'wit', 'unmitig', 'charm']\n"
     ]
    }
   ],
   "source": [
    "print(custom_test)"
   ]
  },
  {
   "cell_type": "code",
   "execution_count": 60,
   "metadata": {},
   "outputs": [],
   "source": [
    "def convert_and_pad2(word_dict, sentence, pad=500):\n",
    "    NOWORD = 0 # We will use 0 to represent the 'no word' category\n",
    "    INFREQ = 1 # and we use 1 to represent the infrequent words, i.e., words not appearing in word_dict\n",
    "    \n",
    "    working_sentence = [NOWORD] * pad\n",
    "    \n",
    "    for word_index, word in enumerate(sentence[:pad]):\n",
    "        if word in word_dict:\n",
    "            working_sentence[word_index] = word_dict[word]\n",
    "        else:\n",
    "            working_sentence[word_index] = INFREQ\n",
    "    return working_sentence"
   ]
  },
  {
   "cell_type": "code",
   "execution_count": 61,
   "metadata": {},
   "outputs": [],
   "source": [
    "test_data_draft = convert_and_pad2(word_dict, custom_test)\n",
    "test_data = [np.array(test_data_draft)]"
   ]
  },
  {
   "cell_type": "code",
   "execution_count": 62,
   "metadata": {},
   "outputs": [
    {
     "name": "stdout",
     "output_type": "stream",
     "text": [
      "[array([   1, 1375,   50,   53,    3,    4,  878,  173,  392,  682,   29,\n",
      "        724,    2, 4415,  275, 2076, 1060,  760,    1,  581,    0,    0,\n",
      "          0,    0,    0,    0,    0,    0,    0,    0,    0,    0,    0,\n",
      "          0,    0,    0,    0,    0,    0,    0,    0,    0,    0,    0,\n",
      "          0,    0,    0,    0,    0,    0,    0,    0,    0,    0,    0,\n",
      "          0,    0,    0,    0,    0,    0,    0,    0,    0,    0,    0,\n",
      "          0,    0,    0,    0,    0,    0,    0,    0,    0,    0,    0,\n",
      "          0,    0,    0,    0,    0,    0,    0,    0,    0,    0,    0,\n",
      "          0,    0,    0,    0,    0,    0,    0,    0,    0,    0,    0,\n",
      "          0,    0,    0,    0,    0,    0,    0,    0,    0,    0,    0,\n",
      "          0,    0,    0,    0,    0,    0,    0,    0,    0,    0,    0,\n",
      "          0,    0,    0,    0,    0,    0,    0,    0,    0,    0,    0,\n",
      "          0,    0,    0,    0,    0,    0,    0,    0,    0,    0,    0,\n",
      "          0,    0,    0,    0,    0,    0,    0,    0,    0,    0,    0,\n",
      "          0,    0,    0,    0,    0,    0,    0,    0,    0,    0,    0,\n",
      "          0,    0,    0,    0,    0,    0,    0,    0,    0,    0,    0,\n",
      "          0,    0,    0,    0,    0,    0,    0,    0,    0,    0,    0,\n",
      "          0,    0,    0,    0,    0,    0,    0,    0,    0,    0,    0,\n",
      "          0,    0,    0,    0,    0,    0,    0,    0,    0,    0,    0,\n",
      "          0,    0,    0,    0,    0,    0,    0,    0,    0,    0,    0,\n",
      "          0,    0,    0,    0,    0,    0,    0,    0,    0,    0,    0,\n",
      "          0,    0,    0,    0,    0,    0,    0,    0,    0,    0,    0,\n",
      "          0,    0,    0,    0,    0,    0,    0,    0,    0,    0,    0,\n",
      "          0,    0,    0,    0,    0,    0,    0,    0,    0,    0,    0,\n",
      "          0,    0,    0,    0,    0,    0,    0,    0,    0,    0,    0,\n",
      "          0,    0,    0,    0,    0,    0,    0,    0,    0,    0,    0,\n",
      "          0,    0,    0,    0,    0,    0,    0,    0,    0,    0,    0,\n",
      "          0,    0,    0,    0,    0,    0,    0,    0,    0,    0,    0,\n",
      "          0,    0,    0,    0,    0,    0,    0,    0,    0,    0,    0,\n",
      "          0,    0,    0,    0,    0,    0,    0,    0,    0,    0,    0,\n",
      "          0,    0,    0,    0,    0,    0,    0,    0,    0,    0,    0,\n",
      "          0,    0,    0,    0,    0,    0,    0,    0,    0,    0,    0,\n",
      "          0,    0,    0,    0,    0,    0,    0,    0,    0,    0,    0,\n",
      "          0,    0,    0,    0,    0,    0,    0,    0,    0,    0,    0,\n",
      "          0,    0,    0,    0,    0,    0,    0,    0,    0,    0,    0,\n",
      "          0,    0,    0,    0,    0,    0,    0,    0,    0,    0,    0,\n",
      "          0,    0,    0,    0,    0,    0,    0,    0,    0,    0,    0,\n",
      "          0,    0,    0,    0,    0,    0,    0,    0,    0,    0,    0,\n",
      "          0,    0,    0,    0,    0,    0,    0,    0,    0,    0,    0,\n",
      "          0,    0,    0,    0,    0,    0,    0,    0,    0,    0,    0,\n",
      "          0,    0,    0,    0,    0,    0,    0,    0,    0,    0,    0,\n",
      "          0,    0,    0,    0,    0,    0,    0,    0,    0,    0,    0,\n",
      "          0,    0,    0,    0,    0,    0,    0,    0,    0,    0,    0,\n",
      "          0,    0,    0,    0,    0,    0,    0,    0,    0,    0,    0,\n",
      "          0,    0,    0,    0,    0,    0,    0,    0,    0,    0,    0,\n",
      "          0,    0,    0,    0,    0])]\n"
     ]
    }
   ],
   "source": [
    "print(test_data)"
   ]
  },
  {
   "cell_type": "markdown",
   "metadata": {},
   "source": [
    "Now that we have processed the review, we can send the resulting array to our model to predict the sentiment of the review."
   ]
  },
  {
   "cell_type": "code",
   "execution_count": 63,
   "metadata": {},
   "outputs": [
    {
     "data": {
      "text/plain": [
       "array(0.61214393, dtype=float32)"
      ]
     },
     "execution_count": 63,
     "metadata": {},
     "output_type": "execute_result"
    }
   ],
   "source": [
    "predictor.predict(test_data)"
   ]
  },
  {
   "cell_type": "markdown",
   "metadata": {},
   "source": [
    "Since the return value of our model is close to `1`, we can be certain that the review we submitted is positive."
   ]
  },
  {
   "cell_type": "markdown",
   "metadata": {},
   "source": [
    "### Delete the endpoint\n",
    "\n",
    "Of course, just like in the XGBoost notebook, once we've deployed an endpoint it continues to run until we tell it to shut down. Since we are done using our endpoint for now, we can delete it."
   ]
  },
  {
   "cell_type": "code",
   "execution_count": 64,
   "metadata": {},
   "outputs": [
    {
     "name": "stderr",
     "output_type": "stream",
     "text": [
      "estimator.delete_endpoint() will be deprecated in SageMaker Python SDK v2. Please use the delete_endpoint() function on your predictor instead.\n"
     ]
    }
   ],
   "source": [
    "estimator.delete_endpoint()"
   ]
  },
  {
   "cell_type": "markdown",
   "metadata": {},
   "source": [
    "## Step 6 (again) - Deploy the model for the web app\n",
    "\n",
    "Now that we know that our model is working, it's time to create some custom inference code so that we can send the model a review which has not been processed and have it determine the sentiment of the review.\n",
    "\n",
    "As we saw above, by default the estimator which we created, when deployed, will use the entry script and directory which we provided when creating the model. However, since we now wish to accept a string as input and our model expects a processed review, we need to write some custom inference code.\n",
    "\n",
    "We will store the code that we write in the `serve` directory. Provided in this directory is the `model.py` file that we used to construct our model, a `utils.py` file which contains the `review_to_words` and `convert_and_pad` pre-processing functions which we used during the initial data processing, and `predict.py`, the file which will contain our custom inference code. Note also that `requirements.txt` is present which will tell SageMaker what Python libraries are required by our custom inference code.\n",
    "\n",
    "When deploying a PyTorch model in SageMaker, you are expected to provide four functions which the SageMaker inference container will use.\n",
    " - `model_fn`: This function is the same function that we used in the training script and it tells SageMaker how to load our model.\n",
    " - `input_fn`: This function receives the raw serialized input that has been sent to the model's endpoint and its job is to de-serialize and make the input available for the inference code.\n",
    " - `output_fn`: This function takes the output of the inference code and its job is to serialize this output and return it to the caller of the model's endpoint.\n",
    " - `predict_fn`: The heart of the inference script, this is where the actual prediction is done and is the function which you will need to complete.\n",
    "\n",
    "For the simple website that we are constructing during this project, the `input_fn` and `output_fn` methods are relatively straightforward. We only require being able to accept a string as input and we expect to return a single value as output. You might imagine though that in a more complex application the input or output may be image data or some other binary data which would require some effort to serialize.\n",
    "\n",
    "### (TODO) Writing inference code\n",
    "\n",
    "Before writing our custom inference code, we will begin by taking a look at the code which has been provided."
   ]
  },
  {
   "cell_type": "code",
   "execution_count": 65,
   "metadata": {},
   "outputs": [
    {
     "name": "stdout",
     "output_type": "stream",
     "text": [
      "\u001b[34mimport\u001b[39;49;00m \u001b[04m\u001b[36margparse\u001b[39;49;00m\r\n",
      "\u001b[34mimport\u001b[39;49;00m \u001b[04m\u001b[36mjson\u001b[39;49;00m\r\n",
      "\u001b[34mimport\u001b[39;49;00m \u001b[04m\u001b[36mos\u001b[39;49;00m\r\n",
      "\u001b[34mimport\u001b[39;49;00m \u001b[04m\u001b[36mpickle\u001b[39;49;00m\r\n",
      "\u001b[34mimport\u001b[39;49;00m \u001b[04m\u001b[36msys\u001b[39;49;00m\r\n",
      "\u001b[34mimport\u001b[39;49;00m \u001b[04m\u001b[36msagemaker_containers\u001b[39;49;00m\r\n",
      "\u001b[34mimport\u001b[39;49;00m \u001b[04m\u001b[36mpandas\u001b[39;49;00m \u001b[34mas\u001b[39;49;00m \u001b[04m\u001b[36mpd\u001b[39;49;00m\r\n",
      "\u001b[34mimport\u001b[39;49;00m \u001b[04m\u001b[36mnumpy\u001b[39;49;00m \u001b[34mas\u001b[39;49;00m \u001b[04m\u001b[36mnp\u001b[39;49;00m\r\n",
      "\u001b[34mimport\u001b[39;49;00m \u001b[04m\u001b[36mtorch\u001b[39;49;00m\r\n",
      "\u001b[34mimport\u001b[39;49;00m \u001b[04m\u001b[36mtorch\u001b[39;49;00m\u001b[04m\u001b[36m.\u001b[39;49;00m\u001b[04m\u001b[36mnn\u001b[39;49;00m \u001b[34mas\u001b[39;49;00m \u001b[04m\u001b[36mnn\u001b[39;49;00m\r\n",
      "\u001b[34mimport\u001b[39;49;00m \u001b[04m\u001b[36mtorch\u001b[39;49;00m\u001b[04m\u001b[36m.\u001b[39;49;00m\u001b[04m\u001b[36moptim\u001b[39;49;00m \u001b[34mas\u001b[39;49;00m \u001b[04m\u001b[36moptim\u001b[39;49;00m\r\n",
      "\u001b[34mimport\u001b[39;49;00m \u001b[04m\u001b[36mtorch\u001b[39;49;00m\u001b[04m\u001b[36m.\u001b[39;49;00m\u001b[04m\u001b[36mutils\u001b[39;49;00m\u001b[04m\u001b[36m.\u001b[39;49;00m\u001b[04m\u001b[36mdata\u001b[39;49;00m\r\n",
      "\r\n",
      "\u001b[34mfrom\u001b[39;49;00m \u001b[04m\u001b[36mmodel\u001b[39;49;00m \u001b[34mimport\u001b[39;49;00m LSTMClassifier\r\n",
      "\r\n",
      "\u001b[34mfrom\u001b[39;49;00m \u001b[04m\u001b[36mutils\u001b[39;49;00m \u001b[34mimport\u001b[39;49;00m review_to_words, convert_and_pad\r\n",
      "\r\n",
      "\u001b[34mdef\u001b[39;49;00m \u001b[32mmodel_fn\u001b[39;49;00m(model_dir):\r\n",
      "    \u001b[33m\"\"\"Load the PyTorch model from the `model_dir` directory.\"\"\"\u001b[39;49;00m\r\n",
      "    \u001b[36mprint\u001b[39;49;00m(\u001b[33m\"\u001b[39;49;00m\u001b[33mLoading model.\u001b[39;49;00m\u001b[33m\"\u001b[39;49;00m)\r\n",
      "\r\n",
      "    \u001b[37m# First, load the parameters used to create the model.\u001b[39;49;00m\r\n",
      "    model_info = {}\r\n",
      "    model_info_path = os.path.join(model_dir, \u001b[33m'\u001b[39;49;00m\u001b[33mmodel_info.pth\u001b[39;49;00m\u001b[33m'\u001b[39;49;00m)\r\n",
      "    \u001b[34mwith\u001b[39;49;00m \u001b[36mopen\u001b[39;49;00m(model_info_path, \u001b[33m'\u001b[39;49;00m\u001b[33mrb\u001b[39;49;00m\u001b[33m'\u001b[39;49;00m) \u001b[34mas\u001b[39;49;00m f:\r\n",
      "        model_info = torch.load(f)\r\n",
      "\r\n",
      "    \u001b[36mprint\u001b[39;49;00m(\u001b[33m\"\u001b[39;49;00m\u001b[33mmodel_info: \u001b[39;49;00m\u001b[33m{}\u001b[39;49;00m\u001b[33m\"\u001b[39;49;00m.format(model_info))\r\n",
      "\r\n",
      "    \u001b[37m# Determine the device and construct the model.\u001b[39;49;00m\r\n",
      "    device = torch.device(\u001b[33m\"\u001b[39;49;00m\u001b[33mcuda\u001b[39;49;00m\u001b[33m\"\u001b[39;49;00m \u001b[34mif\u001b[39;49;00m torch.cuda.is_available() \u001b[34melse\u001b[39;49;00m \u001b[33m\"\u001b[39;49;00m\u001b[33mcpu\u001b[39;49;00m\u001b[33m\"\u001b[39;49;00m)\r\n",
      "    model = LSTMClassifier(model_info[\u001b[33m'\u001b[39;49;00m\u001b[33membedding_dim\u001b[39;49;00m\u001b[33m'\u001b[39;49;00m], model_info[\u001b[33m'\u001b[39;49;00m\u001b[33mhidden_dim\u001b[39;49;00m\u001b[33m'\u001b[39;49;00m], model_info[\u001b[33m'\u001b[39;49;00m\u001b[33mvocab_size\u001b[39;49;00m\u001b[33m'\u001b[39;49;00m])\r\n",
      "\r\n",
      "    \u001b[37m# Load the store model parameters.\u001b[39;49;00m\r\n",
      "    model_path = os.path.join(model_dir, \u001b[33m'\u001b[39;49;00m\u001b[33mmodel.pth\u001b[39;49;00m\u001b[33m'\u001b[39;49;00m)\r\n",
      "    \u001b[34mwith\u001b[39;49;00m \u001b[36mopen\u001b[39;49;00m(model_path, \u001b[33m'\u001b[39;49;00m\u001b[33mrb\u001b[39;49;00m\u001b[33m'\u001b[39;49;00m) \u001b[34mas\u001b[39;49;00m f:\r\n",
      "        model.load_state_dict(torch.load(f))\r\n",
      "\r\n",
      "    \u001b[37m# Load the saved word_dict.\u001b[39;49;00m\r\n",
      "    word_dict_path = os.path.join(model_dir, \u001b[33m'\u001b[39;49;00m\u001b[33mword_dict.pkl\u001b[39;49;00m\u001b[33m'\u001b[39;49;00m)\r\n",
      "    \u001b[34mwith\u001b[39;49;00m \u001b[36mopen\u001b[39;49;00m(word_dict_path, \u001b[33m'\u001b[39;49;00m\u001b[33mrb\u001b[39;49;00m\u001b[33m'\u001b[39;49;00m) \u001b[34mas\u001b[39;49;00m f:\r\n",
      "        model.word_dict = pickle.load(f)\r\n",
      "\r\n",
      "    model.to(device).eval()\r\n",
      "\r\n",
      "    \u001b[36mprint\u001b[39;49;00m(\u001b[33m\"\u001b[39;49;00m\u001b[33mDone loading model.\u001b[39;49;00m\u001b[33m\"\u001b[39;49;00m)\r\n",
      "    \u001b[34mreturn\u001b[39;49;00m model\r\n",
      "\r\n",
      "\u001b[34mdef\u001b[39;49;00m \u001b[32minput_fn\u001b[39;49;00m(serialized_input_data, content_type):\r\n",
      "    \u001b[36mprint\u001b[39;49;00m(\u001b[33m'\u001b[39;49;00m\u001b[33mDeserializing the input data.\u001b[39;49;00m\u001b[33m'\u001b[39;49;00m)\r\n",
      "    \u001b[34mif\u001b[39;49;00m content_type == \u001b[33m'\u001b[39;49;00m\u001b[33mtext/plain\u001b[39;49;00m\u001b[33m'\u001b[39;49;00m:\r\n",
      "        data = serialized_input_data.decode(\u001b[33m'\u001b[39;49;00m\u001b[33mutf-8\u001b[39;49;00m\u001b[33m'\u001b[39;49;00m)\r\n",
      "        \u001b[34mreturn\u001b[39;49;00m data\r\n",
      "    \u001b[34mraise\u001b[39;49;00m \u001b[36mException\u001b[39;49;00m(\u001b[33m'\u001b[39;49;00m\u001b[33mRequested unsupported ContentType in content_type: \u001b[39;49;00m\u001b[33m'\u001b[39;49;00m + content_type)\r\n",
      "\r\n",
      "\u001b[34mdef\u001b[39;49;00m \u001b[32moutput_fn\u001b[39;49;00m(prediction_output, accept):\r\n",
      "    \u001b[36mprint\u001b[39;49;00m(\u001b[33m'\u001b[39;49;00m\u001b[33mSerializing the generated output.\u001b[39;49;00m\u001b[33m'\u001b[39;49;00m)\r\n",
      "    \u001b[34mreturn\u001b[39;49;00m \u001b[36mstr\u001b[39;49;00m(prediction_output)\r\n",
      "\r\n",
      "\u001b[34mdef\u001b[39;49;00m \u001b[32mpredict_fn\u001b[39;49;00m(input_data, model):\r\n",
      "    \u001b[36mprint\u001b[39;49;00m(\u001b[33m'\u001b[39;49;00m\u001b[33mInferring sentiment of input data.\u001b[39;49;00m\u001b[33m'\u001b[39;49;00m)\r\n",
      "\r\n",
      "    device = torch.device(\u001b[33m\"\u001b[39;49;00m\u001b[33mcuda\u001b[39;49;00m\u001b[33m\"\u001b[39;49;00m \u001b[34mif\u001b[39;49;00m torch.cuda.is_available() \u001b[34melse\u001b[39;49;00m \u001b[33m\"\u001b[39;49;00m\u001b[33mcpu\u001b[39;49;00m\u001b[33m\"\u001b[39;49;00m)\r\n",
      "    \r\n",
      "    \u001b[34mif\u001b[39;49;00m model.word_dict \u001b[35mis\u001b[39;49;00m \u001b[34mNone\u001b[39;49;00m:\r\n",
      "        \u001b[34mraise\u001b[39;49;00m \u001b[36mException\u001b[39;49;00m(\u001b[33m'\u001b[39;49;00m\u001b[33mModel has not been loaded properly, no word_dict.\u001b[39;49;00m\u001b[33m'\u001b[39;49;00m)\r\n",
      "    \r\n",
      "    \u001b[37m# TODO: Process input_data so that it is ready to be sent to our model.\u001b[39;49;00m\r\n",
      "    \u001b[37m#       You should produce two variables:\u001b[39;49;00m\r\n",
      "    \u001b[37m#         data_X   - A sequence of length 500 which represents the converted review\u001b[39;49;00m\r\n",
      "    \u001b[37m#         data_len - The length of the review\u001b[39;49;00m\r\n",
      "\r\n",
      "    data_X = \u001b[34mNone\u001b[39;49;00m\r\n",
      "    data_len = \u001b[34mNone\u001b[39;49;00m\r\n",
      "    data_X = review_to_words(input_data)\r\n",
      "    data_X, data_len = convert_and_pad(model.word_dict, data_X)\r\n",
      "\r\n",
      "\r\n",
      "    \u001b[37m# Using data_X and data_len we construct an appropriate input tensor. Remember\u001b[39;49;00m\r\n",
      "    \u001b[37m# that our model expects input data of the form 'len, review[500]'.\u001b[39;49;00m\r\n",
      "    data_pack = np.hstack((data_len, data_X))\r\n",
      "    data_pack = data_pack.reshape(\u001b[34m1\u001b[39;49;00m, -\u001b[34m1\u001b[39;49;00m)\r\n",
      "    \r\n",
      "    data = torch.from_numpy(data_pack)\r\n",
      "    data = data.to(device)\r\n",
      "\r\n",
      "    \u001b[37m# Make sure to put the model into evaluation mode\u001b[39;49;00m\r\n",
      "    model.eval()\r\n",
      "\r\n",
      "    \u001b[37m# TODO: Compute the result of applying the model to the input data. The variable `result` should\u001b[39;49;00m\r\n",
      "    \u001b[37m#       be a numpy array which contains a single integer which is either 1 or 0\u001b[39;49;00m\r\n",
      "\r\n",
      "    result = \u001b[34mNone\u001b[39;49;00m\r\n",
      "\r\n",
      "    \u001b[34mwith\u001b[39;49;00m torch.no_grad(): \u001b[37m#This provides us memory efficient. We don't need to calculate gradient to backward. \u001b[39;49;00m\r\n",
      "        output = model.forward(data)\r\n",
      "    output = output.to(\u001b[33m'\u001b[39;49;00m\u001b[33mcpu\u001b[39;49;00m\u001b[33m'\u001b[39;49;00m)\r\n",
      "\r\n",
      "    \r\n",
      "    result = \u001b[36mint\u001b[39;49;00m(np.round(output.numpy())) \r\n",
      "    \u001b[37m#.numpy() provides retrieve tensor object as numpy array. I have taken this information from below link. \u001b[39;49;00m\r\n",
      "    \u001b[37m#https://discuss.pytorch.org/t/how-to-transform-variable-into-numpy/104\u001b[39;49;00m\r\n",
      "    \r\n",
      "    \u001b[34mreturn\u001b[39;49;00m result\r\n"
     ]
    }
   ],
   "source": [
    "!pygmentize serve/predict.py"
   ]
  },
  {
   "cell_type": "markdown",
   "metadata": {},
   "source": [
    "As mentioned earlier, the `model_fn` method is the same as the one provided in the training code and the `input_fn` and `output_fn` methods are very simple and your task will be to complete the `predict_fn` method. Make sure that you save the completed file as `predict.py` in the `serve` directory.\n",
    "\n",
    "**TODO**: Complete the `predict_fn()` method in the `serve/predict.py` file."
   ]
  },
  {
   "cell_type": "markdown",
   "metadata": {},
   "source": [
    "### Deploying the model\n",
    "\n",
    "Now that the custom inference code has been written, we will create and deploy our model. To begin with, we need to construct a new PyTorchModel object which points to the model artifacts created during training and also points to the inference code that we wish to use. Then we can call the deploy method to launch the deployment container.\n",
    "\n",
    "**NOTE**: The default behaviour for a deployed PyTorch model is to assume that any input passed to the predictor is a `numpy` array. In our case we want to send a string so we need to construct a simple wrapper around the `RealTimePredictor` class to accomodate simple strings. In a more complicated situation you may want to provide a serialization object, for example if you wanted to sent image data."
   ]
  },
  {
   "cell_type": "code",
   "execution_count": 66,
   "metadata": {},
   "outputs": [
    {
     "name": "stderr",
     "output_type": "stream",
     "text": [
      "Parameter image will be renamed to image_uri in SageMaker Python SDK v2.\n",
      "'create_image_uri' will be deprecated in favor of 'ImageURIProvider' class in SageMaker Python SDK v2.\n"
     ]
    },
    {
     "name": "stdout",
     "output_type": "stream",
     "text": [
      "---------------!"
     ]
    }
   ],
   "source": [
    "from sagemaker.predictor import RealTimePredictor\n",
    "from sagemaker.pytorch import PyTorchModel\n",
    "\n",
    "class StringPredictor(RealTimePredictor):\n",
    "    def __init__(self, endpoint_name, sagemaker_session):\n",
    "        super(StringPredictor, self).__init__(endpoint_name, sagemaker_session, content_type='text/plain')\n",
    "\n",
    "model = PyTorchModel(model_data=estimator.model_data,\n",
    "                     role = role,\n",
    "                     framework_version='0.4.0',\n",
    "                     entry_point='predict.py',\n",
    "                     source_dir='serve',\n",
    "                     predictor_cls=StringPredictor)\n",
    "predictor = model.deploy(initial_instance_count=1, instance_type='ml.m4.xlarge')"
   ]
  },
  {
   "cell_type": "markdown",
   "metadata": {},
   "source": [
    "### Testing the model\n",
    "\n",
    "Now that we have deployed our model with the custom inference code, we should test to see if everything is working. Here we test our model by loading the first `250` positive and negative reviews and send them to the endpoint, then collect the results. The reason for only sending some of the data is that the amount of time it takes for our model to process the input and then perform inference is quite long and so testing the entire data set would be prohibitive."
   ]
  },
  {
   "cell_type": "code",
   "execution_count": 67,
   "metadata": {},
   "outputs": [],
   "source": [
    "import glob\n",
    "\n",
    "def test_reviews(data_dir='../data/aclImdb', stop=250):\n",
    "    \n",
    "    results = []\n",
    "    ground = []\n",
    "    \n",
    "    # We make sure to test both positive and negative reviews    \n",
    "    for sentiment in ['pos', 'neg']:\n",
    "        \n",
    "        path = os.path.join(data_dir, 'test', sentiment, '*.txt')\n",
    "        files = glob.glob(path)\n",
    "        \n",
    "        files_read = 0\n",
    "        \n",
    "        print('Starting ', sentiment, ' files')\n",
    "        \n",
    "        # Iterate through the files and send them to the predictor\n",
    "        for f in files:\n",
    "            with open(f) as review:\n",
    "                # First, we store the ground truth (was the review positive or negative)\n",
    "                if sentiment == 'pos':\n",
    "                    ground.append(1)\n",
    "                else:\n",
    "                    ground.append(0)\n",
    "                # Read in the review and convert to 'utf-8' for transmission via HTTP\n",
    "                review_input = review.read().encode('utf-8')\n",
    "                # Send the review to the predictor and store the results\n",
    "                results.append(int(predictor.predict(review_input)))\n",
    "                \n",
    "            # Sending reviews to our endpoint one at a time takes a while so we\n",
    "            # only send a small number of reviews\n",
    "            files_read += 1\n",
    "            if files_read == stop:\n",
    "                break\n",
    "            \n",
    "    return ground, results"
   ]
  },
  {
   "cell_type": "code",
   "execution_count": 68,
   "metadata": {},
   "outputs": [
    {
     "name": "stdout",
     "output_type": "stream",
     "text": [
      "Starting  pos  files\n",
      "Starting  neg  files\n"
     ]
    }
   ],
   "source": [
    "ground, results = test_reviews()"
   ]
  },
  {
   "cell_type": "code",
   "execution_count": 69,
   "metadata": {},
   "outputs": [
    {
     "data": {
      "text/plain": [
       "0.862"
      ]
     },
     "execution_count": 69,
     "metadata": {},
     "output_type": "execute_result"
    }
   ],
   "source": [
    "from sklearn.metrics import accuracy_score\n",
    "accuracy_score(ground, results)"
   ]
  },
  {
   "cell_type": "markdown",
   "metadata": {},
   "source": [
    "As an additional test, we can try sending the `test_review` that we looked at earlier."
   ]
  },
  {
   "cell_type": "code",
   "execution_count": 70,
   "metadata": {},
   "outputs": [
    {
     "data": {
      "text/plain": [
       "b'1'"
      ]
     },
     "execution_count": 70,
     "metadata": {},
     "output_type": "execute_result"
    }
   ],
   "source": [
    "predictor.predict(test_review)"
   ]
  },
  {
   "cell_type": "code",
   "execution_count": 76,
   "metadata": {},
   "outputs": [
    {
     "name": "stdout",
     "output_type": "stream",
     "text": [
      "1 = Positive review!\n"
     ]
    }
   ],
   "source": [
    "print(int(predictor.predict(test_review)), \"= Positive review!\")\n",
    "#The result is 1 so our review is 'positive'"
   ]
  },
  {
   "cell_type": "markdown",
   "metadata": {},
   "source": [
    "Now that we know our endpoint is working as expected, we can set up the web page that will interact with it. If you don't have time to finish the project now, make sure to skip down to the end of this notebook and shut down your endpoint. You can deploy it again when you come back."
   ]
  },
  {
   "cell_type": "markdown",
   "metadata": {},
   "source": [
    "## Step 7 (again): Use the model for the web app\n",
    "\n",
    "> **TODO:** This entire section and the next contain tasks for you to complete, mostly using the AWS console.\n",
    "\n",
    "So far we have been accessing our model endpoint by constructing a predictor object which uses the endpoint and then just using the predictor object to perform inference. What if we wanted to create a web app which accessed our model? The way things are set up currently makes that not possible since in order to access a SageMaker endpoint the app would first have to authenticate with AWS using an IAM role which included access to SageMaker endpoints. However, there is an easier way! We just need to use some additional AWS services.\n",
    "\n",
    "<img src=\"Web App Diagram.svg\">\n",
    "\n",
    "The diagram above gives an overview of how the various services will work together. On the far right is the model which we trained above and which is deployed using SageMaker. On the far left is our web app that collects a user's movie review, sends it off and expects a positive or negative sentiment in return.\n",
    "\n",
    "In the middle is where some of the magic happens. We will construct a Lambda function, which you can think of as a straightforward Python function that can be executed whenever a specified event occurs. We will give this function permission to send and recieve data from a SageMaker endpoint.\n",
    "\n",
    "Lastly, the method we will use to execute the Lambda function is a new endpoint that we will create using API Gateway. This endpoint will be a url that listens for data to be sent to it. Once it gets some data it will pass that data on to the Lambda function and then return whatever the Lambda function returns. Essentially it will act as an interface that lets our web app communicate with the Lambda function.\n",
    "\n",
    "### Setting up a Lambda function\n",
    "\n",
    "The first thing we are going to do is set up a Lambda function. This Lambda function will be executed whenever our public API has data sent to it. When it is executed it will receive the data, perform any sort of processing that is required, send the data (the review) to the SageMaker endpoint we've created and then return the result.\n",
    "\n",
    "#### Part A: Create an IAM Role for the Lambda function\n",
    "\n",
    "Since we want the Lambda function to call a SageMaker endpoint, we need to make sure that it has permission to do so. To do this, we will construct a role that we can later give the Lambda function.\n",
    "\n",
    "Using the AWS Console, navigate to the **IAM** page and click on **Roles**. Then, click on **Create role**. Make sure that the **AWS service** is the type of trusted entity selected and choose **Lambda** as the service that will use this role, then click **Next: Permissions**.\n",
    "\n",
    "In the search box type `sagemaker` and select the check box next to the **AmazonSageMakerFullAccess** policy. Then, click on **Next: Review**.\n",
    "\n",
    "Lastly, give this role a name. Make sure you use a name that you will remember later on, for example `LambdaSageMakerRole`. Then, click on **Create role**.\n",
    "\n",
    "#### Part B: Create a Lambda function\n",
    "\n",
    "Now it is time to actually create the Lambda function.\n",
    "\n",
    "Using the AWS Console, navigate to the AWS Lambda page and click on **Create a function**. When you get to the next page, make sure that **Author from scratch** is selected. Now, name your Lambda function, using a name that you will remember later on, for example `sentiment_analysis_func`. Make sure that the **Python 3.6** runtime is selected and then choose the role that you created in the previous part. Then, click on **Create Function**.\n",
    "\n",
    "On the next page you will see some information about the Lambda function you've just created. If you scroll down you should see an editor in which you can write the code that will be executed when your Lambda function is triggered. In our example, we will use the code below. \n",
    "\n",
    "```python\n",
    "# We need to use the low-level library to interact with SageMaker since the SageMaker API\n",
    "# is not available natively through Lambda.\n",
    "import boto3\n",
    "\n",
    "def lambda_handler(event, context):\n",
    "\n",
    "    # The SageMaker runtime is what allows us to invoke the endpoint that we've created.\n",
    "    runtime = boto3.Session().client('sagemaker-runtime')\n",
    "\n",
    "    # Now we use the SageMaker runtime to invoke our endpoint, sending the review we were given\n",
    "    response = runtime.invoke_endpoint(EndpointName = '**ENDPOINT NAME HERE**',    # The name of the endpoint we created\n",
    "                                       ContentType = 'text/plain',                 # The data format that is expected\n",
    "                                       Body = event['body'])                       # The actual review\n",
    "\n",
    "    # The response is an HTTP response whose body contains the result of our inference\n",
    "    result = response['Body'].read().decode('utf-8')\n",
    "\n",
    "    return {\n",
    "        'statusCode' : 200,\n",
    "        'headers' : { 'Content-Type' : 'text/plain', 'Access-Control-Allow-Origin' : '*' },\n",
    "        'body' : result\n",
    "    }\n",
    "```\n",
    "\n",
    "Once you have copy and pasted the code above into the Lambda code editor, replace the `**ENDPOINT NAME HERE**` portion with the name of the endpoint that we deployed earlier. You can determine the name of the endpoint using the code cell below."
   ]
  },
  {
   "cell_type": "code",
   "execution_count": 77,
   "metadata": {},
   "outputs": [
    {
     "data": {
      "text/plain": [
       "'sagemaker-pytorch-2020-10-02-12-12-50-536'"
      ]
     },
     "execution_count": 77,
     "metadata": {},
     "output_type": "execute_result"
    }
   ],
   "source": [
    "predictor.endpoint"
   ]
  },
  {
   "cell_type": "markdown",
   "metadata": {},
   "source": [
    "Once you have added the endpoint name to the Lambda function, click on **Save**. Your Lambda function is now up and running. Next we need to create a way for our web app to execute the Lambda function.\n",
    "\n",
    "### Setting up API Gateway\n",
    "\n",
    "Now that our Lambda function is set up, it is time to create a new API using API Gateway that will trigger the Lambda function we have just created.\n",
    "\n",
    "Using AWS Console, navigate to **Amazon API Gateway** and then click on **Get started**.\n",
    "\n",
    "On the next page, make sure that **New API** is selected and give the new api a name, for example, `sentiment_analysis_api`. Then, click on **Create API**.\n",
    "\n",
    "Now we have created an API, however it doesn't currently do anything. What we want it to do is to trigger the Lambda function that we created earlier.\n",
    "\n",
    "Select the **Actions** dropdown menu and click **Create Method**. A new blank method will be created, select its dropdown menu and select **POST**, then click on the check mark beside it.\n",
    "\n",
    "For the integration point, make sure that **Lambda Function** is selected and click on the **Use Lambda Proxy integration**. This option makes sure that the data that is sent to the API is then sent directly to the Lambda function with no processing. It also means that the return value must be a proper response object as it will also not be processed by API Gateway.\n",
    "\n",
    "Type the name of the Lambda function you created earlier into the **Lambda Function** text entry box and then click on **Save**. Click on **OK** in the pop-up box that then appears, giving permission to API Gateway to invoke the Lambda function you created.\n",
    "\n",
    "The last step in creating the API Gateway is to select the **Actions** dropdown and click on **Deploy API**. You will need to create a new Deployment stage and name it anything you like, for example `prod`.\n",
    "\n",
    "You have now successfully set up a public API to access your SageMaker model. Make sure to copy or write down the URL provided to invoke your newly created public API as this will be needed in the next step. This URL can be found at the top of the page, highlighted in blue next to the text **Invoke URL**."
   ]
  },
  {
   "cell_type": "markdown",
   "metadata": {},
   "source": [
    "## Step 4: Deploying our web app\n",
    "\n",
    "Now that we have a publicly available API, we can start using it in a web app. For our purposes, we have provided a simple static html file which can make use of the public api you created earlier.\n",
    "\n",
    "In the `website` folder there should be a file called `index.html`. Download the file to your computer and open that file up in a text editor of your choice. There should be a line which contains **\\*\\*REPLACE WITH PUBLIC API URL\\*\\***. Replace this string with the url that you wrote down in the last step and then save the file.\n",
    "\n",
    "Now, if you open `index.html` on your local computer, your browser will behave as a local web server and you can use the provided site to interact with your SageMaker model.\n",
    "\n",
    "If you'd like to go further, you can host this html file anywhere you'd like, for example using github or hosting a static site on Amazon's S3. Once you have done this you can share the link with anyone you'd like and have them play with it too!\n",
    "\n",
    "> **Important Note** In order for the web app to communicate with the SageMaker endpoint, the endpoint has to actually be deployed and running. This means that you are paying for it. Make sure that the endpoint is running when you want to use the web app but that you shut it down when you don't need it, otherwise you will end up with a surprisingly large AWS bill.\n",
    "\n",
    "**TODO:** Make sure that you include the edited `index.html` file in your project submission."
   ]
  },
  {
   "cell_type": "markdown",
   "metadata": {},
   "source": [
    "Now that your web app is working, trying playing around with it and see how well it works.\n",
    "\n",
    "**Question**: Give an example of a review that you entered into your web app. What was the predicted sentiment of your example review?"
   ]
  },
  {
   "attachments": {
    "image.png": {
     "image/png": "[encoded data removed]"
    }
   },
   "cell_type": "markdown",
   "metadata": {},
   "source": [
    "**Answer:** I tried lots of review to test my application. Some of my tested reviews are below. \n",
    "\n",
    "1- My review was as below and result was negative. I think it is complicated review so even i am not sure it is negative or positive. \n",
    "\"I am not sure about the movie. Some scenes are really facinating and awesome however some of them are sucks. So ı don't know it is good or not. I think it depends personality. Still if you feel bored, it is not a bad choice to watch this film.\"\n",
    "\n",
    "2- This review is real and i took it from imdb for the lord of the rings movie.  The result was positive.\n",
    "\"See this film! Greatest film ever made? How can one make a claim like that! Silly really; as silly as claiming that `The Lord of the Rings' is the greatest book ever written. Can't one simply love a story, enjoy reading it a number of times amd lose oneself in it. One CAN claim that it is the greatest work in its genre as is the film.\"\n",
    "\n",
    "3- This review is real and i took it from rottentomatoes for lucifer tv series. The result was positive.\n",
    "\"I can admit that I wasn't a fan of the show in the beginning. But the Devil has a way of getting under your skin-and I'm definitely looking forward to another season of Lucifer.\"\n",
    "\n",
    "4- This review is real and i took it from rottentomatoes for lucifer tv series.  The result was negative.\n",
    "\"You'd be better served to watch any of the other detective dramas to which I've compared the lifeless \"Lucifer.\" Just heed my warning: Stay away from this mid-season mediocrity fest.\"\n",
    "\n",
    "\n",
    "Just an example screenshot of my trials. \n",
    "![image.png](attachment:image.png)"
   ]
  },
  {
   "cell_type": "markdown",
   "metadata": {},
   "source": [
    "### Delete the endpoint\n",
    "\n",
    "Remember to always shut down your endpoint if you are no longer using it. You are charged for the length of time that the endpoint is running so if you forget and leave it on you could end up with an unexpectedly large bill."
   ]
  },
  {
   "cell_type": "code",
   "execution_count": 78,
   "metadata": {},
   "outputs": [],
   "source": [
    "predictor.delete_endpoint()"
   ]
  }
 ],
 "metadata": {
  "kernelspec": {
   "display_name": "conda_pytorch_p36",
   "language": "python",
   "name": "conda_pytorch_p36"
  },
  "language_info": {
   "codemirror_mode": {
    "name": "ipython",
    "version": 3
   },
   "file_extension": ".py",
   "mimetype": "text/x-python",
   "name": "python",
   "nbconvert_exporter": "python",
   "pygments_lexer": "ipython3",
   "version": "3.6.10"
  }
 },
 "nbformat": 4,
 "nbformat_minor": 2
}
